{
 "cells": [
  {
   "cell_type": "markdown",
   "metadata": {
    "slideshow": {
     "slide_type": "slide"
    }
   },
   "source": [
    "# Packaging\n",
    "\n",
    "In this lesson we'll learn about\n",
    "* Modules\n",
    "* Packages\n",
    "* Sub packages\n",
    "* What directory structure to use for your packages\n",
    "* How to write a setup.py file\n",
    "* How to install packages\n",
    "* Adding exectuables to your packages"
   ]
  },
  {
   "cell_type": "markdown",
   "metadata": {
    "slideshow": {
     "slide_type": "slide"
    }
   },
   "source": [
    "## Modules\n",
    "\n",
    "### What?\n",
    "\n",
    "Packages and modules are used in python to facilitate modular programming. \n",
    "\n",
    "Modular programming is a software design technique that emphasizes separating the functionality of a program into independent, interchangeable modules, such that each contains everything necessary to execute only one aspect of the desired functionality. [Wikipedia](https://en.wikipedia.org/wiki/Modular_programming)"
   ]
  },
  {
   "cell_type": "markdown",
   "metadata": {
    "slideshow": {
     "slide_type": "slide"
    }
   },
   "source": [
    "### Why?\n",
    "\n",
    "This brings several advantages:\n",
    "\n",
    "1. Simplicity: It's much easier to focus on one small part of a problem rather than the whole program at once. You just need to understand how the section you are looking at works rather than the entire code base.\n",
    "\n",
    "2. Maintainability: When you break up a problem into many smaller problems, typically each piece of code is logically separated from the others. This means making changes to one module is less likely to impact the operations of the others. Meaning many people can work on a project without effecting each other, it's even possible that you have no idea how the rest of the application works, but can understand the module you are working on.\n",
    "\n",
    "3. Reusability: Smaller pieces of code that do one (or a small number of) thing can easily be reused elsewhere. This allows you to reuse the code in the application, or even outside of the application in other solutions that are being developed.\n",
    "\n",
    "4. Scoping: We can resuse variable and function names by using separate namespaces. This means that we have less chance of having name collisions in our application."
   ]
  },
  {
   "cell_type": "markdown",
   "metadata": {
    "slideshow": {
     "slide_type": "slide"
    }
   },
   "source": [
    "### How can we use them?\n",
    "\n",
    "There are 3 different types of module that can be used in python, normally when creating your own, it will be the first. \n",
    "\n",
    "1. A pure python module\n",
    "2. A C/C++ module that is compiled and loaded at run time. (e.g. numpy)\n",
    "3. A built-in module that is part of the interpretter. (asyncio)\n",
    "\n",
    "The implementation is abstracted from us when we use them in python. They are all brought in using the same keyword `import`.\n",
    "\n",
    "To create a pure python module all we need to do is create a file with some python code in it and name it with the `.py` extension."
   ]
  },
  {
   "cell_type": "markdown",
   "metadata": {
    "slideshow": {
     "slide_type": "subslide"
    }
   },
   "source": [
    "quotes.py\n",
    "\n",
    "```python\n",
    "single_quote = \"Easy things make life harder, hard things make life easier\"\n",
    "multi_quote = [\"Collect underpants\", \"?\", \"Profit\"]\n",
    "\n",
    "def foo():\n",
    "    print(\"bar\")\n",
    "    \n",
    "class Bar():\n",
    "    pass\n",
    "```\n",
    "\n",
    "In the quotes module we have defined a string, a list, a function and a class.\n",
    "\n",
    "We can then use these later (assuming your setup is correct, which we'll come to)."
   ]
  },
  {
   "cell_type": "code",
   "execution_count": 4,
   "metadata": {
    "slideshow": {
     "slide_type": "subslide"
    }
   },
   "outputs": [
    {
     "name": "stdout",
     "output_type": "stream",
     "text": [
      "Easy things make life harder, hard things make life easier\n",
      "['Collect underpants', '?', 'Profit']\n",
      "bar\n",
      "<quotes.Bar object at 0x7fb0dff61940>\n"
     ]
    }
   ],
   "source": [
    "\n",
    "import quotes\n",
    "\n",
    "print(quotes.single_quote)\n",
    "\n",
    "print(quotes.multi_quote)\n",
    "\n",
    "quotes.foo()\n",
    "\n",
    "my_class = quotes.Bar()\n",
    "print(my_class)\n"
   ]
  },
  {
   "cell_type": "markdown",
   "metadata": {
    "slideshow": {
     "slide_type": "slide"
    }
   },
   "source": [
    "### sys.path\n",
    "\n",
    "When you run the command\n",
    "\n",
    "```python\n",
    "import quotes\n",
    "```\n",
    "\n",
    "The interpreter will search for a file called `quotes.py` in\n",
    "\n",
    "1. The current directory (or directory in which the script resides).\n",
    "2. If set, a list of directories in the environment variable `PYTHONPATH`.\n",
    "3. A list of directories configured at installation time for your python environment. Installation time includes when a new virtual environment is created.\n",
    "\n",
    "The list of directories can be seen in python using the sys module\n",
    "\n",
    "```python\n",
    "import sys\n",
    "print(sys.path)\n",
    "```\n",
    "```bash\n",
    "['', '/Users/mrobinson/source/work/training/python/venv/lib/python37.zip', '/Users/mrobinson/source/work/training/python/venv/lib/python3.7', '/Users/mrobinson/source/work/training/python/venv/lib/python3.7/lib-dynload', '/usr/local/Cellar/python/3.7.2_2/Frameworks/Python.framework/Versions/3.7/lib/python3.7', '/Users/mrobinson/source/work/training/python/venv/lib/python3.7/site-packages']\n",
    "```\n",
    "\n",
    "So the easiest way to get your module recognised is to put it in the same directory as the script you are running.\n",
    "\n",
    "You *can* modify your sys.path, but it's generally not recommended."
   ]
  },
  {
   "cell_type": "markdown",
   "metadata": {
    "slideshow": {
     "slide_type": "slide"
    }
   },
   "source": [
    "### Using import (and namespaces)\n",
    "#### Simplest form\n",
    "\n",
    "There are many ways we can use import, the simplest is \n",
    "```python\n",
    "import some_module\n",
    "```\n",
    "\n",
    "When importing in this fashion, the symbol table (the list of functions, variables, class) are not loaded into our namespace. This means to reference any of the symbols from the module we must prefix with the module name and a `.`, this is called *dot notation*.\n",
    "\n",
    "```python\n",
    "import some_module\n",
    "\n",
    "some_module.some_function()\n",
    "print(some_module.some_variable)\n",
    "```\n",
    "\n",
    "If you don't do this you will see a `NameError: name 'something' is not defined` error.\n",
    "\n",
    "It is possible, though *not* recommended to load several modules on the same line by using commas\n",
    "\n",
    "```python\n",
    "import re, sys, requests, pandas\n",
    "```"
   ]
  },
  {
   "cell_type": "markdown",
   "metadata": {
    "slideshow": {
     "slide_type": "slide"
    }
   },
   "source": [
    "#### Using the from keyword\n",
    "This allows us to import specific parts of a module and adds it directly to our namespace, if we go back to our quotes example."
   ]
  },
  {
   "cell_type": "code",
   "execution_count": 5,
   "metadata": {},
   "outputs": [
    {
     "name": "stdout",
     "output_type": "stream",
     "text": [
      "['Collect underpants', '?', 'Profit']\n"
     ]
    },
    {
     "ename": "NameError",
     "evalue": "name 'single_quote' is not defined",
     "output_type": "error",
     "traceback": [
      "\u001b[0;31m---------------------------------------------------------------------------\u001b[0m",
      "\u001b[0;31mNameError\u001b[0m                                 Traceback (most recent call last)",
      "\u001b[0;32m<ipython-input-5-39ff4bfc8b17>\u001b[0m in \u001b[0;36m<module>\u001b[0;34m\u001b[0m\n\u001b[1;32m      1\u001b[0m \u001b[0;32mfrom\u001b[0m \u001b[0mquotes\u001b[0m \u001b[0;32mimport\u001b[0m \u001b[0mmulti_quote\u001b[0m\u001b[0;34m\u001b[0m\u001b[0;34m\u001b[0m\u001b[0m\n\u001b[1;32m      2\u001b[0m \u001b[0mprint\u001b[0m\u001b[0;34m(\u001b[0m\u001b[0mmulti_quote\u001b[0m\u001b[0;34m)\u001b[0m\u001b[0;34m\u001b[0m\u001b[0;34m\u001b[0m\u001b[0m\n\u001b[0;32m----> 3\u001b[0;31m \u001b[0mprint\u001b[0m\u001b[0;34m(\u001b[0m\u001b[0msingle_quote\u001b[0m\u001b[0;34m)\u001b[0m\u001b[0;34m\u001b[0m\u001b[0;34m\u001b[0m\u001b[0m\n\u001b[0m",
      "\u001b[0;31mNameError\u001b[0m: name 'single_quote' is not defined"
     ]
    }
   ],
   "source": [
    "from quotes import multi_quote\n",
    "print(multi_quote)\n",
    "print(single_quote)"
   ]
  },
  {
   "cell_type": "markdown",
   "metadata": {},
   "source": [
    "You can see here, we have not used the *dot notation* when referencing multi_quote. But also, we have not been able to print the single_quote as it's not been imported.\n",
    "\n",
    "It is fine to import multiple things from a single module using commas while using from\n",
    "\n",
    "```python\n",
    "from my_lib import some_function, function_some, funct_some_oin\n",
    "```"
   ]
  },
  {
   "cell_type": "markdown",
   "metadata": {
    "slideshow": {
     "slide_type": "slide"
    }
   },
   "source": [
    "When importing modules this way, because we're adding to the global namespace, things can be overwritten. Take this next example."
   ]
  },
  {
   "cell_type": "code",
   "execution_count": 6,
   "metadata": {},
   "outputs": [
    {
     "name": "stdout",
     "output_type": "stream",
     "text": [
      "Easy things make life harder, hard things make life easier\n"
     ]
    }
   ],
   "source": [
    "single_quote = \"Work is the curse of the drinking classes.\"\n",
    "\n",
    "from quotes import single_quote\n",
    "\n",
    "print(single_quote)"
   ]
  },
  {
   "cell_type": "markdown",
   "metadata": {},
   "source": [
    "This would not be the case if we had just `import quotes`."
   ]
  },
  {
   "cell_type": "code",
   "execution_count": 9,
   "metadata": {},
   "outputs": [
    {
     "name": "stdout",
     "output_type": "stream",
     "text": [
      "Work is the curse of the drinking classes.\n",
      "Easy things make life harder, hard things make life easier\n"
     ]
    }
   ],
   "source": [
    "single_quote = \"Work is the curse of the drinking classes.\"\n",
    "\n",
    "import quotes\n",
    "\n",
    "print(single_quote)\n",
    "print(quotes.single_quote)"
   ]
  },
  {
   "cell_type": "markdown",
   "metadata": {
    "slideshow": {
     "slide_type": "subslide"
    }
   },
   "source": [
    "You can also import everything from a module by using a `*`, however this is *very bad* idea. You can see from the above example that if we imported everything from a module, it would be very easy to overwrite something we already have defined. \n",
    "\n",
    "There are other reasons you shouldn't `from blah import *`, such as readability and traceability. "
   ]
  },
  {
   "cell_type": "markdown",
   "metadata": {
    "slideshow": {
     "slide_type": "slide"
    }
   },
   "source": [
    "#### Using the as keyword\n",
    "\n",
    "There are two ways this can be used. In both ways you are importing somethings `as` another name, such as the name suggests. \n",
    "\n",
    "This allows you to change the name it is reference by in your namespace. \n",
    "\n",
    "This can be useful for packages with long names or if you already have something in the namespace with the same name. "
   ]
  },
  {
   "cell_type": "code",
   "execution_count": 6,
   "metadata": {},
   "outputs": [
    {
     "name": "stdout",
     "output_type": "stream",
     "text": [
      "Easy things make life harder, hard things make life easier \n",
      " ['Collect underpants', '?', 'Profit']\n",
      "<quotes.Bar object at 0x10dd071d0>\n"
     ]
    }
   ],
   "source": [
    "from quotes import single_quote as single, multi_quote as multi, Bar as Foo\n",
    "\n",
    "print(f\"{single} \\n {multi}\")\n",
    "print(Foo())"
   ]
  },
  {
   "cell_type": "code",
   "execution_count": 5,
   "metadata": {},
   "outputs": [
    {
     "name": "stdout",
     "output_type": "stream",
     "text": [
      "bar\n"
     ]
    }
   ],
   "source": [
    "import quotes as things_someone_else_said\n",
    "\n",
    "things_someone_else_said.foo()"
   ]
  },
  {
   "cell_type": "markdown",
   "metadata": {
    "slideshow": {
     "slide_type": "slide"
    }
   },
   "source": [
    "#### dir()\n",
    "\n",
    "This is a very useful built in function that can show the current symbol table. It can be exectuted on an object by passing it in, or executed on the current namespace by running it with no arguments."
   ]
  },
  {
   "cell_type": "code",
   "execution_count": 7,
   "metadata": {},
   "outputs": [
    {
     "data": {
      "text/plain": [
       "['Foo',\n",
       " 'In',\n",
       " 'Out',\n",
       " '_',\n",
       " '__',\n",
       " '___',\n",
       " '__builtin__',\n",
       " '__builtins__',\n",
       " '__doc__',\n",
       " '__loader__',\n",
       " '__name__',\n",
       " '__package__',\n",
       " '__spec__',\n",
       " '_dh',\n",
       " '_i',\n",
       " '_i1',\n",
       " '_i2',\n",
       " '_i3',\n",
       " '_i4',\n",
       " '_i5',\n",
       " '_i6',\n",
       " '_i7',\n",
       " '_ih',\n",
       " '_ii',\n",
       " '_iii',\n",
       " '_oh',\n",
       " 'exit',\n",
       " 'get_ipython',\n",
       " 'multi',\n",
       " 'quit',\n",
       " 'single',\n",
       " 'single_quote',\n",
       " 'things_someone_else_said']"
      ]
     },
     "execution_count": 7,
     "metadata": {},
     "output_type": "execute_result"
    }
   ],
   "source": [
    "dir()"
   ]
  },
  {
   "cell_type": "code",
   "execution_count": 8,
   "metadata": {
    "slideshow": {
     "slide_type": "subslide"
    }
   },
   "outputs": [
    {
     "data": {
      "text/plain": [
       "['Bar',\n",
       " '__builtins__',\n",
       " '__cached__',\n",
       " '__doc__',\n",
       " '__file__',\n",
       " '__loader__',\n",
       " '__name__',\n",
       " '__package__',\n",
       " '__spec__',\n",
       " 'foo',\n",
       " 'multi_quote',\n",
       " 'single_quote']"
      ]
     },
     "execution_count": 8,
     "metadata": {},
     "output_type": "execute_result"
    }
   ],
   "source": [
    "import quotes\n",
    "dir(quotes)"
   ]
  },
  {
   "cell_type": "markdown",
   "metadata": {
    "slideshow": {
     "slide_type": "slide"
    }
   },
   "source": [
    "#### Scripts\n",
    "\n",
    "Any file that ends in a .py can also be a script. The problem with this is that when we import a module, all the python code inside that module is executed at run time.\n",
    "\n",
    "So if we had a script like this:\n",
    "\n",
    "```python\n",
    "local_zealot = 'Wizard'\n",
    "\n",
    "def main():\n",
    "    print(f\" We're off to see the {local_zealot}\")\n",
    "    \n",
    "main()\n",
    "```\n",
    "\n",
    "and we wanted to import it in another application so we could reuse the `local_zealot` variable, we'd get this printed to screen once it was imported:\n",
    "\n",
    "```\n",
    "We're off to see the Wizard\n",
    "```\n",
    "\n",
    "You may have see the following code in places\n",
    "\n",
    "```python\n",
    "if __name__ == '__main__':\n",
    "    main()\n",
    "```\n",
    "\n",
    "This is to prevent against code running when we don't want it to. So in this case, we could import the module to get the `local_zealot` variable in one app. But we could still run the module (script) to use it's orginal functionality. The finished script would look like this :\n",
    "\n",
    "```python\n",
    "local_zealot = 'Wizard'\n",
    "\n",
    "def main():\n",
    "    print(f\" We're off to see the {local_zealot}\")\n",
    "    \n",
    "if __name__ == '__main__':\n",
    "    main()\n",
    "```\n",
    "\n",
    "This is of course a trivial example, but if you had a large set of functions and classes in the file you can see how this could be useful. \n",
    "\n",
    "Often this is used for unit testing, where the part that is run via the if statement, executes the tests. "
   ]
  },
  {
   "cell_type": "markdown",
   "metadata": {
    "slideshow": {
     "slide_type": "slide"
    }
   },
   "source": [
    "## Packages\n",
    "\n",
    "Once the number of modules in project grows, it can become a bit messy if they're all in one directory. This is where packages come in. \n",
    "\n",
    "Packages are a way to organise modules and namespaces. For all intents and purposes, a package is a file system directory that contains a number of modules. \n",
    "\n",
    "They allow hierarchical structure using *dot notation*. "
   ]
  }
 ],
 "metadata": {
  "celltoolbar": "Slideshow",
  "kernelspec": {
   "display_name": "Python 3",
   "language": "python",
   "name": "python3"
  },
  "language_info": {
   "codemirror_mode": {
    "name": "ipython",
    "version": 3
   },
   "file_extension": ".py",
   "mimetype": "text/x-python",
   "name": "python",
   "nbconvert_exporter": "python",
   "pygments_lexer": "ipython3",
   "version": "3.6.5"
  }
 },
 "nbformat": 4,
 "nbformat_minor": 2
}
