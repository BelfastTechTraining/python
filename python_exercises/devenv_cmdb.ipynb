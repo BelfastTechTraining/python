{
 "cells": [
  {
   "cell_type": "markdown",
   "metadata": {},
   "source": [
    "## Devenv setup\n",
    "\n",
    "Using the slides in the 03-devenv-style-workflow lesson. \n",
    "\n",
    "* Set up an editor\n",
    "* Install the latest version of python\n",
    "* Set up a virtual environment\n",
    "* Install the latest version of the essentials_cmdb library into your venv (using proofpoint pip)\n",
    "* Create a small script that connects to CMDB using your username and password\n",
    "* Get a list of all of the machines created by you\n",
    "* Update the notes field of one of these machines"
   ]
  },
  {
   "cell_type": "code",
   "execution_count": null,
   "metadata": {},
   "outputs": [],
   "source": []
  }
 ],
 "metadata": {
  "kernelspec": {
   "display_name": "Python 3",
   "language": "python",
   "name": "python3"
  },
  "language_info": {
   "codemirror_mode": {
    "name": "ipython",
    "version": 3
   },
   "file_extension": ".py",
   "mimetype": "text/x-python",
   "name": "python",
   "nbconvert_exporter": "python",
   "pygments_lexer": "ipython3",
   "version": "3.6.7"
  }
 },
 "nbformat": 4,
 "nbformat_minor": 2
}
