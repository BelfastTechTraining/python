{
 "cells": [
  {
   "cell_type": "markdown",
   "metadata": {},
   "source": [
    "Write a function that takes a string and capitalises the first character of the string and ensures the remaining characters are converted to lower case.\n",
    "\n",
    "Use the following test data:\n",
    "\n",
    "```\n",
    "    UpperFirst(\"test1\")\n",
    "    UpperFirst(\"mIxEdCaSe\")\n",
    "    UpperFirst(\"UPPER\")\n",
    "    UpperFirst(\"lower\")\n",
    "    UpperFirst(\"oPPOSITE\")\n",
    "```"
   ]
  },
  {
   "cell_type": "code",
   "execution_count": null,
   "metadata": {},
   "outputs": [],
   "source": []
  }
 ],
 "metadata": {
  "kernelspec": {
   "display_name": "Python 3",
   "language": "python",
   "name": "python3"
  },
  "language_info": {
   "codemirror_mode": {
    "name": "ipython",
    "version": 3
   },
   "file_extension": ".py",
   "mimetype": "text/x-python",
   "name": "python",
   "nbconvert_exporter": "python",
   "pygments_lexer": "ipython3",
   "version": "3.7.2"
  }
 },
 "nbformat": 4,
 "nbformat_minor": 2
}
