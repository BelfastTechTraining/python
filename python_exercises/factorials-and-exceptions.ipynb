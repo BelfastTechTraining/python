{
 "cells": [
  {
   "cell_type": "code",
   "execution_count": 1,
   "metadata": {
    "slideshow": {
     "slide_type": "notes"
    }
   },
   "outputs": [
    {
     "data": {
      "text/html": [
       "<script>\n",
       "code_show=true; \n",
       "function code_toggle() {\n",
       "    if (code_show){\n",
       "        $('div.cell.code_cell.rendered.selected div.input').hide();\n",
       "    } else {\n",
       "        $('div.cell.code_cell.rendered.selected div.input').show();\n",
       "    }\n",
       "    code_show = !code_show\n",
       "} \n",
       "$( document ).ready(code_toggle);\n",
       "</script><a href=\"javascript:code_toggle()\">_</a>"
      ],
      "text/plain": [
       "<IPython.core.display.HTML object>"
      ]
     },
     "metadata": {},
     "output_type": "display_data"
    }
   ],
   "source": [
    "from IPython.display import HTML\n",
    "from IPython.display import display\n",
    "\n",
    "# Taken from https://stackoverflow.com/questions/31517194/how-to-hide-one-specific-cell-input-or-output-in-ipython-notebook\n",
    "tag = HTML('''<script>\n",
    "code_show=true; \n",
    "function code_toggle() {\n",
    "    if (code_show){\n",
    "        $('div.cell.code_cell.rendered.selected div.input').hide();\n",
    "    } else {\n",
    "        $('div.cell.code_cell.rendered.selected div.input').show();\n",
    "    }\n",
    "    code_show = !code_show\n",
    "} \n",
    "$( document ).ready(code_toggle);\n",
    "</script><a href=\"javascript:code_toggle()\">_</a>''')\n",
    "display(tag)"
   ]
  },
  {
   "cell_type": "markdown",
   "metadata": {
    "slideshow": {
     "slide_type": "slide"
    }
   },
   "source": [
    "# PART I\n",
    "Write a `factorial()` function that calculates the factorial of an integer in the range 2 to 10.\n",
    "\n",
    "The [factorial](https://en.wikipedia.org/wiki/Factorial) of a funciton is defined as:\n",
    "> ... the product of all positive integers less than or equal to n.\n",
    "\n",
    "For example the factorial of 5 is equal to  `1 * 2 * 3 * 4 * 5` which is `120`"
   ]
  },
  {
   "cell_type": "code",
   "execution_count": 70,
   "metadata": {
    "slideshow": {
     "slide_type": "fragment"
    }
   },
   "outputs": [
    {
     "name": "stdout",
     "output_type": "stream",
     "text": [
      "2\n",
      "6\n",
      "120\n",
      "3628800\n"
     ]
    }
   ],
   "source": [
    "print(factorial(2))\n",
    "print(factorial(3))\n",
    "print(factorial(5))\n",
    "print(factorial(10))"
   ]
  },
  {
   "cell_type": "markdown",
   "metadata": {
    "slideshow": {
     "slide_type": "fragment"
    }
   },
   "source": [
    "# Part II\n",
    "\n",
    "Take your `factorial()` function and modify it to:\n",
    "* Raise a `ValueError` if the provided number is greater than 10.\n",
    "* Raise an `ArithmeticError` if the provided number is negative.\n",
    "\n",
    "The provided code should catch your exceptions and run cleanly. "
   ]
  },
  {
   "cell_type": "code",
   "execution_count": 71,
   "metadata": {
    "slideshow": {
     "slide_type": "fragment"
    }
   },
   "outputs": [
    {
     "name": "stdout",
     "output_type": "stream",
     "text": [
      "Correctly raised a ValueError for values greater than 10.\n",
      "Correctly raised a ArithmeticError for negative values.\n"
     ]
    }
   ],
   "source": [
    "# your function should go here\n",
    "#\n",
    "# def factorial(num):\n",
    "#     return \n",
    "\n",
    "\n",
    "try:\n",
    "    factorial(13)\n",
    "except ValueError:\n",
    "    print(\"Correctly raised a ValueError for values greater than 10.\")\n",
    "\n",
    "try:\n",
    "    factorial(-1)\n",
    "except ArithmeticError:\n",
    "    print(\"Correctly raised a ArithmeticError for negative values.\")"
   ]
  }
 ],
 "metadata": {
  "kernelspec": {
   "display_name": "Python 3",
   "language": "python",
   "name": "python3"
  },
  "language_info": {
   "codemirror_mode": {
    "name": "ipython",
    "version": 3
   },
   "file_extension": ".py",
   "mimetype": "text/x-python",
   "name": "python",
   "nbconvert_exporter": "python",
   "pygments_lexer": "ipython3",
   "version": "3.7.2"
  }
 },
 "nbformat": 4,
 "nbformat_minor": 2
}
