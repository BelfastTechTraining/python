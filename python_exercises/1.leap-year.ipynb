{
 "cells": [
  {
   "cell_type": "markdown",
   "metadata": {},
   "source": [
    "## Part I\n",
    "Write a program that inputs a 4 digit year and then calculates whether or not it is a leap year.\n",
    "\n",
    "\n",
    "\n",
    "### To determine whether a year is a leap year, follow these steps: \n",
    "1. If the year is evenly divisible by 4, go to step 2. Otherwise, go to step 5.\n",
    "2. If the year is evenly divisible by 100, go to step 3. Otherwise, go to step 4.\n",
    "3. If the year is evenly divisible by 400, go to step 4. Otherwise, go to step 5.\n",
    "4. The year is a leap year (it has 366 days).\n",
    "5. The year is not a leap year (it has 365 days).\n"
   ]
  },
  {
   "cell_type": "code",
   "execution_count": null,
   "metadata": {},
   "outputs": [],
   "source": [
    "year = 1993\n",
    "if year % 4 == 0:\n",
    "    if year % 100 = 0:\n",
    "        if year % 400 = 0:\n",
    "elif "
   ]
  },
  {
   "cell_type": "markdown",
   "metadata": {},
   "source": [
    "## Part II\n",
    "Using a variation of the above program, calculate the number of days in the inclusive date range '1st January 2000' to '31st December 2999'."
   ]
  },
  {
   "cell_type": "code",
   "execution_count": null,
   "metadata": {},
   "outputs": [],
   "source": []
  }
 ],
 "metadata": {
  "kernelspec": {
   "display_name": "Python 3",
   "language": "python",
   "name": "python3"
  },
  "language_info": {
   "codemirror_mode": {
    "name": "ipython",
    "version": 3
   },
   "file_extension": ".py",
   "mimetype": "text/x-python",
   "name": "python",
   "nbconvert_exporter": "python",
   "pygments_lexer": "ipython3",
   "version": "3.7.2"
  }
 },
 "nbformat": 4,
 "nbformat_minor": 2
}
