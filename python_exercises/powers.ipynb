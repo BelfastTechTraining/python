{
 "cells": [
  {
   "cell_type": "code",
   "execution_count": 1,
   "metadata": {
    "slideshow": {
     "slide_type": "notes"
    }
   },
   "outputs": [
    {
     "data": {
      "text/html": [
       "<script>\n",
       "code_show=true; \n",
       "function code_toggle() {\n",
       "    if (code_show){\n",
       "        $('div.cell.code_cell.rendered.selected div.input').hide();\n",
       "    } else {\n",
       "        $('div.cell.code_cell.rendered.selected div.input').show();\n",
       "    }\n",
       "    code_show = !code_show\n",
       "} \n",
       "$( document ).ready(code_toggle);\n",
       "</script><a href=\"javascript:code_toggle()\">_</a>"
      ],
      "text/plain": [
       "<IPython.core.display.HTML object>"
      ]
     },
     "metadata": {},
     "output_type": "display_data"
    }
   ],
   "source": [
    "from IPython.display import HTML\n",
    "from IPython.display import display\n",
    "from exercise_solutions import *\n",
    "# Taken from https://stackoverflow.com/questions/31517194/how-to-hide-one-specific-cell-input-or-output-in-ipython-notebook\n",
    "tag = HTML('''<script>\n",
    "code_show=true; \n",
    "function code_toggle() {\n",
    "    if (code_show){\n",
    "        $('div.cell.code_cell.rendered.selected div.input').hide();\n",
    "    } else {\n",
    "        $('div.cell.code_cell.rendered.selected div.input').show();\n",
    "    }\n",
    "    code_show = !code_show\n",
    "} \n",
    "$( document ).ready(code_toggle);\n",
    "</script><a href=\"javascript:code_toggle()\">_</a>''')\n",
    "display(tag)"
   ]
  },
  {
   "cell_type": "markdown",
   "metadata": {
    "slideshow": {
     "slide_type": "slide"
    }
   },
   "source": [
    "Write a program that prints out the square, cubes and fourth power of the first 20 integers.\n",
    "\n",
    "The output should look like:\n",
    "```\n",
    "1: 1, 1, 1\n",
    "2: 4, 8, 16\n",
    "3: 9, 27, 81\n",
    "4: 16, 64, 256\n",
    "5: 25, 125, 625\n",
    "\n",
    "```"
   ]
  },
  {
   "cell_type": "code",
   "execution_count": 2,
   "metadata": {
    "slideshow": {
     "slide_type": "fragment"
    }
   },
   "outputs": [
    {
     "name": "stdout",
     "output_type": "stream",
     "text": [
      "1: 1, 1, 1\n",
      "2: 4, 8, 16\n",
      "3: 9, 27, 81\n",
      "4: 16, 64, 256\n",
      "5: 25, 125, 625\n",
      "6: 36, 216, 1296\n",
      "7: 49, 343, 2401\n",
      "8: 64, 512, 4096\n",
      "9: 81, 729, 6561\n",
      "10: 100, 1000, 10000\n",
      "11: 121, 1331, 14641\n",
      "12: 144, 1728, 20736\n",
      "13: 169, 2197, 28561\n",
      "14: 196, 2744, 38416\n",
      "15: 225, 3375, 50625\n",
      "16: 256, 4096, 65536\n",
      "17: 289, 4913, 83521\n",
      "18: 324, 5832, 104976\n",
      "19: 361, 6859, 130321\n",
      "20: 400, 8000, 160000\n"
     ]
    }
   ],
   "source": [
    "integer_powers(20)"
   ]
  }
 ],
 "metadata": {
  "kernelspec": {
   "display_name": "Python 3",
   "language": "python",
   "name": "python3"
  },
  "language_info": {
   "codemirror_mode": {
    "name": "ipython",
    "version": 3
   },
   "file_extension": ".py",
   "mimetype": "text/x-python",
   "name": "python",
   "nbconvert_exporter": "python",
   "pygments_lexer": "ipython3",
   "version": "3.6.8"
  }
 },
 "nbformat": 4,
 "nbformat_minor": 2
}
