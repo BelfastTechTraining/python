{
 "cells": [
  {
   "cell_type": "markdown",
   "metadata": {},
   "source": [
    "Write a function that rotates the values of the provided `x`, `y`, and `z`variables so that\n",
    "* `x` takes the value of `y`\n",
    "* `y` takes the value of `z`\n",
    "* `z` takes the value of `x`"
   ]
  },
  {
   "cell_type": "code",
   "execution_count": 2,
   "metadata": {},
   "outputs": [],
   "source": [
    "def rotate(a, b, c):\n",
    "   #  NOT IMPLEMENTED\n",
    "   return\n",
    "\n",
    "\n",
    "x = 100\n",
    "y = 200\n",
    "z = 300\n",
    "\n",
    "rotate(x, y, z)\n",
    "\n"
   ]
  }
 ],
 "metadata": {
  "kernelspec": {
   "display_name": "Python 3",
   "language": "python",
   "name": "python3"
  },
  "language_info": {
   "codemirror_mode": {
    "name": "ipython",
    "version": 3
   },
   "file_extension": ".py",
   "mimetype": "text/x-python",
   "name": "python",
   "nbconvert_exporter": "python",
   "pygments_lexer": "ipython3",
   "version": "3.7.2"
  }
 },
 "nbformat": 4,
 "nbformat_minor": 2
}
