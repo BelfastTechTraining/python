{
 "cells": [
  {
   "cell_type": "markdown",
   "metadata": {},
   "source": [
    "How do you find the intersection of 2 lists (i.e. those elements common to both lists)?\n",
    "\n",
    "Find the intersection between list_a and list_b defined below:"
   ]
  },
  {
   "cell_type": "code",
   "execution_count": null,
   "metadata": {},
   "outputs": [],
   "source": [
    "list_a = [\"a\", \"b\", \"1\", [1, 2, 4], [\"a\", \"b\"], [1, 2, 4], \"foo\", \"bar\", (\"this\", 1, 4)]\n",
    "list_b = [\"a\", \"1\", [1, 2, 4], \"foo\", (\"this\", 1, 4)]\n",
    "\n",
    "\n"
   ]
  }
 ],
 "metadata": {
  "kernelspec": {
   "display_name": "Python 3",
   "language": "python",
   "name": "python3"
  },
  "language_info": {
   "codemirror_mode": {
    "name": "ipython",
    "version": 3
   },
   "file_extension": ".py",
   "mimetype": "text/x-python",
   "name": "python",
   "nbconvert_exporter": "python",
   "pygments_lexer": "ipython3",
   "version": "3.7.2"
  }
 },
 "nbformat": 4,
 "nbformat_minor": 2
}
