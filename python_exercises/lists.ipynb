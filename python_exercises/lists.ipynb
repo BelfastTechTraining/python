{
 "cells": [
  {
   "cell_type": "code",
   "execution_count": 3,
   "metadata": {},
   "outputs": [
    {
     "data": {
      "text/html": [
       "<script>\n",
       "code_show=true; \n",
       "function code_toggle() {\n",
       "    if (code_show){\n",
       "        $('div.cell.code_cell.rendered.selected div.input').hide();\n",
       "    } else {\n",
       "        $('div.cell.code_cell.rendered.selected div.input').show();\n",
       "    }\n",
       "    code_show = !code_show\n",
       "} \n",
       "$( document ).ready(code_toggle);\n",
       "</script><a href=\"javascript:code_toggle()\">_</a>"
      ],
      "text/plain": [
       "<IPython.core.display.HTML object>"
      ]
     },
     "metadata": {},
     "output_type": "display_data"
    }
   ],
   "source": [
    "from IPython.display import HTML\n",
    "from IPython.display import display\n",
    "\n",
    "# Taken from https://stackoverflow.com/questions/31517194/how-to-hide-one-specific-cell-input-or-output-in-ipython-notebook\n",
    "tag = HTML('''<script>\n",
    "code_show=true; \n",
    "function code_toggle() {\n",
    "    if (code_show){\n",
    "        $('div.cell.code_cell.rendered.selected div.input').hide();\n",
    "    } else {\n",
    "        $('div.cell.code_cell.rendered.selected div.input').show();\n",
    "    }\n",
    "    code_show = !code_show\n",
    "} \n",
    "$( document ).ready(code_toggle);\n",
    "</script><a href=\"javascript:code_toggle()\">_</a>''')\n",
    "display(tag)"
   ]
  },
  {
   "cell_type": "markdown",
   "metadata": {},
   "source": [
    "### Part I\n",
    "Write a function `double_values_in_list()` that takes a list of integers as a parameter and doubles the value of each element of the array.\n",
    "Use the provided test data."
   ]
  },
  {
   "cell_type": "code",
   "execution_count": 4,
   "metadata": {},
   "outputs": [
    {
     "name": "stdout",
     "output_type": "stream",
     "text": [
      "[4, 8, 12, 6, 32, 568, 34, 6]\n"
     ]
    }
   ],
   "source": [
    "# YOUR FUNCTION GOES HERE i.e.\n",
    "# def double_values_in_list(items_to_double):\n",
    "#     return\n",
    "\n",
    "test_data = [2, 4, 6, 3, 16, 284, 17, 3]\n",
    "print (double_values_in_list(test_data))"
   ]
  },
  {
   "cell_type": "markdown",
   "metadata": {},
   "source": [
    "### Part II\n",
    "Write a function `sum_lists_in_place()` that takes two int arrays (of the same length) as parameters and adds the arrays together, element by element.\n",
    "\n",
    "HINT: The built-in `enumerate()` function may be useful to you!"
   ]
  },
  {
   "cell_type": "code",
   "execution_count": null,
   "metadata": {},
   "outputs": [
    {
     "name": "stdout",
     "output_type": "stream",
     "text": [
      "> <ipython-input-3-d55cfc7fd52e>(32)sum_lists_in_place()\n",
      "-> new_value = list_a[index] + list_b[index]\n"
     ]
    }
   ],
   "source": [
    "# YOUR FUNCTION GOES HERE i.e.\n",
    "# def double_values_in_list(items_to_double):\n",
    "#     return\n",
    "\n",
    "list_a = [2, 4, 6, 3, 16, 284, 17, 3]\n",
    "list_b = [3, 17, 284, 16, 3, 6, 4]\n",
    "print(sum_lists_in_place(list_a, list_b))\n"
   ]
  },
  {
   "cell_type": "markdown",
   "metadata": {},
   "source": [
    "### Part III\n",
    "Adapt your `sum_lists_in_place()` function to raise a `ValueError` if the lists are not of the same length, or if either contain non-integer values.\n",
    "\n",
    "Handle the raised exception(s) to that the program cound continue without exitting on bad data."
   ]
  },
  {
   "cell_type": "code",
   "execution_count": null,
   "metadata": {},
   "outputs": [],
   "source": []
  }
 ],
 "metadata": {
  "kernelspec": {
   "display_name": "Python 3",
   "language": "python",
   "name": "python3"
  },
  "language_info": {
   "codemirror_mode": {
    "name": "ipython",
    "version": 3
   },
   "file_extension": ".py",
   "mimetype": "text/x-python",
   "name": "python",
   "nbconvert_exporter": "python",
   "pygments_lexer": "ipython3",
   "version": "3.7.2"
  }
 },
 "nbformat": 4,
 "nbformat_minor": 2
}
