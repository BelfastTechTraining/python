{
 "cells": [
  {
   "cell_type": "markdown",
   "metadata": {},
   "source": [
    "Write a function to calculate Factorials.\n",
    "\n",
    "A Factorial number is the product of all positive integers less than n, e.g.\n",
    "\n",
    "factorial(5) = 1 x 2 x 3 x 4 x 5\n",
    "\n",
    "Try out:\n",
    "\n",
    "\n",
    "```\n",
    "    factorial(1)\n",
    "    factorial(10)\n",
    "    factorial(40)\n",
    "    factorial(100)\n",
    "```\n",
    "\n",
    "\n"
   ]
  },
  {
   "cell_type": "code",
   "execution_count": null,
   "metadata": {},
   "outputs": [],
   "source": []
  }
 ],
 "metadata": {
  "kernelspec": {
   "display_name": "Python 3",
   "language": "python",
   "name": "python3"
  },
  "language_info": {
   "codemirror_mode": {
    "name": "ipython",
    "version": 3
   },
   "file_extension": ".py",
   "mimetype": "text/x-python",
   "name": "python",
   "nbconvert_exporter": "python",
   "pygments_lexer": "ipython3",
   "version": "3.7.2"
  }
 },
 "nbformat": 4,
 "nbformat_minor": 2
}
