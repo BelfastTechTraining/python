{
 "cells": [
  {
   "cell_type": "markdown",
   "metadata": {
    "slideshow": {
     "slide_type": "slide"
    }
   },
   "source": [
    "# NOTE\n",
    "Due to the fact that file operations are not supported in Jupyter, these exercises must be run locally."
   ]
  },
  {
   "cell_type": "markdown",
   "metadata": {
    "slideshow": {
     "slide_type": "fragment"
    }
   },
   "source": [
    "### Part I\n",
    "Write a file copy program"
   ]
  },
  {
   "cell_type": "markdown",
   "metadata": {
    "slideshow": {
     "slide_type": "fragment"
    }
   },
   "source": [
    "### Part II\n",
    "Create a file call TestData.txt with test data consisting of one number per line using your favourite editor.\n",
    "Your job is to read the entire file into memory so that you can compute the sum of all the numbers.\n",
    "\n",
    "For this example im expecting that a file exists in the same folder as this example named 'ex5-3.test_data.txt':\n",
    "```\n",
    "    > cat ex5-3.test_data.txt\n",
    "     1\n",
    "     2\n",
    "     3\n",
    "     4\n",
    "     5\n",
    "\n",
    "```"
   ]
  },
  {
   "cell_type": "markdown",
   "metadata": {
    "slideshow": {
     "slide_type": "fragment"
    }
   },
   "source": [
    "### Part III\n",
    "Try the previous example with other test files that may contain non integral data.\n",
    "Use exception handling to filter out lines that don't contain integers.\n",
    "\n",
    "For this example im expecting that a file exists in the same folder as this example named 'ex5-4.test_data.txt':\n",
    "```\n",
    "    > cat ex5-4.test_data.txt\n",
    "     1\n",
    "     2\n",
    "     three\n",
    "     4\n",
    "     5\n",
    "\n",
    "```"
   ]
  },
  {
   "cell_type": "markdown",
   "metadata": {
    "slideshow": {
     "slide_type": "fragment"
    }
   },
   "source": [
    "### Part IV\n",
    "Write a program that concatenates three files into a new file."
   ]
  },
  {
   "cell_type": "markdown",
   "metadata": {
    "slideshow": {
     "slide_type": "fragment"
    }
   },
   "source": [
    "### Part V\n",
    "Write a program that reads a file, reverses the order of lines in the file and then saves the changes in a new file."
   ]
  }
 ],
 "metadata": {
  "kernelspec": {
   "display_name": "Python 3",
   "language": "python",
   "name": "python3"
  },
  "language_info": {
   "codemirror_mode": {
    "name": "ipython",
    "version": 3
   },
   "file_extension": ".py",
   "mimetype": "text/x-python",
   "name": "python",
   "nbconvert_exporter": "python",
   "pygments_lexer": "ipython3",
   "version": "3.6.8"
  }
 },
 "nbformat": 4,
 "nbformat_minor": 2
}
