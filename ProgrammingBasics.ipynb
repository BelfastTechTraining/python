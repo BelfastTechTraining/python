{
 "cells": [
  {
   "cell_type": "markdown",
   "metadata": {},
   "source": [
    "# Programming Basics\n",
    "## An introduction to programming and python.\n",
    "\n",
    "\n",
    "During this class, we'll be using this web page to write and run our programs, so you don't need anything other than the web browser you are currently using. \n",
    "\n",
    "### What is programming?\n",
    "* Solving a problem by writing by writing computer code.\n",
    "* Programming is both an art and science, being creative and understanding how things work.\n",
    "* An algorithm is a list of rules to follow in order to solve a problem. Algorithms are used in everyday tasks, such as a cake recipe or a tying your shoelace.\n",
    "* Programs are created to implement algorithms. \n",
    "* Algorithms can be represented as pseudocode or a flowchart, and programming is the translation of these into a computer program.\n",
    "* To tell a computer to do something, a program must be written to tell it exactly what to do and how to do it.\n",
    "* If an algorithm has been designed, the computer program will follow this algorithm, step-by-step, which will tell the computer exactly what it should do.\n",
    "\n",
    "### What is a programming language?\n",
    "* A programming language is an artificial language that a computer understands.\n",
    "* The language is made up of series of statements that fit together to form instructions. These instructions tell a computer what to do.\n",
    "* Programming languages are designed to be easy for a human to understand and write in. However, a computer cannot run programs written in these languages directly.\n",
    "* Most programming languages have to be translated into machine code before the computer can execute the instructions.\n",
    "* There are many different programming languages, some more complicated and complex than others. For this class we will be using python to understand some of the basics of programming.\n",
    "\n",
    "### Why do we need a programming language?\n",
    "* You need a programming language in computer programming for the same reason you need a natural language in your everyday life : **to communicate and simplify things.**\n",
    "* Consider a deaf-mute person, how he/she communicates? They use a code, in this case not the speaking language but the signs language, but for them this code has the same function, is an interface on the outside world.\n",
    "* The other function of a code is to simplify things, to give them a structure, to help you build more complex things giving you simpler tools.\n",
    "* Imagine that you don’t have any programming language, the only code that you have is the binary system, it would be impractical to write an entire program , that solves a real problem, using just 0’s and 1’s.\n",
    "* Programming languages are an inteface between humans and computer, they allow us to communicate with computers in order to accomplish things.\n",
    "\n",
    "### What can we do with programming?\n",
    "* There is literally an unlimited number of things that can be created with code. Imagine an artist with a blank canvas, it can be difficult to know what to create, but you can create anything.\n",
    "* If you consider anything that you have interacted with that is electronic in nature, chances are there has been some sort of programming involved in it. Your washing machine, your television, your phone. These all need programming to function.\n",
    "* Take this example of train times. In just a few lines of code, we can get a list of all the train leaving the station, if they are on time and which stations they will stop at."
   ]
  },
  {
   "cell_type": "code",
   "execution_count": 5,
   "metadata": {},
   "outputs": [],
   "source": [
    "import bs4 as bs\n",
    "import urllib.request\n",
    "\n",
    "source = urllib.request.urlopen('https://apis.opendatani.gov.uk/translink/3043AF.xml').read()\n",
    "soup = bs.BeautifulSoup(source, 'xml')\n",
    "\n",
    "print(soup.find('StationBoard').attrs['name'], soup.find('StationBoard').attrs['Timestamp'])\n",
    "for train in soup.find_all('Service'):\n",
    "    depart = train.find('DepartTime').attrs['time']\n",
    "    delay = train.find('ExpectedDepartTime').attrs['time']\n",
    "    dests = train.find_all('CallingPoint')\n",
    "    stations = []\n",
    "    for dest in dests:\n",
    "        stations.append(dest.attrs['Name'])\n",
    "\n",
    "    print(depart, delay, \", \".join(stations))"
   ]
  },
  {
   "cell_type": "code",
   "execution_count": 2,
   "metadata": {
    "scrolled": true
   },
   "outputs": [],
   "source": [
    "import pandas as pd\n",
    "import matplotlib.pyplot as plt\n",
    "\n",
    "data_url = 'https://www.opendatani.gov.uk/dataset/80dc9542-7b2a-48f5-bbf4-ccc7040d36af/resource/6fd51851-df78-4469-98c5-4f06953621a0/download/police-recorded-crime-monthly-data.csv'\n",
    "df = pd.read_csv(data_url, parse_dates={'datetime': ['Calendar_Year', 'Month']})\n",
    "df.set_index('datetime', inplace=True)\n",
    "bikes = df.loc[(df['Crime_Type'] == 'Bicycle theft') & (df['Data_Measure'] == 'Police Recorded Crime') & (df['Policing_District'] != 'Northern Ireland')]\n",
    "bikes = bikes.drop(['Crime_Type', 'Data_Measure'], axis=1)\n",
    "bikes['Count'] = pd.to_numeric(bikes['Count'], errors='ignore')\n",
    "fig, ax = plt.subplots(figsize=(15, 7))\n",
    "bikes.groupby('Policing_District')['Count'].plot(legend=True)\n",
    "\n",
    "%matplotlib inline\n",
    "plt.show()"
   ]
  },
  {
   "cell_type": "code",
   "execution_count": null,
   "metadata": {},
   "outputs": [],
   "source": []
  }
 ],
 "metadata": {
  "kernelspec": {
   "display_name": "Python 3",
   "language": "python",
   "name": "python3"
  },
  "language_info": {
   "codemirror_mode": {
    "name": "ipython",
    "version": 3
   },
   "file_extension": ".py",
   "mimetype": "text/x-python",
   "name": "python",
   "nbconvert_exporter": "python",
   "pygments_lexer": "ipython3",
   "version": "3.7.2"
  }
 },
 "nbformat": 4,
 "nbformat_minor": 2
}
