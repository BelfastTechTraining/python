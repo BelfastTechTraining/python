{
 "cells": [
  {
   "cell_type": "markdown",
   "metadata": {
    "slideshow": {
     "slide_type": "slide"
    }
   },
   "source": [
    "# Packaging\n",
    "\n",
    "In this lesson we'll learn about\n",
    "* Final package additions\n",
    "    * `README.md`\n",
    "    * `__init__.py`\n",
    "    * `setup.py`\n",
    "* Setting up your pypirc file\n",
    "* Wheels and eggs\n",
    "* Uploading packages \n",
    "    * To the pypi test server\n",
    "    * To the pypi real server\n",
    "    * To our internal artifactory servers\n",
    "* Further reading\n",
    "    * pyproject.toml\n",
    "    * flit\n",
    "    * poetry"
   ]
  },
  {
   "cell_type": "markdown",
   "metadata": {
    "slideshow": {
     "slide_type": "fragment"
    }
   },
   "source": [
    "Following on from last time, we should now have a project that looks something like this\n",
    "\n",
    "```bash\n",
    "my_project\n",
    "├── my_project\n",
    "│   ├── __init__.py\n",
    "│   └── my_module.py\n",
    "└── setup.py\n",
    "```"
   ]
  },
  {
   "cell_type": "markdown",
   "metadata": {
    "slideshow": {
     "slide_type": "slide"
    }
   },
   "source": [
    "Now we have our layout, we need a way to tell python how to install the package. This is done using the setup.py. Here's the simplest we could use to install the above package:\n",
    "\n",
    "```python\n",
    "from setuptools import setup\n",
    "\n",
    "setup(name='my_project',\n",
    "      packages=['my_project'])\n",
    "```\n",
    "\n",
    "Although that will work, you probably want to add a lot more information than that. We'll go into detail later.\n",
    "\n",
    "There are many other things that can be included, but this is a good start. One thing I haven't included here is the license. Generally it's a good idea to include a license if you're going to publish the package in a public place. https://choosealicense.com/ is a good resource for this. "
   ]
  },
  {
   "cell_type": "markdown",
   "metadata": {
    "slideshow": {
     "slide_type": "slide"
    }
   },
   "source": [
    "## `README.md`\n",
    "\n",
    "This isn't a hard requirement, but it's good practice to add. \n",
    "\n",
    "The md suffix stands for MarkDown, so that's the format to write it in. \n",
    "\n",
    "If you add this in the root of the git repo, then it will be visible on the main page of GitHub, Stash (BitBucket) or wherever you're hosting it."
   ]
  },
  {
   "cell_type": "markdown",
   "metadata": {
    "slideshow": {
     "slide_type": "slide"
    }
   },
   "source": [
    "## `__init__.py`\n",
    "\n",
    "You'll notice in the package above there's a `__init__.py` file. Strictly speaking they're no long required to build a package, but it does allow us to do a few quite useful things. \n",
    "\n",
    "As you remember from last time, the `__init__.py` is run when we import a package. If we had a package structure similar to the one above and we wanted to import a function from it called `say_hello`. We would have to do\n",
    "\n",
    "```python\n",
    ">>> from my_project.my_module import say_hello\n",
    ">>> say_hello()\n",
    "Hello\n",
    "```"
   ]
  },
  {
   "cell_type": "markdown",
   "metadata": {
    "slideshow": {
     "slide_type": "slide"
    }
   },
   "source": [
    "To make things a bit less cumbersome, we can import the function in the `__init__.py` file. \n",
    "\n",
    "```python\n",
    "from my_module import *\n",
    "```\n",
    "\n",
    "Then we can import directly from the package\n",
    "\n",
    "```python\n",
    ">>> from my_project import say_hello\n",
    ">>> say_hello()\n",
    "Hello\n",
    "```\n",
    "\n",
    "You could of course be specific in the `__init__.py` and just import the objects you want. Normally an import * would be frowned upon, but it's fine here as you're not polluting any other namespaces."
   ]
  },
  {
   "cell_type": "markdown",
   "metadata": {
    "slideshow": {
     "slide_type": "slide"
    }
   },
   "source": [
    "## `setup.py`\n",
    "\n",
    "```python\n",
    "import setuptools\n",
    "\n",
    "with open(\"README.md\", \"r\") as f:\n",
    "    long_description = f.read()\n",
    "\n",
    "setuptools.setup(\n",
    "    name=\"unique-package-name\",\n",
    "    version=\"0.0.1\",\n",
    "    author=\"Example Author\",\n",
    "    author_email=\"author@example.com\",\n",
    "    description=\"A small example package\",\n",
    "    long_description=long_description,\n",
    "    long_description_content_type=\"text/markdown\",\n",
    "    url=\"https://hq-stash.corp.proofpoint.com/users/mrobinson/repos/example-package/browse\",\n",
    "    packages=setuptools.find_packages(),\n",
    "    classifiers=[\n",
    "        \"Programming Language :: Python :: 3\",\n",
    "        \"Operating System :: OS Independent\",\n",
    "    ],\n",
    ")\n",
    "```"
   ]
  },
  {
   "cell_type": "markdown",
   "metadata": {
    "slideshow": {
     "slide_type": "-"
    }
   },
   "source": [
    "This one has a lot more information and is a lot more useful. \n",
    "\n",
    "One of the nice parts of this one is the reading in of the `README.md` and using it as the long description. \n",
    "\n",
    "You'll also see a list of classifiers, these are useful when searching for packages. You can get a full list of them at https://pypi.org/classifiers/"
   ]
  },
  {
   "cell_type": "markdown",
   "metadata": {
    "slideshow": {
     "slide_type": "slide"
    }
   },
   "source": [
    "Now you should be able to install it to your system with\n",
    "\n",
    "```bash\n",
    "pip install .\n",
    "```\n",
    "\n",
    "or as I mentioned in the last lesson, you can install it in editable mode. (creates symlinks so you can still edit the installed version)\n",
    "\n",
    "```bash\n",
    "pip install -e .\n",
    "```\n",
    "\n",
    "Make sure that you can complete this step before moving on any further. "
   ]
  },
  {
   "cell_type": "markdown",
   "metadata": {
    "slideshow": {
     "slide_type": "slide"
    }
   },
   "source": [
    "## `.pypirc` file\n",
    "\n",
    "Before we set up our file, we need to do a few things to get ready. \n",
    "\n",
    "Let's install the tools we're going to need to get builds and be able to upload. You could install these in a virtual env, but we'll be using them across multiple environments and probably won't be editing them, so it's fine to install to the system. \n",
    "\n",
    "First the tools to deal with and create packages\n",
    "\n",
    "```bash\n",
    "pip3 install -U setuptools wheel --upgrade\n",
    "```\n",
    "\n",
    "Next we need twine, which is the tool for uploading the newly created packages\n",
    "\n",
    "```bash\n",
    "pip3 install -U twine --upgrade\n",
    "```\n",
    "\n",
    "The last thing to do before moving on is create a new user account on https://test.pypi.org/account/register/"
   ]
  },
  {
   "cell_type": "markdown",
   "metadata": {
    "slideshow": {
     "slide_type": "slide"
    }
   },
   "source": [
    "There are two main benefits to using a .pypirc file: \n",
    "\n",
    "1. It removes the need to enter a username/password when pushing to PyPI. \n",
    "2. It simplifies command line usage when pushing packages to a non-default package repository (e.g. artifactory or the pypi test repo). \n",
    "\n",
    "The official documentation on the .pypirc file can be found at https://docs.python.org/3/distutils/packageindex.html#the-pypirc-file."
   ]
  },
  {
   "cell_type": "markdown",
   "metadata": {
    "slideshow": {
     "slide_type": "slide"
    }
   },
   "source": [
    "```\n",
    "[distutils]\n",
    "index-servers =\n",
    "    dev-pypi-local\n",
    "    pypi\n",
    "    testpypi\n",
    "\n",
    "[dev-pypi-local]\n",
    "repository: https://repocache.nonprod.ppops.net/artifactory/api/pypi/dev-pypi-local\n",
    "username: <YOURUSERNAME>\n",
    "\n",
    "[pypi]\n",
    "username: <YOURUSERNAME>\n",
    "password: 1234567890abcde\n",
    "\n",
    "[testpypi]\n",
    "repository: https://test.pypi.org/legacy/\n",
    "username: <YOURUSERNAME>\n",
    "password: 1234567890abcde\n",
    "```\n",
    "\n",
    "The password field is optional, if you don't add it then you will be prompted for it. \n",
    "\n",
    "Also note that the pypi test and official repos do not use the same login credentials, so you will need to register for both if you wish to upload to both. \n",
    "During this lesson we will only be uploading to the test repo."
   ]
  },
  {
   "cell_type": "markdown",
   "metadata": {
    "slideshow": {
     "slide_type": "slide"
    }
   },
   "source": [
    "## Wheels and eggs\n",
    "\n",
    "Long story short, these are both distribution formats but wheel is considered the standard now. \n",
    "\n",
    "They are both packaging formats which aim to give an artifact that doesn't need to be built or compiled. \n",
    "\n",
    "So now that we have all the pieces in place, we can build the wheel.\n",
    "\n",
    "```bash\n",
    "python3 setup.py sdist bdist_wheel\n",
    "```\n",
    "\n",
    "You should see that this then creates two files in your `dist` directory. The wheel file, and the source distribution (the tgz file). \n",
    "\n",
    "These are the files that we will use to upload to the repos. "
   ]
  },
  {
   "cell_type": "markdown",
   "metadata": {
    "slideshow": {
     "slide_type": "slide"
    }
   },
   "source": [
    "## Uploading to test pypi repos\n",
    "\n",
    "Since we set up our pypirc file earlier, this should be quite simple\n",
    "\n",
    "```bash\n",
    "twine upload --repository testpypi dist/* \n",
    "```\n",
    "\n",
    "The argument given to the `--repository` switch is a reference to our config file. So if you added your user name and password there, it should just go ahead and upload it for you right away. \n",
    "\n",
    "You can use the full URL of the repo if you happen to be on a box where you don't have this file\n",
    "\n",
    "```bash\n",
    "twine upload --repository-url https://test.pypi.org/legacy/ dist/*\n",
    "```\n",
    "\n",
    "However this will always ask for a username and password, that can be overridden with the -u and -p flags. Though the first method is preferred if you wish to add this to an automation set up. \n",
    "\n",
    "Be sure to set the correct permissions on your .pypirc file (`chmod 600 ~/.pypirc`) if you decide to do this, so as to protect your password. "
   ]
  },
  {
   "cell_type": "markdown",
   "metadata": {
    "slideshow": {
     "slide_type": "slide"
    }
   },
   "source": [
    "## Testing it worked\n",
    "\n",
    "Basically, we point it at the correct repo, using the `--index-url` switch and tell it not to grab any dependencies (`--no-deps`). \n",
    "\n",
    "If you've set up your `.pypirc` file correctly, you shouldn't actually need to change the index as it will search pypi test, and if you don't have any dependenices you don't need to tell. However, this is good practice and this is the command you will notmall use. \n",
    "\n",
    "```bash\n",
    "pip install --index-url https://test.pypi.org/simple/ --no-deps <YOURPACKAGENAME>\n",
    "```"
   ]
  },
  {
   "cell_type": "markdown",
   "metadata": {
    "slideshow": {
     "slide_type": "slide"
    }
   },
   "source": [
    "## Uploading to the real pypi repos\n",
    "\n",
    "The process is much the same as before, but you would use the other repo defined in your `.pypirc` file. \n",
    "\n",
    "```bash\n",
    "twine upload --repository pypi dist/* \n",
    "```\n",
    "\n",
    "There are a few other things to note however\n",
    "1. The package name you choose must be unique. You can check the site or do a `pip search` before you choose.\n",
    "2. You'll need a new account for the real servers, logins are not shared with the test servers.\n",
    "3. You should just install the package as you would normally, i.e. `pip install <PackageName>`"
   ]
  },
  {
   "cell_type": "markdown",
   "metadata": {
    "slideshow": {
     "slide_type": "slide"
    }
   },
   "source": [
    "## Uploading to artifactory\n",
    "\n",
    "The steps are the same as the others, just change the repository\n",
    "\n",
    "```bash\n",
    "twine upload --repository dev-pypi-local dist/* \n",
    "```\n",
    "\n",
    "You will however need to raise a SYSOPS ticket to get access to push to the server. \n",
    "\n",
    "If your team has a Jenkins server, you may already have a job or credentials that can be used to push. "
   ]
  },
  {
   "cell_type": "markdown",
   "metadata": {},
   "source": [
    "## Further reading\n",
    "\n",
    "Once you understand what's going on with the above tools and how it all fits together, there are a number of other ways to do it that *can* simplify things for complicated projects and workflows. \n",
    "\n",
    "Both Flit and Poetry use a file called pyproject.toml which aims to move away from the setup.py format for various reason which you're better looking up in your own time!\n",
    "\n",
    "### Flit\n",
    "* https://flit.readthedocs.io/en/latest/\n",
    "* https://github.com/takluyver/flit\n",
    "\n",
    "### Poetry\n",
    "* https://poetry.eustace.io/docs/\n",
    "* https://github.com/sdispater/poetry\n",
    "\n",
    "### realpython.org\n",
    "\n",
    "This is a really great site, there are a tonne of articles worth reading on it. The packaging one will cover a lot of the things I've touched on here in more depth.\n",
    "\n",
    "* https://realpython.com/pypi-publish-python-package/"
   ]
  }
 ],
 "metadata": {
  "celltoolbar": "Slideshow",
  "kernelspec": {
   "display_name": "Python 3",
   "language": "python",
   "name": "python3"
  },
  "language_info": {
   "codemirror_mode": {
    "name": "ipython",
    "version": 3
   },
   "file_extension": ".py",
   "mimetype": "text/x-python",
   "name": "python",
   "nbconvert_exporter": "python",
   "pygments_lexer": "ipython3",
   "version": "3.7.3"
  }
 },
 "nbformat": 4,
 "nbformat_minor": 2
}
