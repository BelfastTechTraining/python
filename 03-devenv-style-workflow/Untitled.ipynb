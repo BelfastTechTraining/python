{
 "cells": [
  {
   "cell_type": "markdown",
   "metadata": {
    "slideshow": {
     "slide_type": "slide"
    }
   },
   "source": [
    "# Dev environments, workflow and style\n",
    "\n",
    "This talk is aimed at python developers who have already written a few script or libraries.\n",
    "\n",
    "## Topics covered\n",
    "\n",
    "* Editors\n",
    "* PEP 8 -- Style Guide for Python Code\n",
    "* Python3 or python2\n",
    "* Which python3\n",
    "* Mac install\n",
    "* Windows install\n",
    "* virtualenv\n",
    "* venv, pyvenv, pyenv, virtualenv, virtualenvwrapper, pipenv, etc\n",
    "* pip\n",
    "* antipatterns"
   ]
  },
  {
   "cell_type": "markdown",
   "metadata": {
    "slideshow": {
     "slide_type": "-"
    }
   },
   "source": [
    "This lesson is going to be very opinionated. By that I mean, it will tell you a way to do it. There may be other ways to do it, even other better ways. However, the methods and software covered here is considered best practice in most circles and is a good starting point for learning more."
   ]
  },
  {
   "cell_type": "markdown",
   "metadata": {
    "slideshow": {
     "slide_type": "slide"
    }
   },
   "source": [
    "## Editors (IDEs)\n",
    "\n",
    "### VSCode\n",
    "\n",
    "If you don't already have an IDE (Integrated development environment) installed, or one that you're particularly fond of, try VSCode. \n",
    "\n",
    "https://code.visualstudio.com/download\n",
    "\n",
    "I'm aware that Microsoft in the past have been the bad guys, but that's all changed and VSCode is excellent. You need to install the python plugin for it to get all the fancy code completion and other goodness. \n",
    "\n",
    "There's a lot of active development VSCode and Microsoft hired the guy who originally developed the python plugin, so that's being actively worked on too.\n",
    "\n",
    "### Other editors\n",
    "\n",
    "There are loads of alternatives if you don't want to use VSCode, the most popular python ones are:\n",
    "* https://www.jetbrains.com/pycharm/download/\n",
    "* https://www.sublimetext.com/3\n",
    "* https://jupyter.org/install"
   ]
  },
  {
   "cell_type": "markdown",
   "metadata": {
    "slideshow": {
     "slide_type": "slide"
    }
   },
   "source": [
    "### Vim\n",
    "\n",
    "If you want to use Vim, there are a lot of good plugins, however before you start down that route, I'd say check out VSCode. It has Vim bindings, which is the main reason I switched to it. \n",
    "\n",
    "If you still want to use vim, check out these plugins / recommedations:\n",
    "* My .vimrc is here if you want to reference it\n",
    "    * https://github.com/laxdog/dotfiles\n",
    "* There are a lot of settings you can use too, you'll see some in my vimrc, this is a good guide:\n",
    "    * https://realpython.com/vim-and-python-a-match-made-in-heaven/   \n",
    "* Vundle\n",
    "    * This is a plugin manager for vim, it's excellent, use it\n",
    "    * Once installed you can just add the plugins you want to your .vimrc\n",
    "    * git clone https://github.com/gmarik/Vundle.vim.git ~/.vim/bundle/Vundle.vim\n",
    "* syntastic (syntax checker)\n",
    "* vim-flake8 (pep-8 checker)\n",
    "* nerdtree (file explorer window)\n",
    "* YouCompleteMe (ctags / autocomplete)\n",
    "\n",
    "There are loads more, but that's a good start. "
   ]
  },
  {
   "cell_type": "markdown",
   "metadata": {
    "slideshow": {
     "slide_type": "slide"
    }
   },
   "source": [
    "## PEP 8 -- Style Guide for Python Code\n",
    "\n",
    "### What is it?\n",
    "\n",
    "As the title says it's a style guide for writing python code. It's a guide to certain conventions that you should follow when writing code. This can be anything from how many blank lines or spaces you use between things, to how you should name variables."
   ]
  },
  {
   "cell_type": "markdown",
   "metadata": {
    "slideshow": {
     "slide_type": "fragment"
    }
   },
   "source": [
    "### Why do I care?\n",
    "\n",
    "Because it helps everyone, including you. \n",
    "\n",
    "Imagine reading a magazine article that put just two words on every line. Or had the text written right to left instead of left to right. It would be annoying and it would take you a lot longer to understand what was going on. You'd have to concentrate a lot more on what it was trying to tell you. \n",
    "\n",
    "This is the same thing. If everyone uses a consistent style when writing code, it makes it easier for everyone to understand. \n",
    "\n",
    "Some day you may want to contribute to open source software, which can be developed and maintained by thousands of developers from around the world. Having everyone on the same page lowers the barrier to entry."
   ]
  },
  {
   "cell_type": "markdown",
   "metadata": {
    "slideshow": {
     "slide_type": "subslide"
    }
   },
   "source": [
    "### Do I have to use it?\n",
    "\n",
    "No, it's just a guide. Your code will work just as well without following PEP-8, it's not a requirement for your code to work, just good practice you should follow.\n",
    "\n",
    "You are however, much more likely to get your code used by others, understood by others, accepted at code review and understood by yourself when you come back to it. \n",
    "\n",
    "It just makes sense."
   ]
  },
  {
   "cell_type": "markdown",
   "metadata": {
    "slideshow": {
     "slide_type": "slide"
    }
   },
   "source": [
    "### What should I do?\n",
    "\n",
    "The full PEP-8 guide can be found here https://www.python.org/dev/peps/pep-0008/, it can be a bit overwhelming though. So we'll just cover some of the main points or most common things you'll come across.\n",
    "\n",
    "The first thing you should do is check your IDE can check if your code is PEP-8 compliant or not. Most either support it out of the box, or have a plugin to do so. \n",
    "\n",
    "You can easily check by breaking any of the following guidelines:"
   ]
  },
  {
   "cell_type": "markdown",
   "metadata": {
    "slideshow": {
     "slide_type": "subslide"
    }
   },
   "source": [
    "### Tabs or spaces (indentation)\n",
    "\n",
    "* Spaces. 4 of them. NOTHING ELSE!\n",
    "\n",
    "You should always uses spaces, don't listen to what anyone else says about it not looking right on their screen or some other crap. Use 4 spaces and never tabs."
   ]
  },
  {
   "cell_type": "markdown",
   "metadata": {
    "slideshow": {
     "slide_type": "fragment"
    }
   },
   "source": [
    "### Line length\n",
    "\n",
    "* Less than 120 characters\n",
    "\n",
    "Strictly speaking the guide says lines should be less than 80 characters, though most people accept this is too small. I personally use the google style recomdendation on this of 120 characters as do a lot of people."
   ]
  },
  {
   "cell_type": "markdown",
   "metadata": {
    "slideshow": {
     "slide_type": "subslide"
    }
   },
   "source": [
    "### imports\n",
    "\n",
    "* All imports should be at the top of the file\n",
    "* Imports should be on separate lines.\n",
    "* If you're using 'from' then separate by comma\n",
    "\n",
    "```\n",
    "Yes: import os\n",
    "     import sys\n",
    "\n",
    "No:  import sys, os\n",
    "```\n",
    "\n",
    "It's okay to say this though:\n",
    "\n",
    "```\n",
    "from subprocess import Popen, PIPE\n",
    "```"
   ]
  },
  {
   "cell_type": "markdown",
   "metadata": {
    "slideshow": {
     "slide_type": "subslide"
    }
   },
   "source": [
    "### function and variable names\n",
    "* Lowercase, with words separated by underscores as necessary to improve readability.\n",
    "\n",
    "```python\n",
    "def my_lovely_function():\n",
    "    print(\"Do something\")\n",
    "    \n",
    "\n",
    "your_variable = 10\n",
    "```"
   ]
  },
  {
   "cell_type": "markdown",
   "metadata": {
    "slideshow": {
     "slide_type": "subslide"
    }
   },
   "source": [
    "### class names\n",
    "* Class names should normally use the CapWords convention. \n",
    "\n",
    "```python\n",
    "class ThisIsAnExampleClass():\n",
    "    pass\n",
    "\n",
    "instance_of_class = ThisIsAnExampleClass()\n",
    "```"
   ]
  },
  {
   "cell_type": "markdown",
   "metadata": {
    "slideshow": {
     "slide_type": "slide"
    }
   },
   "source": [
    "## Other good practices\n",
    "\n",
    "Although not explicitly mentioned in the PEP-8 guide here are a number of other things to consider:\n",
    "\n",
    "### Be descriptive\n",
    "\n",
    "* Don't use single letter variables\n",
    "* Use desciptive names for functions and variables\n",
    "\n",
    "There's no real reason not to be descriptive. Maybe if it's a short lived small loop. But why bother? \n",
    "\n",
    "Why not get into the habit of not using them and use something descriptive so that you can quickly read and identify what's happening. \n",
    "\n",
    "Forming good habits means you don't have to think about things as much. You'll automatically be writing more descriptive, more readable code. \n",
    "\n",
    "When we read:\n",
    "\n",
    "```python\n",
    "for x in my_list:\n",
    "    process(x)\n",
    "```\n",
    "\n",
    "We've no idea what's going on. But if we take: \n",
    "\n",
    "```python\n",
    "for line in log_file:\n",
    "    search_for_log_error(line)\n",
    "```\n",
    "\n",
    "it's clear to even the casual observer what is happening. The less time we spend on working out what something is doing the better. "
   ]
  },
  {
   "cell_type": "markdown",
   "metadata": {},
   "source": [
    "### Python2 vs python3\n",
    "\n",
    "The simple answer is python 3."
   ]
  },
  {
   "cell_type": "code",
   "execution_count": 3,
   "metadata": {
    "slideshow": {
     "slide_type": "slide"
    }
   },
   "outputs": [
    {
     "data": {
      "text/html": [
       "\n",
       "<script>\n",
       "const second = 1000,\n",
       "      minute = second * 60,\n",
       "      hour = minute * 60,\n",
       "      day = hour * 24;\n",
       "\n",
       "let countDown = new Date('Jan 01, 2020 00:00:00').getTime(),\n",
       "    x = setInterval(function() {\n",
       "\n",
       "      let now = new Date().getTime(),\n",
       "          distance = countDown - now;\n",
       "\n",
       "      document.getElementById('days').innerText = Math.floor(distance / (day)),\n",
       "        document.getElementById('hours').innerText = Math.floor((distance % (day)) / (hour)),\n",
       "        document.getElementById('minutes').innerText = Math.floor((distance % (hour)) / (minute)),\n",
       "        document.getElementById('seconds').innerText = Math.floor((distance % (minute)) / second);\n",
       "    }, second)\n",
       "</script>\n",
       "<div class=\"container\">\n",
       "  <h1 id=\"head\">Python 2.7 will retire in :</h1>\n",
       "  <table>\n",
       "    <th>Days</th><th>Hours</th><th>Minutes</th><th>Seconds</th>\n",
       "    <tr>\n",
       "      <td><span id=\"days\"></span></td>\n",
       "      <td><span id=\"hours\"></span></td>\n",
       "      <td><span id=\"minutes\"></span></td>\n",
       "      <td><span id=\"seconds\"></span></td>\n",
       "    </tr>\n",
       "  </table>\n",
       "</div>\n"
      ],
      "text/plain": [
       "<IPython.core.display.HTML object>"
      ]
     },
     "metadata": {},
     "output_type": "display_data"
    }
   ],
   "source": [
    "import requests\n",
    "from IPython.core.display import display, HTML, Javascript\n",
    "\n",
    "script = \"\"\"\n",
    "<script>\n",
    "const second = 1000,\n",
    "      minute = second * 60,\n",
    "      hour = minute * 60,\n",
    "      day = hour * 24;\n",
    "\n",
    "let countDown = new Date('Jan 01, 2020 00:00:00').getTime(),\n",
    "    x = setInterval(function() {\n",
    "\n",
    "      let now = new Date().getTime(),\n",
    "          distance = countDown - now;\n",
    "\n",
    "      document.getElementById('days').innerText = Math.floor(distance / (day)),\n",
    "        document.getElementById('hours').innerText = Math.floor((distance % (day)) / (hour)),\n",
    "        document.getElementById('minutes').innerText = Math.floor((distance % (hour)) / (minute)),\n",
    "        document.getElementById('seconds').innerText = Math.floor((distance % (minute)) / second);\n",
    "    }, second)\n",
    "</script>\n",
    "<div class=\"container\">\n",
    "  <h1 id=\"head\">Python 2.7 will retire in :</h1>\n",
    "  <table>\n",
    "    <th>Days</th><th>Hours</th><th>Minutes</th><th>Seconds</th>\n",
    "    <tr>\n",
    "      <td><span id=\"days\"></span></td>\n",
    "      <td><span id=\"hours\"></span></td>\n",
    "      <td><span id=\"minutes\"></span></td>\n",
    "      <td><span id=\"seconds\"></span></td>\n",
    "    </tr>\n",
    "  </table>\n",
    "</div>\n",
    "\"\"\"\n",
    "\n",
    "display(HTML(script))"
   ]
  },
  {
   "cell_type": "markdown",
   "metadata": {
    "slideshow": {
     "slide_type": "slide"
    }
   },
   "source": [
    "## Anti-patterns\n",
    "\n",
    "There are of course a lot of really bad anti-patterns. These are some of the more common ones that you should avoid.\n",
    "\n",
    "https://docs.quantifiedcode.com/python-anti-patterns/"
   ]
  },
  {
   "cell_type": "markdown",
   "metadata": {
    "slideshow": {
     "slide_type": "subslide"
    }
   },
   "source": [
    "### No exception type(s) specified\n",
    "\n",
    "This is probably the single worst antipattern in python. NEVER do this. Ever.\n",
    "\n",
    "```python\n",
    "try:\n",
    "    do_something()\n",
    "except:\n",
    "    pass\n",
    "```\n",
    "\n",
    "Not just the `pass`, though that's pretty bad. The worst part is there is no exception type. This means that any exception that happens in `do_something()` will not be caught. \n",
    "\n",
    "I have spent full days trying to debug issues due to this. It's completely silent and incredibly difficult to find.\n",
    "\n",
    "Catching the error and doing something else is normal, in fact it's pretty common in python. Exceptions are something can occur in normal patterns, but you need to deal with them in the correct manner. If you know what the exception is you can do this\n",
    "\n",
    "```python\n",
    "try:\n",
    "    do_something()\n",
    "except ValueError:\n",
    "    pass\n",
    "```\n",
    "\n",
    "There's a full list of exceptions here https://docs.python.org/3/library/exceptions.html\n",
    "\n",
    "If you must catch all exceptions then you need to log it or do something else. However, catching the explicit error is preferred.\n",
    "\n",
    "```python\n",
    "try:\n",
    "    do_something()\n",
    "except Exception as ex:\n",
    "    logging.exception('Caught an error')\n",
    "```\n"
   ]
  },
  {
   "cell_type": "markdown",
   "metadata": {
    "slideshow": {
     "slide_type": "slide"
    }
   },
   "source": [
    "### Assigning to built-in function\n",
    "\n",
    "Python has a number of built-in functions that are always accessible in the interpreter. Unless you have a special reason, you should neither overwrite these functions nor assign a value to a variable that has the same name as a built-in function. Overwriting a built-in might have undesired side effects or can cause runtime errors. Python developers usually use built-ins ‘as-is’. If their behaviour is changed, it can be very tricky to trace back the actual error."
   ]
  },
  {
   "cell_type": "markdown",
   "metadata": {
    "slideshow": {
     "slide_type": "subslide"
    }
   },
   "source": [
    "### Implementing Java-style getters and setters\n",
    "\n",
    "Python is not Java. If you need to set or get the members of a class or object, just expose the member publicly and access it directly. If you need to perform some computations before getting or setting the member, then use Python’s built-in property decorator."
   ]
  },
  {
   "cell_type": "markdown",
   "metadata": {
    "slideshow": {
     "slide_type": "subslide"
    }
   },
   "source": [
    "### Not using explicit unpacking\n",
    "\n",
    "When you see multiple variables being defined followed by an assignment to a list (e.g. elem0, elem1, elem2 = elems, where elem0, elem1, and elem2 are variables and elems is a list), Python will automatically iterate through the list and assign elems[0] to elem0, elems[1] to elem1, and so on."
   ]
  },
  {
   "cell_type": "markdown",
   "metadata": {
    "slideshow": {
     "slide_type": "subslide"
    }
   },
   "source": [
    "### Not using get() to return a default value from a dict\n",
    "\n",
    "Frequently you will see code create a variable, assign a default value to the variable, and then check a dict for a certain key. If the key exists, then the value of the key is copied into the value for the variable. While there is nothing wrong this, it is more concise to use the built-in method dict.get(key[, default]) from the Python Standard Library. If the key exists in the dict, then the value for that key is returned. If it does not exist, then the default value specified as the second argument to get() is returned. Note that the default value defaults to None if a second argument is not provided."
   ]
  },
  {
   "cell_type": "markdown",
   "metadata": {},
   "source": [
    "```bash\n",
    "pip install pytest pytest-cov\n",
    "pip install -e .\n",
    "pytest --cov=essentials_cloud_deploy tests/\n",
    "```"
   ]
  },
  {
   "cell_type": "code",
   "execution_count": null,
   "metadata": {},
   "outputs": [],
   "source": []
  }
 ],
 "metadata": {
  "celltoolbar": "Slideshow",
  "kernelspec": {
   "display_name": "Python 3",
   "language": "python",
   "name": "python3"
  }
 },
 "nbformat": 4,
 "nbformat_minor": 2
}
