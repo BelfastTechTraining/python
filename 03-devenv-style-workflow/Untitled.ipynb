{
 "cells": [
  {
   "cell_type": "code",
   "execution_count": 4,
   "metadata": {
    "slideshow": {
     "slide_type": "notes"
    }
   },
   "outputs": [
    {
     "data": {
      "text/html": [
       "<style>\n",
       ".rendered_html table, .rendered_html th, .rendered_html tr, .rendered_html td {\n",
       "     font-size: 100%;\n",
       "}\n",
       "</style>\n"
      ],
      "text/plain": [
       "<IPython.core.display.HTML object>"
      ]
     },
     "metadata": {},
     "output_type": "display_data"
    }
   ],
   "source": [
    "%%HTML\n",
    "<style>\n",
    ".rendered_html table, .rendered_html th, .rendered_html tr, .rendered_html td {\n",
    "     font-size: 100%;\n",
    "}\n",
    "</style>"
   ]
  },
  {
   "cell_type": "markdown",
   "metadata": {
    "slideshow": {
     "slide_type": "slide"
    }
   },
   "source": [
    "# Dev environments, workflow and style\n",
    "\n",
    "This talk is aimed at python developers who have already written a few script or libraries and want to start looking at best practices. \n",
    "\n",
    "## Topics covered\n",
    "\n",
    "* Editors (IDEs)\n",
    "* Python 3 or python 2\n",
    "* (spoiler) Which python 3?\n",
    "* virtualenv\n",
    "* pip\n",
    "* Linux / Mac / Windows install\n",
    "* PEP 8 - Style Guide for Python Code\n",
    "* Antipatterns"
   ]
  },
  {
   "cell_type": "markdown",
   "metadata": {
    "slideshow": {
     "slide_type": "-"
    }
   },
   "source": [
    "This lesson is going to be very opinionated. By that I mean, it will tell you a way to do it. There may be other ways to do it, even other better ways. However, the methods and software covered here is considered best practice in most circles and is a good starting point for learning more."
   ]
  },
  {
   "cell_type": "markdown",
   "metadata": {
    "slideshow": {
     "slide_type": "slide"
    }
   },
   "source": [
    "## Editors (IDEs)\n",
    "\n",
    "### VSCode\n",
    "\n",
    "If you don't already have an IDE (Integrated development environment) installed, or one that you're particularly fond of, try VSCode. \n",
    "\n",
    "https://code.visualstudio.com/download\n",
    "\n",
    "I'm aware that Microsoft in the past have been the bad guys, but that's all changed and VSCode is excellent. You need to install the python plugin for it to get all the fancy code completion and other goodness. \n",
    "\n",
    "There's a lot of active development VSCode and Microsoft hired the guy who originally developed the python plugin, so that's being actively worked on too.\n",
    "\n",
    "### Other editors\n",
    "\n",
    "There are loads of alternatives if you don't want to use VSCode, the most popular python ones are:\n",
    "* https://www.jetbrains.com/pycharm/download/\n",
    "* https://www.sublimetext.com/3\n",
    "* https://jupyter.org/install"
   ]
  },
  {
   "cell_type": "markdown",
   "metadata": {
    "slideshow": {
     "slide_type": "slide"
    }
   },
   "source": [
    "### Vim\n",
    "\n",
    "If you want to use Vim, there are a lot of good plugins, however before you start down that route, I'd say check out VSCode. It has Vim bindings, which is the main reason I switched to it. \n",
    "\n",
    "If you still want to use vim, check out these plugins / recommedations:\n",
    "* My .vimrc is here if you want to reference it\n",
    "    * https://github.com/laxdog/dotfiles\n",
    "* There are a lot of settings you can use too, you'll see some in my vimrc, this is a good guide:\n",
    "    * https://realpython.com/vim-and-python-a-match-made-in-heaven/   \n",
    "* Vundle\n",
    "    * This is a plugin manager for vim, it's excellent, use it\n",
    "    * Once installed you can just add the plugins you want to your `.vimrc`\n",
    "    * `git clone https://github.com/gmarik/Vundle.vim.git ~/.vim/bundle/Vundle.vim`\n",
    "* syntastic (syntax checker)\n",
    "* vim-flake8 (pep-8 checker)\n",
    "* nerdtree (file explorer window)\n",
    "* YouCompleteMe (ctags / autocomplete)\n",
    "\n",
    "There are loads more, but that's a good start. "
   ]
  },
  {
   "cell_type": "markdown",
   "metadata": {
    "slideshow": {
     "slide_type": "slide"
    }
   },
   "source": [
    "## PEP 8 -- Style Guide for Python Code\n",
    "\n",
    "### What is it?\n",
    "\n",
    "As the title says it's a style guide for writing python code. It's a guide to certain conventions that you should follow when writing code. This can be anything from how many blank lines or spaces you use between things, to how you should name variables."
   ]
  },
  {
   "cell_type": "markdown",
   "metadata": {
    "slideshow": {
     "slide_type": "fragment"
    }
   },
   "source": [
    "### Why do I care?\n",
    "\n",
    "Because it helps everyone, including you. \n",
    "\n",
    "Imagine reading a magazine article that put just two words on every line. Or had the text written right to left instead of left to right. It would be annoying and it would take you a lot longer to understand what was going on. You'd have to concentrate a lot more on what it was trying to tell you. \n",
    "\n",
    "This is the same thing. If everyone uses a consistent style when writing code, it makes it easier for everyone to understand. \n",
    "\n",
    "Some day you may want to contribute to open source software, which can be developed and maintained by thousands of developers from around the world. Having everyone on the same page lowers the barrier to entry."
   ]
  },
  {
   "cell_type": "markdown",
   "metadata": {
    "slideshow": {
     "slide_type": "subslide"
    }
   },
   "source": [
    "### Do I have to use it?\n",
    "\n",
    "No, it's just a guide. Your code will work just as well without following PEP-8, it's not a requirement for your code to work, just good practice you should follow.\n",
    "\n",
    "You are however, much more likely to get your code used by others, understood by others, accepted at code review and understood by yourself when you come back to it. \n",
    "\n",
    "It just makes sense."
   ]
  },
  {
   "cell_type": "markdown",
   "metadata": {
    "slideshow": {
     "slide_type": "slide"
    }
   },
   "source": [
    "### What should I do?\n",
    "\n",
    "The full PEP-8 guide can be found here https://www.python.org/dev/peps/pep-0008/, it can be a bit overwhelming though. So we'll just cover some of the main points or most common things you'll come across.\n",
    "\n",
    "The first thing you should do is check your IDE can check if your code is PEP-8 compliant or not. Most either support it out of the box, or have a plugin to do so. \n",
    "\n",
    "You can easily check by breaking any of the following guidelines:"
   ]
  },
  {
   "cell_type": "markdown",
   "metadata": {
    "slideshow": {
     "slide_type": "subslide"
    }
   },
   "source": [
    "### Tabs or spaces (indentation)\n",
    "\n",
    "* Spaces. 4 of them. NOTHING ELSE!\n",
    "\n",
    "You should always uses spaces, don't listen to what anyone else says about it not looking right on their screen or some other crap. Use 4 spaces and never tabs."
   ]
  },
  {
   "cell_type": "markdown",
   "metadata": {
    "slideshow": {
     "slide_type": "fragment"
    }
   },
   "source": [
    "### Line length\n",
    "\n",
    "* Less than 120 characters\n",
    "\n",
    "Strictly speaking the guide says lines should be less than 80 characters, though most people accept this is too small. I personally use the google style recomdendation on this of 120 characters as do a lot of people."
   ]
  },
  {
   "cell_type": "markdown",
   "metadata": {
    "slideshow": {
     "slide_type": "subslide"
    }
   },
   "source": [
    "### imports\n",
    "\n",
    "* All imports should be at the top of the file\n",
    "* Imports should be on separate lines.\n",
    "* If you're using 'from' then separate by comma\n",
    "\n",
    "Yes:\n",
    "\n",
    "```python\n",
    "import os\n",
    "import sys\n",
    "```\n",
    "\n",
    "No:\n",
    "\n",
    "```python\n",
    "import sys, os\n",
    "```\n",
    "\n",
    "It's okay to say this though:\n",
    "\n",
    "```python\n",
    "from subprocess import Popen, PIPE\n",
    "```"
   ]
  },
  {
   "cell_type": "markdown",
   "metadata": {
    "slideshow": {
     "slide_type": "subslide"
    }
   },
   "source": [
    "### function and variable names\n",
    "* Lowercase, with words separated by underscores as necessary to improve readability.\n",
    "\n",
    "```python\n",
    "def my_lovely_function():\n",
    "    print(\"Do something\")\n",
    "    \n",
    "\n",
    "your_variable = 10\n",
    "```"
   ]
  },
  {
   "cell_type": "markdown",
   "metadata": {
    "slideshow": {
     "slide_type": "subslide"
    }
   },
   "source": [
    "### class names\n",
    "* Class names should normally use the CapWords convention. \n",
    "\n",
    "```python\n",
    "class ThisIsAnExampleClass():\n",
    "    pass\n",
    "\n",
    "instance_of_class = ThisIsAnExampleClass()\n",
    "```"
   ]
  },
  {
   "cell_type": "markdown",
   "metadata": {
    "slideshow": {
     "slide_type": "slide"
    }
   },
   "source": [
    "## Other good practices\n",
    "\n",
    "Although not explicitly mentioned in the PEP-8 guide here are a number of other things to consider:\n",
    "\n",
    "### Be descriptive\n",
    "\n",
    "* Don't use single letter variables\n",
    "* Use desciptive names for functions and variables\n",
    "\n",
    "There's no real reason not to be descriptive. Maybe if it's a short lived small loop. But why bother? \n",
    "\n",
    "Why not get into the habit of not using them and use something descriptive so that you can quickly read and identify what's happening. \n",
    "\n",
    "Forming good habits means you don't have to think about things as much. You'll automatically be writing more descriptive, more readable code. \n",
    "\n",
    "When we read:\n",
    "\n",
    "```python\n",
    "for x in my_list:\n",
    "    process(x)\n",
    "```\n",
    "\n",
    "We've no idea what's going on. But if we take: \n",
    "\n",
    "```python\n",
    "for line in log_file:\n",
    "    search_for_log_error(line)\n",
    "```\n",
    "\n",
    "it's clear to even the casual observer what is happening. The less time we spend on working out what something is doing the better. "
   ]
  },
  {
   "cell_type": "markdown",
   "metadata": {
    "slideshow": {
     "slide_type": "slide"
    }
   },
   "source": [
    "### Python2 vs python3\n",
    "\n",
    "The simple answer is python 3. Python 2 will no longer be supported after Jan 1st, 2020"
   ]
  },
  {
   "cell_type": "code",
   "execution_count": 10,
   "metadata": {
    "slideshow": {
     "slide_type": "-"
    }
   },
   "outputs": [
    {
     "data": {
      "text/html": [
       "<script>const second = 1000, minute = second * 60, hour = minute * 60, day = hour * 24; let countDown = new Date('Jan 01, 2020 00:00:00').getTime(), x = setInterval(function() { let now = new Date().getTime(), distance = countDown - now; document.getElementById('days').innerText = Math.floor(distance / (day)), document.getElementById('hours').innerText = Math.floor((distance % (day)) / (hour)), document.getElementById('minutes').innerText = Math.floor((distance % (hour)) / (minute)), document.getElementById('seconds').innerText = Math.floor((distance % (minute)) / second); }, second)</script><div class=\"container\"> <h1 id=\"head\">Python 2.7 will retire in :</h1> <table> <th>Days</th><th>Hours</th><th>Minutes</th><th>Seconds</th> <tr> <td><span id=\"days\"></span></td> <td><span id=\"hours\"></span></td> <td><span id=\"minutes\"></span></td> <td><span id=\"seconds\"></span></td> </tr> </table> </div>"
      ],
      "text/plain": [
       "<IPython.core.display.HTML object>"
      ]
     },
     "metadata": {},
     "output_type": "display_data"
    }
   ],
   "source": [
    "from IPython.core.display import display, HTML, Javascript\n",
    "display(HTML(\"\"\"<script>const second = 1000, minute = second * 60, hour = minute * 60, day = hour * 24; let countDown = new Date('Jan 01, 2020 00:00:00').getTime(), x = setInterval(function() { let now = new Date().getTime(), distance = countDown - now; document.getElementById('days').innerText = Math.floor(distance / (day)), document.getElementById('hours').innerText = Math.floor((distance % (day)) / (hour)), document.getElementById('minutes').innerText = Math.floor((distance % (hour)) / (minute)), document.getElementById('seconds').innerText = Math.floor((distance % (minute)) / second); }, second)</script><div class=\"container\"> <h1 id=\"head\">Python 2.7 will retire in :</h1> <table> <th>Days</th><th>Hours</th><th>Minutes</th><th>Seconds</th> <tr> <td><span id=\"days\"></span></td> <td><span id=\"hours\"></span></td> <td><span id=\"minutes\"></span></td> <td><span id=\"seconds\"></span></td> </tr> </table> </div>\"\"\"))"
   ]
  },
  {
   "cell_type": "markdown",
   "metadata": {
    "slideshow": {
     "slide_type": "slide"
    }
   },
   "source": [
    "### But why?\n",
    "\n",
    "* It's faster. There are a few edge cases where python 2.7 wins, but in generaly 3.7 is faster.\n",
    "* It uses less memory.\n",
    "* The language features developed make Python both performent and stable\n",
    "* The changes that broke 2 to 3 migrations, were down to bad architectural choices. This shouldn't happen again.\n",
    "* Python 2.7 will be out of support at the start of 2020.\n",
    "* A lot of major packages no longer support or are dropping support for 2:\n",
    "    * Django\n",
    "    * Numpy\n",
    "    * Pandas\n",
    "    * matplotlib\n",
    "* There are some great features in 3:\n",
    "    * f-strings\n",
    "    * asyncio\n",
    "    * dataclasses\n",
    "    * type hints"
   ]
  },
  {
   "cell_type": "markdown",
   "metadata": {
    "slideshow": {
     "slide_type": "-"
    }
   },
   "source": [
    "### What if I'm stuck\n",
    "\n",
    "Basically you need to start moving things over. The sooner you start the better. \n",
    "\n",
    "You can chat to me afterwards if you need help in convincing team members or managers."
   ]
  },
  {
   "cell_type": "markdown",
   "metadata": {
    "slideshow": {
     "slide_type": "slide"
    }
   },
   "source": [
    "### Which python 3?\n",
    "\n",
    "If you can, use python 3.7. That's the latest and greatest. However it's not always as easy as that. Sometime you are limited to what's available on the machine you're logging into and you can't install anything else. \n",
    "\n",
    "If you plan on running it on machine internally, check which version it's going to be deployed on before getting too far into things. I think most machine have 3.5 installed by default.\n",
    "\n",
    "Which is acutally fine, you can generally get  most of the good features from 3.5 onwards. Here's quick list of what you do and don't get in the different versions incase you have to choose. \n",
    "\n",
    "|Feature|3.5|3.6|3.7|\n",
    "|-------|---|---|---|\n",
    "|f-strings|✘|✓|✓|\n",
    "|Advanced unpacking|✓|✓|✓|"
   ]
  },
  {
   "cell_type": "markdown",
   "metadata": {
    "slideshow": {
     "slide_type": "slide"
    }
   },
   "source": [
    "## Anti-patterns\n",
    "\n",
    "_\"An anti-pattern is a common response to a recurring problem that is usually ineffective and risks being highly counterproductive.\"_  Coined in 1995 by Andrew Koenig\n",
    "\n",
    "There are of course a lot of really bad anti-patterns. We'll cover some of the more common ones that you should avoid.\n",
    "\n",
    "There's a good list of them here:\n",
    "\n",
    "https://docs.quantifiedcode.com/python-anti-patterns/"
   ]
  },
  {
   "cell_type": "markdown",
   "metadata": {
    "slideshow": {
     "slide_type": "subslide"
    }
   },
   "source": [
    "### No exception type(s) specified\n",
    "\n",
    "This is probably the single worst antipattern in python. NEVER do this. Ever.\n",
    "\n",
    "```python\n",
    "try:\n",
    "    do_something()\n",
    "except:\n",
    "    pass\n",
    "```\n",
    "\n",
    "Not just the `pass`, though that's pretty bad. The worst part is there is no exception type. This means that any exception that happens in `do_something()` will not be caught. \n",
    "\n",
    "I have spent full days trying to debug issues due to this. It's completely silent and incredibly difficult to find.\n",
    "\n",
    "Catching the error and doing something else is normal, in fact it's pretty common in python. Exceptions are something can occur in normal patterns, but you need to deal with them in the correct manner. If you know what the exception is you can do this\n",
    "\n",
    "```python\n",
    "try:\n",
    "    do_something()\n",
    "except ValueError:\n",
    "    pass\n",
    "```\n",
    "\n",
    "There's a full list of exceptions here https://docs.python.org/3/library/exceptions.html\n",
    "\n",
    "If you must catch all exceptions then you need to log it or do something else. However, catching the explicit error is preferred.\n",
    "\n",
    "```python\n",
    "try:\n",
    "    do_something()\n",
    "except Exception as ex:\n",
    "    logging.exception('Caught an error')\n",
    "```\n"
   ]
  },
  {
   "cell_type": "markdown",
   "metadata": {
    "slideshow": {
     "slide_type": "slide"
    }
   },
   "source": [
    "### Assigning to built-in function"
   ]
  },
  {
   "cell_type": "code",
   "execution_count": 20,
   "metadata": {
    "slideshow": {
     "slide_type": "-"
    }
   },
   "outputs": [
    {
     "ename": "TypeError",
     "evalue": "'dict' object is not callable",
     "output_type": "error",
     "traceback": [
      "\u001b[0;31m---------------------------------------------------------------------------\u001b[0m",
      "\u001b[0;31mTypeError\u001b[0m                                 Traceback (most recent call last)",
      "\u001b[0;32m<ipython-input-20-203a93a4d7cf>\u001b[0m in \u001b[0;36m<module>\u001b[0;34m\u001b[0m\n\u001b[1;32m      2\u001b[0m \u001b[0mdict\u001b[0m \u001b[0;34m=\u001b[0m \u001b[0;34m{\u001b[0m\u001b[0;34m'one'\u001b[0m\u001b[0;34m:\u001b[0m\u001b[0;36m1\u001b[0m\u001b[0;34m,\u001b[0m \u001b[0;34m'two'\u001b[0m\u001b[0;34m:\u001b[0m\u001b[0;36m2\u001b[0m\u001b[0;34m,\u001b[0m \u001b[0;34m'three'\u001b[0m\u001b[0;34m:\u001b[0m\u001b[0;36m3\u001b[0m\u001b[0;34m}\u001b[0m\u001b[0;34m\u001b[0m\u001b[0;34m\u001b[0m\u001b[0m\n\u001b[1;32m      3\u001b[0m \u001b[0;34m\u001b[0m\u001b[0m\n\u001b[0;32m----> 4\u001b[0;31m \u001b[0mcars\u001b[0m \u001b[0;34m=\u001b[0m \u001b[0mdict\u001b[0m\u001b[0;34m(\u001b[0m\u001b[0;34m)\u001b[0m\u001b[0;34m\u001b[0m\u001b[0;34m\u001b[0m\u001b[0m\n\u001b[0m",
      "\u001b[0;31mTypeError\u001b[0m: 'dict' object is not callable"
     ]
    }
   ],
   "source": [
    "# Using the dict var overwrites the python built-in\n",
    "dict = {'one':1, 'two':2, 'three':3}\n",
    "\n",
    "cars = dict()\n"
   ]
  },
  {
   "cell_type": "markdown",
   "metadata": {
    "slideshow": {
     "slide_type": "-"
    }
   },
   "source": [
    "There are special cases where you may want to overwrite built-ins. This isn't one of them. \n",
    "\n",
    "In general you should steer clear of this. You can find a list of Python built-ins here:\n",
    "\n",
    "https://docs.python.org/3/library/functions.html"
   ]
  },
  {
   "cell_type": "markdown",
   "metadata": {
    "slideshow": {
     "slide_type": "slide"
    }
   },
   "source": [
    "### Using getters and setters\n",
    "\n",
    "This is a common pattern in Java and other languages, though it's not required in Python. In python you should make the member public and access it directly. \n",
    "\n",
    "If you need to process something before getting/setting you can use the `@property` decorator."
   ]
  },
  {
   "cell_type": "code",
   "execution_count": 21,
   "metadata": {
    "slideshow": {
     "slide_type": "-"
    }
   },
   "outputs": [],
   "source": [
    "# Don't do this!\n",
    "class Circle(object):\n",
    "    def __init__(self, radius):\n",
    "        self._radius = radius\n",
    "\n",
    "    def get_radius(self):\n",
    "        return self._radius\n",
    "    \n",
    "    def set_radius(self, radius):\n",
    "        self._radius = radius\n",
    "\n",
    "my_circle = Circle(5)\n",
    "my_circle.get_radius()\n",
    "my_circle.set_radius(6)"
   ]
  },
  {
   "cell_type": "code",
   "execution_count": 23,
   "metadata": {
    "slideshow": {
     "slide_type": "slide"
    }
   },
   "outputs": [],
   "source": [
    "# Instead do this\n",
    "class Circle(object):\n",
    "    def __init__(self, radius):\n",
    "        self.radius = radius\n",
    "\n",
    "\n",
    "my_circle = Circle(5)\n",
    "my_circle.radius\n",
    "my_circle.radius = 6"
   ]
  },
  {
   "cell_type": "code",
   "execution_count": 24,
   "metadata": {
    "slideshow": {
     "slide_type": "fragment"
    }
   },
   "outputs": [
    {
     "name": "stdout",
     "output_type": "stream",
     "text": [
      "18.84955592153876\n"
     ]
    }
   ],
   "source": [
    "# If you want to use @property\n",
    "from math import pi\n",
    "\n",
    "class Circle(object):\n",
    "    def __init__(self, radius):\n",
    "        self.radius = radius\n",
    "\n",
    "    @property\n",
    "    def circumference(self):\n",
    "        return 2 * pi * self.radius\n",
    "    \n",
    "my_circle = Circle(3)\n",
    "print(my_circle.circumference)\n"
   ]
  },
  {
   "cell_type": "markdown",
   "metadata": {
    "slideshow": {
     "slide_type": "subslide"
    }
   },
   "source": [
    "### Not using explicit unpacking\n",
    "\n",
    "\n",
    "This code is error-prone and too verbose"
   ]
  },
  {
   "cell_type": "code",
   "execution_count": 25,
   "metadata": {
    "slideshow": {
     "slide_type": "-"
    }
   },
   "outputs": [],
   "source": [
    "# Don't do this!\n",
    "list_of_ages = [41, 17, 28]\n",
    "\n",
    "alice_age = list_of_ages[0]\n",
    "bob_age = list_of_ages[1]\n",
    "claire_age = list_of_ages[2]"
   ]
  },
  {
   "cell_type": "markdown",
   "metadata": {
    "slideshow": {
     "slide_type": "subslide"
    }
   },
   "source": [
    "Instead use unpacking. This does the same thing and it's easier to read and maintain. "
   ]
  },
  {
   "cell_type": "code",
   "execution_count": 26,
   "metadata": {
    "slideshow": {
     "slide_type": "-"
    }
   },
   "outputs": [],
   "source": [
    "# Do this instead.\n",
    "list_of_ages = [41, 17, 28]\n",
    "\n",
    "alice_age, bob_age, claire_age = list_of_ages"
   ]
  },
  {
   "cell_type": "markdown",
   "metadata": {
    "slideshow": {
     "slide_type": "slide"
    }
   },
   "source": [
    "### Not using .items() for dictionary iteration\n",
    "\n",
    "This kind of follows on from the last one.\n",
    "\n",
    "This works, but is less readable that the preferred version."
   ]
  },
  {
   "cell_type": "code",
   "execution_count": 32,
   "metadata": {},
   "outputs": [
    {
     "name": "stdout",
     "output_type": "stream",
     "text": [
      "title : The Way of Kings\n",
      "author : Brandon Sanderson\n"
     ]
    }
   ],
   "source": [
    "# Don't do this!\n",
    "book = {\"title\": \"The Way of Kings\", \"author\":\"Brandon Sanderson\"}\n",
    "\n",
    "for key in book:\n",
    "    print(\"{0} : {1}\".format(key, book[key]))"
   ]
  },
  {
   "cell_type": "markdown",
   "metadata": {},
   "source": [
    "    Best-practice\n",
    "Use items() to iterate across dictionary\n",
    "The updated code below demonstrates the Pythonic style for iterating through a dictionary. When you define two variables in a for loop in conjunction with a call to items() on a dictionary, Python automatically assigns the first variable as the name of a key in that dictionary, and the second variable as the corresponding value for that key."
   ]
  },
  {
   "cell_type": "code",
   "execution_count": 33,
   "metadata": {},
   "outputs": [
    {
     "name": "stdout",
     "output_type": "stream",
     "text": [
      "title : The Way of Kings\n",
      "author : Brandon Sanderson\n"
     ]
    }
   ],
   "source": [
    "# Do this instead.\n",
    "book = {\"title\": \"The Way of Kings\", \"author\":\"Brandon Sanderson\"}\n",
    "\n",
    "for key, value in book.items():\n",
    "    print(\"{0} : {1}\".format(key, value))"
   ]
  },
  {
   "cell_type": "markdown",
   "metadata": {},
   "source": [
    "This becomes ever more useful when you're using the key as part of the data you're interested in"
   ]
  },
  {
   "cell_type": "code",
   "execution_count": 41,
   "metadata": {},
   "outputs": [
    {
     "name": "stdout",
     "output_type": "stream",
     "text": [
      "'The Way of Kings' by Brandon Sanderson\n",
      "'The Name of the Wind' by Patrick Rothfuss\n",
      "'The Lies of Locke Lamora' by Scott Lynch\n"
     ]
    }
   ],
   "source": [
    "books = {\"The Way of Kings\": \"Brandon Sanderson\",\n",
    "         \"The Name of the Wind\": \"Patrick Rothfuss\",\n",
    "         \"The Lies of Locke Lamora\": \"Scott Lynch\"}\n",
    "\n",
    "for title, author in books.items():\n",
    "    print(\"'{0}' by {1}\".format(title, author))"
   ]
  },
  {
   "cell_type": "markdown",
   "metadata": {
    "slideshow": {
     "slide_type": "slide"
    }
   },
   "source": [
    "### Using * while importing\n",
    "\n",
    "Please don't do this... This imports everything from module, it's lazy and makes it much harder for people to work out what you're doing. Explicitly import the functions you want, or import the base module and call the functions directly from there.\n",
    "\n",
    "Imaging you have several libraries that you do an import * from. How is anyone meant to know where the functions come from that you're using. If there's a random function call in the middle of your code that's broken, you can't expect people to search through all the imported libraries just to find it."
   ]
  },
  {
   "cell_type": "code",
   "execution_count": null,
   "metadata": {
    "slideshow": {
     "slide_type": "-"
    }
   },
   "outputs": [],
   "source": [
    "# Don't do this!\n",
    "from math import *"
   ]
  },
  {
   "cell_type": "code",
   "execution_count": 49,
   "metadata": {
    "slideshow": {
     "slide_type": "fragment"
    }
   },
   "outputs": [],
   "source": [
    "# Do this\n",
    "from math import ceil\n",
    "\n",
    "# or this\n",
    "import math\n",
    "x = math.ceil(1)\n",
    "\n",
    "# or this\n",
    "import pandas as pd\n",
    "df = pd.DataFrame([8, 1])"
   ]
  },
  {
   "cell_type": "markdown",
   "metadata": {},
   "source": [
    "```bash\n",
    "pip install pytest pytest-cov\n",
    "pip install -e .\n",
    "pytest --cov=essentials_cloud_deploy tests/\n",
    "```"
   ]
  }
 ],
 "metadata": {
  "celltoolbar": "Slideshow",
  "kernelspec": {
   "display_name": "Python 3",
   "language": "python",
   "name": "python3"
  },
  "language_info": {
   "codemirror_mode": {
    "name": "ipython",
    "version": 3
   },
   "file_extension": ".py",
   "mimetype": "text/x-python",
   "name": "python",
   "nbconvert_exporter": "python",
   "pygments_lexer": "ipython3",
   "version": "3.6.7"
  }
 },
 "nbformat": 4,
 "nbformat_minor": 2
}
