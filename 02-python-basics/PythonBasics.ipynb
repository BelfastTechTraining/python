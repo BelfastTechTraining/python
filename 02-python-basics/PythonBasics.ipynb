{
 "cells": [
  {
   "cell_type": "code",
   "execution_count": 1,
   "metadata": {
    "slideshow": {
     "slide_type": "notes"
    }
   },
   "outputs": [],
   "source": [
    "thing = \"blah\""
   ]
  },
  {
   "cell_type": "markdown",
   "metadata": {
    "slideshow": {
     "slide_type": "slide"
    }
   },
   "source": [
    "# Python Basics\n",
    "## A quick primer on the language.\n",
    "\n",
    "* Introduction to Python\n",
    "* Control Structures\n",
    "* Basic Data Types\n",
    "* Advanced Data Types\n",
    "* Dictionaries\n",
    "* Functions\n",
    "* Exception Handling\n",
    "* Classes\n",
    "* Files\n",
    "* Larger Programs\n",
    "* Pattern Matching"
   ]
  },
  {
   "cell_type": "markdown",
   "metadata": {
    "slideshow": {
     "slide_type": "slide"
    }
   },
   "source": [
    "###  Introduction to Python\n",
    "* General purpose high level language:\n",
    "* Emphasis placed on\n",
    "    * Human Readability.\n",
    "    * Self describing code."
   ]
  },
  {
   "cell_type": "markdown",
   "metadata": {
    "slideshow": {
     "slide_type": "slide"
    }
   },
   "source": [
    "The Zen of Python, by Tim Peters (PEP-20) (try `import this` in python)\n",
    "```\n",
    "Beautiful is better than ugly.\n",
    "Explicit is better than implicit.\n",
    "Simple is better than complex.\n",
    "Complex is better than complicated.\n",
    "Flat is better than nested.\n",
    "Sparse is better than dense.\n",
    "Readability counts.\n",
    "Special cases aren't special enough to break the rules.\n",
    "Although practicality beats purity.\n",
    "Errors should never pass silently.\n",
    "Unless explicitly silenced.\n",
    "In the face of ambiguity, refuse the temptation to guess.\n",
    "There should be one-- and preferably only one --obvious way to do it.\n",
    "Although that way may not be obvious at first unless you're Dutch.\n",
    "Now is better than never.\n",
    "Although never is often better than *right* now.\n",
    "If the implementation is hard to explain, it's a bad idea.\n",
    "If the implementation is easy to explain, it may be a good idea.\n",
    "Namespaces are one honking great idea -- let's do more of those!\n",
    "```"
   ]
  },
  {
   "cell_type": "markdown",
   "metadata": {
    "slideshow": {
     "slide_type": "skip"
    }
   },
   "source": [
    "During this lesson, we'll be using this web page to execute our python code. "
   ]
  },
  {
   "cell_type": "code",
   "execution_count": 20,
   "metadata": {
    "slideshow": {
     "slide_type": "skip"
    }
   },
   "outputs": [
    {
     "name": "stdout",
     "output_type": "stream",
     "text": [
      "Hello World! blah\n"
     ]
    }
   ],
   "source": [
    "print('Hello World!', thing)"
   ]
  },
  {
   "cell_type": "markdown",
   "metadata": {
    "slideshow": {
     "slide_type": "skip"
    }
   },
   "source": [
    "If you have an IDE already set up and would prefer to use that, then just copy and paste the code segments into it. "
   ]
  },
  {
   "cell_type": "markdown",
   "metadata": {
    "slideshow": {
     "slide_type": "slide"
    }
   },
   "source": [
    "### Python Indentations (white space)\n",
    "In most programming languages, indentation is for readability only, in Python indentation is part of the language.\n",
    "\n",
    "Python uses indentation to indicate a block of code."
   ]
  },
  {
   "cell_type": "code",
   "execution_count": 21,
   "metadata": {
    "slideshow": {
     "slide_type": "fragment"
    }
   },
   "outputs": [
    {
     "name": "stdout",
     "output_type": "stream",
     "text": [
      "Ten is greater than eight\n"
     ]
    }
   ],
   "source": [
    "if 10 > 8:\n",
    "    print(\"Ten is greater than eight\")"
   ]
  },
  {
   "cell_type": "code",
   "execution_count": 22,
   "metadata": {
    "slideshow": {
     "slide_type": "fragment"
    }
   },
   "outputs": [
    {
     "ename": "IndentationError",
     "evalue": "expected an indented block (<ipython-input-22-9a24f7160616>, line 2)",
     "output_type": "error",
     "traceback": [
      "\u001b[0;36m  File \u001b[0;32m\"<ipython-input-22-9a24f7160616>\"\u001b[0;36m, line \u001b[0;32m2\u001b[0m\n\u001b[0;31m    print(\"Ten is greater than eight\")\u001b[0m\n\u001b[0m        ^\u001b[0m\n\u001b[0;31mIndentationError\u001b[0m\u001b[0;31m:\u001b[0m expected an indented block\n"
     ]
    }
   ],
   "source": [
    "if 10 > 8:\n",
    "print(\"Ten is greater than eight\")"
   ]
  },
  {
   "cell_type": "markdown",
   "metadata": {
    "slideshow": {
     "slide_type": "slide"
    }
   },
   "source": [
    "### Brackets\n",
    "\n",
    "In a lot of languages brackets are used to denote blocks of code. In python this is not the case, they are used for:\n",
    "\n",
    "* `[]`: Mutable data types - lists, list comprehensions and for indexing/lookup/slicing.\n",
    "* `()`: Define tuples, order of operations, generator expressions, function calls and other syntax.\n",
    "* `{}`: The two hash table types - dictionaries and sets.\n",
    "\n",
    "If you don't understand what these are, don't worry. We'll get to them all eventually."
   ]
  },
  {
   "cell_type": "markdown",
   "metadata": {
    "slideshow": {
     "slide_type": "slide"
    }
   },
   "source": [
    "### Comments\n",
    "Sometimes you want to write notes to yourself and others in your code, this is where we use comments.\n",
    "\n",
    "Any line starting with a # will basically be ignored by python, but will be there for others to read in your source code."
   ]
  },
  {
   "cell_type": "code",
   "execution_count": 23,
   "metadata": {
    "slideshow": {
     "slide_type": "fragment"
    }
   },
   "outputs": [
    {
     "name": "stdout",
     "output_type": "stream",
     "text": [
      "Hello, World!\n"
     ]
    }
   ],
   "source": [
    "# This is a comment.\n",
    "print(\"Hello, World!\")"
   ]
  },
  {
   "cell_type": "markdown",
   "metadata": {
    "slideshow": {
     "slide_type": "slide"
    }
   },
   "source": [
    "### Docstrings\n",
    "There is an extended documentation capability, called docstrings.\n",
    "\n",
    "Docstrings can be one line, or multiline. Docstring should describe what the function does, not how.\n",
    "\n",
    "Strictly speaking, all functions should have a doc string. They can be used by IDEs and other tools to provide help text to others.\n",
    "\n",
    "They are created by using triple quotes:"
   ]
  },
  {
   "cell_type": "code",
   "execution_count": 24,
   "metadata": {
    "slideshow": {
     "slide_type": "fragment"
    }
   },
   "outputs": [
    {
     "name": "stdout",
     "output_type": "stream",
     "text": [
      "Hello, World!\n"
     ]
    }
   ],
   "source": [
    "\"\"\"This is a \n",
    "multiline docstring.\"\"\"\n",
    "print(\"Hello, World!\")"
   ]
  },
  {
   "cell_type": "markdown",
   "metadata": {
    "slideshow": {
     "slide_type": "slide"
    }
   },
   "source": [
    "### Creating Variables\n",
    "In some languages you need a command to declare a variable, in python, a variable is created the moment you first assign a value to it."
   ]
  },
  {
   "cell_type": "code",
   "execution_count": 25,
   "metadata": {
    "slideshow": {
     "slide_type": "fragment"
    }
   },
   "outputs": [
    {
     "name": "stdout",
     "output_type": "stream",
     "text": [
      "55\n",
      "John\n"
     ]
    }
   ],
   "source": [
    "age = 55\n",
    "name = \"John\"\n",
    "print(age)\n",
    "print(name)"
   ]
  },
  {
   "cell_type": "markdown",
   "metadata": {
    "slideshow": {
     "slide_type": "fragment"
    }
   },
   "source": [
    "You don't need to tell python what data type a variable is, in fact you can change it's type after you've created it."
   ]
  },
  {
   "cell_type": "code",
   "execution_count": 30,
   "metadata": {
    "slideshow": {
     "slide_type": "fragment"
    }
   },
   "outputs": [
    {
     "name": "stdout",
     "output_type": "stream",
     "text": [
      "Two fried eggs and a bottle of Rum\n"
     ]
    }
   ],
   "source": [
    "myVar = 4 # myVar has a data type of int\n",
    "myVar = \"Two fried eggs and a bottle of Rum\" # myVar now has a data type of str\n",
    "print(myVar)"
   ]
  },
  {
   "cell_type": "markdown",
   "metadata": {
    "slideshow": {
     "slide_type": "slide"
    }
   },
   "source": [
    "### TODO\n",
    "* Syntax\n",
    "* Colon\n",
    "* Brackets\n",
    "* White space\n",
    "* A Beginner / int / med to invite\n",
    "* First 60 = talk, last 30 = example (homework)\n",
    "\n",
    "###  Basic Data Types\n",
    "* Everything is an object, this means most python data types have methods (functions) that can be called.\n",
    "* Interpreter can be left to decide what a variable is.\n",
    "* Explicit casts are available (int(), str() etc) but are not recommended."
   ]
  },
  {
   "cell_type": "code",
   "execution_count": 37,
   "metadata": {
    "slideshow": {
     "slide_type": "fragment"
    }
   },
   "outputs": [
    {
     "name": "stdout",
     "output_type": "stream",
     "text": [
      "This is a string \n",
      "1.32\n",
      "This is a string This is a string This is a string This is a string \n"
     ]
    }
   ],
   "source": [
    "i = 4\n",
    "f = 0.33\n",
    "s = \"This is a string \"\n",
    "\n",
    "print(s)\n",
    "print(f * i)\n",
    "print(s * i)"
   ]
  },
  {
   "cell_type": "markdown",
   "metadata": {
    "slideshow": {
     "slide_type": "slide"
    }
   },
   "source": [
    "###  Basic Data Types\n",
    "\n",
    "Since everything is an object, strings have builtin methods for modification.\n",
    "\n",
    "To call an object's method (function) we use a `.`"
   ]
  },
  {
   "cell_type": "code",
   "execution_count": 40,
   "metadata": {
    "slideshow": {
     "slide_type": "fragment"
    }
   },
   "outputs": [
    {
     "name": "stdout",
     "output_type": "stream",
     "text": [
      "wE haVE uR DAugHTeR, bRinG $1,000,000 iN UNmARkEd NotEs\n",
      "wE haVE uR DAugHTeR, bRinG $1,000,000 iN UNmARkEd NotEs\n",
      "WE HAVE UR DAUGHTER, BRING $1,000,000 IN UNMARKED NOTES\n",
      "we have ur daughter, bring $1,000,000 in unmarked notes\n",
      "We HAve Ur daUGhtEr, BrINg $1,000,000 In unMarKeD nOTeS\n"
     ]
    }
   ],
   "source": [
    "# Since everything's an object. Strings have methods for manipiulation\n",
    "s = \"wE haVE uR DAugHTeR, bRinG $1,000,000 iN UNmARkEd NotEs\"\n",
    "print(s)\n",
    "print(s.rstrip(\"manipiulation\"))\n",
    "print(s.upper())\n",
    "print(s.lower())\n",
    "print(s.swapcase())"
   ]
  },
  {
   "cell_type": "markdown",
   "metadata": {
    "slideshow": {
     "slide_type": "slide"
    }
   },
   "source": [
    "### String formatting\n",
    "\n",
    "Python strings have lots of way to format them. We're going to be looking at the .format method here, if you're using python 3.6+ you might want to look at f-strings.\n",
    "\n",
    "You might see tutorials using a `%`, don't use this. It's the old way of doing things and is less readable and flexible than the other two mentioned.\n",
    "\n",
    "You can use integers inside curly brackets as an index for the item."
   ]
  },
  {
   "cell_type": "code",
   "execution_count": 46,
   "metadata": {
    "slideshow": {
     "slide_type": "fragment"
    }
   },
   "outputs": [
    {
     "name": "stdout",
     "output_type": "stream",
     "text": [
      "['this', 'is', 'a', 'list'] some very important log line number: 987\n"
     ]
    }
   ],
   "source": [
    "print(\"{0} some very important log line number: {1}\".format(['this', 'is', 'a', 'list'], 987))"
   ]
  },
  {
   "cell_type": "raw",
   "metadata": {
    "slideshow": {
     "slide_type": "fragment"
    }
   },
   "source": [
    "Or you can use placeholders to make it more readable"
   ]
  },
  {
   "cell_type": "code",
   "execution_count": 48,
   "metadata": {
    "slideshow": {
     "slide_type": "fragment"
    }
   },
   "outputs": [
    {
     "name": "stdout",
     "output_type": "stream",
     "text": [
      "Meteor strike less important but equally concerning at line 666\n"
     ]
    }
   ],
   "source": [
    "err = \"Meteor strike\"\n",
    "num = 666\n",
    "print(\"{error} less important but equally concerning at line {line_num}\".format(error=err, line_num=num))"
   ]
  },
  {
   "cell_type": "markdown",
   "metadata": {
    "slideshow": {
     "slide_type": "slide"
    }
   },
   "source": [
    "This method works especially well with derefernced dictionaries"
   ]
  },
  {
   "cell_type": "code",
   "execution_count": 55,
   "metadata": {
    "slideshow": {
     "slide_type": "fragment"
    }
   },
   "outputs": [
    {
     "name": "stdout",
     "output_type": "stream",
     "text": [
      "Meteor strike less important but equally concerning at line 666\n"
     ]
    }
   ],
   "source": [
    "# This is an advanced use case\n",
    "data = {\"error\": \"Meteor strike\",\n",
    "        \"line_num\": 666}\n",
    "print(\"{error} less important but equally concerning at line {line_num}\".format(**data))"
   ]
  },
  {
   "cell_type": "markdown",
   "metadata": {
    "slideshow": {
     "slide_type": "fragment"
    }
   },
   "source": [
    "They can also be used for padding and rounding"
   ]
  },
  {
   "cell_type": "code",
   "execution_count": 63,
   "metadata": {
    "slideshow": {
     "slide_type": "fragment"
    }
   },
   "outputs": [
    {
     "name": "stdout",
     "output_type": "stream",
     "text": [
      "This       is a       test\n",
      "3.14\n"
     ]
    }
   ],
   "source": [
    "print('{0:<10} is a {1:>10}'.format('This', 'test'))\n",
    "print('{:.2f}'.format(3.141592653589793))"
   ]
  },
  {
   "cell_type": "markdown",
   "metadata": {
    "slideshow": {
     "slide_type": "slide"
    }
   },
   "source": [
    "###  Sequence Data Types - *Lists*\n",
    "\n",
    "* As described, lists are a collection of objects.\n",
    "* Behave in the same way as arrays in other languages, but with the benifits of being an object in themselves!\n",
    "* Lists are **mutable**. (They can be changed once they're created)\n",
    "* Can be added to with .append() and concanated with .extend()"
   ]
  },
  {
   "cell_type": "code",
   "execution_count": 41,
   "metadata": {
    "slideshow": {
     "slide_type": "fragment"
    }
   },
   "outputs": [
    {
     "name": "stdout",
     "output_type": "stream",
     "text": [
      "[1, 2, 3, 4] is of length 4\n",
      "[1, 2, 3, 4, 5] is of length 5\n",
      "[1, 2, 3, 4, 5, 'a', 'b', 'c', 'd'] is of length 9\n",
      "[['a'], (1, 2, 3), False] is of length 3\n"
     ]
    }
   ],
   "source": [
    "list_1        = [1, 2, 3, 4]\n",
    "list_2        = ['a', 'b', 'c', 'd']\n",
    "list_specials = [['a'], (1, 2, 3), False]\n",
    "\n",
    "print('{0} is of length {1}'.format(list_1, len(list_1)))\n",
    "\n",
    "list_1.append(5)\n",
    "print('{0} is of length {1}'.format(list_1, len(list_1)))\n",
    "\n",
    "list_1.extend(list_2)\n",
    "print('{0} is of length {1}'.format(list_1, len(list_1)))\n",
    "\n",
    "print('{0} is of length {1}'.format(list_specials, len(list_specials)))"
   ]
  },
  {
   "cell_type": "markdown",
   "metadata": {
    "slideshow": {
     "slide_type": "slide"
    }
   },
   "source": [
    "###  Sequence Data Types - *Tuples*\n",
    "* Similar to lists except that they are **immutable**!\n",
    "* Cannot be modified once created.\n",
    "* Useful when returning more than one thing from *functions* (see later).\n",
    "* They are also faster than lists, so if you're concerned about performance they can be useful."
   ]
  },
  {
   "cell_type": "code",
   "execution_count": 6,
   "metadata": {
    "slideshow": {
     "slide_type": "fragment"
    }
   },
   "outputs": [
    {
     "name": "stdout",
     "output_type": "stream",
     "text": [
      "() is of length 0\n",
      "(1,) is of length 1\n",
      "(1, 2, 3) is of length 3\n",
      "(1, 'mixed', 2, 'tuple') is of length 4\n",
      "((1, 2), (3, 4)) is of length 2\n"
     ]
    }
   ],
   "source": [
    "x1 = ()\n",
    "x2 = (1,)\n",
    "x3 = (1, 2, 3)\n",
    "x4 = (1, \"mixed\", 2, \"tuple\")\n",
    "x5 = ((1, 2), (3, 4))\n",
    "\n",
    "print('{0} is of length {1}'.format(x1, len(x1)))\n",
    "print('{0} is of length {1}'.format(x2, len(x2)))\n",
    "print('{0} is of length {1}'.format(x3, len(x3)))\n",
    "print('{0} is of length {1}'.format(x4, len(x4)))\n",
    "print('{0} is of length {1}'.format(x5, len(x5)))"
   ]
  },
  {
   "cell_type": "markdown",
   "metadata": {
    "slideshow": {
     "slide_type": "slide"
    }
   },
   "source": [
    "###  Sequence Data Types - *Dictionaries*\n",
    "* Used to store **key value pairs**.\n",
    "* Not stored in any particular order (in < 3.6), left up to interpreter to order when inserting/accessing.\n",
    "* Values can be accessed/updated by refering to dictionary's key.\n"
   ]
  },
  {
   "cell_type": "code",
   "execution_count": 33,
   "metadata": {
    "slideshow": {
     "slide_type": "fragment"
    }
   },
   "outputs": [
    {
     "name": "stdout",
     "output_type": "stream",
     "text": [
      "{'name': 'Matt', 'job': 'something or other'}\n",
      "dict_keys(['name', 'job'])\n",
      "My name is Matt\n",
      "My job is something or other\n"
     ]
    }
   ],
   "source": [
    "d = {}\n",
    "d['name'] = 'Matt'\n",
    "d['job'] = 'something or other'\n",
    "\n",
    "print(d)\n",
    "print(d.keys())\n",
    "print('My name is {0}'.format(d['name']))\n",
    "print('My job is {0}'.format(d['job']))"
   ]
  },
  {
   "cell_type": "markdown",
   "metadata": {
    "slideshow": {
     "slide_type": "slide"
    }
   },
   "source": [
    "###  Control Structures\n",
    "#### IF\n",
    "Only execute statement(s) if condtion is met."
   ]
  },
  {
   "cell_type": "code",
   "execution_count": 8,
   "metadata": {
    "slideshow": {
     "slide_type": "fragment"
    }
   },
   "outputs": [
    {
     "name": "stdout",
     "output_type": "stream",
     "text": [
      "IF:[1, 2, 3]\n"
     ]
    }
   ],
   "source": [
    "x = [1, 2, 3]\n",
    "if len(x) > 0:\n",
    "    print('IF:{0}'.format(x))"
   ]
  },
  {
   "cell_type": "markdown",
   "metadata": {
    "slideshow": {
     "slide_type": "slide"
    }
   },
   "source": [
    "#### FOR\n",
    "Iterates through items in collection (set, list, tuple etc...)"
   ]
  },
  {
   "cell_type": "code",
   "execution_count": 9,
   "metadata": {
    "slideshow": {
     "slide_type": "fragment"
    }
   },
   "outputs": [
    {
     "name": "stdout",
     "output_type": "stream",
     "text": [
      "FOR:1\n",
      "FOR:2\n",
      "FOR:3\n"
     ]
    }
   ],
   "source": [
    "for item in x:\n",
    "    print('FOR:{0}'.format(item))"
   ]
  },
  {
   "cell_type": "markdown",
   "metadata": {
    "slideshow": {
     "slide_type": "slide"
    }
   },
   "source": [
    "#### WHILE\n",
    "Keep executing statement(s) until condition is not met."
   ]
  },
  {
   "cell_type": "code",
   "execution_count": 10,
   "metadata": {
    "slideshow": {
     "slide_type": "fragment"
    }
   },
   "outputs": [
    {
     "name": "stdout",
     "output_type": "stream",
     "text": [
      "WHILE:[1, 2, 3]\n"
     ]
    }
   ],
   "source": [
    "y = []\n",
    "i = 0\n",
    "while len(y) < len(x):\n",
    "    i += 1\n",
    "    y.append(i)\n",
    "print('WHILE:{0}'.format(y))"
   ]
  },
  {
   "cell_type": "markdown",
   "metadata": {
    "slideshow": {
     "slide_type": "slide"
    }
   },
   "source": [
    "\n",
    "###  Functions\n",
    "* Used to logically seperate off common code.\n",
    "* Can return value(s) to calling function."
   ]
  },
  {
   "cell_type": "code",
   "execution_count": 11,
   "metadata": {
    "slideshow": {
     "slide_type": "fragment"
    }
   },
   "outputs": [
    {
     "name": "stdout",
     "output_type": "stream",
     "text": [
      "The sum of [1, 2, 3, 4, 5, 6] is 21\n"
     ]
    }
   ],
   "source": [
    "def add_up(num_list):\n",
    "    x = 0\n",
    "    for i in num_list:\n",
    "        x += i\n",
    "    return x\n",
    "\n",
    "nums = [1, 2, 3, 4, 5, 6]\n",
    "print('The sum of {0} is {1}'.format(nums, add_up(nums)))"
   ]
  },
  {
   "cell_type": "markdown",
   "metadata": {
    "slideshow": {
     "slide_type": "slide"
    }
   },
   "source": [
    "###  Exception Handling\n",
    "* Gracefully handle problems occuring in execution.\n",
    "* exceptions are signals sent from interpreter at time of problem.\n",
    "* Unless handled, they will cause a program to crash, displaying the exception."
   ]
  },
  {
   "cell_type": "code",
   "execution_count": 12,
   "metadata": {
    "slideshow": {
     "slide_type": "slide"
    }
   },
   "outputs": [
    {
     "ename": "ZeroDivisionError",
     "evalue": "division by zero",
     "output_type": "error",
     "traceback": [
      "\u001b[0;31m---------------------------------------------------------------------------\u001b[0m",
      "\u001b[0;31mZeroDivisionError\u001b[0m                         Traceback (most recent call last)",
      "\u001b[0;32m<ipython-input-12-de36810981c5>\u001b[0m in \u001b[0;36m<module>\u001b[0;34m\u001b[0m\n\u001b[1;32m      1\u001b[0m \u001b[0mx\u001b[0m \u001b[0;34m=\u001b[0m \u001b[0;36m3\u001b[0m\u001b[0;34m\u001b[0m\u001b[0;34m\u001b[0m\u001b[0m\n\u001b[0;32m----> 2\u001b[0;31m \u001b[0mprint\u001b[0m\u001b[0;34m(\u001b[0m\u001b[0mx\u001b[0m \u001b[0;34m/\u001b[0m \u001b[0;36m0\u001b[0m\u001b[0;34m)\u001b[0m\u001b[0;34m\u001b[0m\u001b[0;34m\u001b[0m\u001b[0m\n\u001b[0m",
      "\u001b[0;31mZeroDivisionError\u001b[0m: division by zero"
     ]
    }
   ],
   "source": [
    "x = 3\n",
    "print(x / 0)"
   ]
  },
  {
   "cell_type": "markdown",
   "metadata": {
    "slideshow": {
     "slide_type": "fragment"
    }
   },
   "source": [
    "* Exceptions can be used by wrapping code in try / except statements."
   ]
  },
  {
   "cell_type": "code",
   "execution_count": 19,
   "metadata": {
    "slideshow": {
     "slide_type": "fragment"
    }
   },
   "outputs": [
    {
     "name": "stdout",
     "output_type": "stream",
     "text": [
      "You're trying to print by zero, this isnt allowed!\n"
     ]
    }
   ],
   "source": [
    "x = 3\n",
    "try:\n",
    "    print(x / 0)\n",
    "except ZeroDivisionError:\n",
    "    print(\"You're trying to print by zero, this isnt allowed!\")"
   ]
  },
  {
   "cell_type": "markdown",
   "metadata": {
    "slideshow": {
     "slide_type": "slide"
    }
   },
   "source": [
    "###  Classes\n",
    "* Used to group together variables/classes logically (usually into a model of something).\n",
    "* All the types we have been using are classes!\n"
   ]
  },
  {
   "cell_type": "code",
   "execution_count": null,
   "metadata": {
    "slideshow": {
     "slide_type": "fragment"
    }
   },
   "outputs": [],
   "source": [
    "class TrainingGroup:\n",
    "    # class members\n",
    "    date = ''\n",
    "    participants = []\n",
    "\n",
    "    # class methods\n",
    "    def __init__(self, date, participants):\n",
    "        self.date = date\n",
    "        self.participants = participants\n",
    "\n",
    "    def __str__(self):\n",
    "        return '{0} participants on {1}'.format(len(self.participants), self.date)\n",
    "\n",
    "    def kick_member(self, idiot):\n",
    "        new_members = []\n",
    "        for member in self.participants:\n",
    "            if idiot != member:\n",
    "                new_members.append(member)\n",
    "            else:\n",
    "                print('kicking {0}'.format(idiot))\n",
    "        self.participants = new_members\n",
    "\n",
    "\n",
    "group = TrainingGroup('python', ['Tom', 'Dick', 'Harry'])\n",
    "print(group)\n",
    "print(group.participants)\n",
    "group.kick_member('Dick')\n",
    "print(group)\n",
    "print(group.participants)"
   ]
  },
  {
   "cell_type": "markdown",
   "metadata": {
    "slideshow": {
     "slide_type": "slide"
    }
   },
   "source": [
    "###  Files"
   ]
  },
  {
   "cell_type": "code",
   "execution_count": null,
   "metadata": {
    "slideshow": {
     "slide_type": "fragment"
    }
   },
   "outputs": [],
   "source": [
    "infile  = open('testfile.txt', 'r')       # opened for reading only\n",
    "outfile = open('file.output.txt', 'w')    # opened for writing\n",
    "for line in infile.readlines():\n",
    "    outfile.write(line)"
   ]
  },
  {
   "cell_type": "markdown",
   "metadata": {
    "slideshow": {
     "slide_type": "fragment"
    }
   },
   "source": [
    "Files can be opened in different *modes*:\n",
    "\n",
    "```|||\n",
    "|:--|:-------------------------------------------------------------------------------------------------------------------|\n",
    "|r  |Open text file for reading. The stream is positioned at the beginning of the file.                                  |\n",
    "|r+ |Open for reading and writing. The stream is positioned at the beginning of the file.                                |\n",
    "|w  |Truncate file to zero length or create text file for writing. The stream is positioned at the beginning of the file.|\n",
    "|w+ |Open for reading and writing.  The file is created if it does not exist, otherwise it is truncated.  The stream is  |\n",
    "|   |positioned at the beginning of the file.                                                                            |\n",
    "|a  |Open for writing.  The file is created if it does not exist. The stream is positioned at the end of the file.       |\n",
    "|   |Subsequent writes to the file will always end up at the then current end of file.                                   |\n",
    "|a+ |Open for reading and writing. The file is created if it does not exist.  The stream is positioned at the end of the |\n",
    "|   |file.  Subsequent writes to the file will always end up at the then current end of file.                            |\n",
    "```"
   ]
  },
  {
   "cell_type": "markdown",
   "metadata": {
    "slideshow": {
     "slide_type": "slide"
    }
   },
   "source": [
    "###  Larger Programs - *Using Modules*\n",
    "* Large codebases can be broken up into seperate files.\n",
    "* **Calling** functions calling functions from another file need to have **imported** them before use.\n",
    "* Good practice to cut down on *code replication*.\n",
    "* Importing a file causes **all code in the file to be executed**.\n",
    "    * Need to be wary of code not within a function\n",
    "    * Can *guard* against this code by wrapping it in `if __name__ == '__main__':`"
   ]
  },
  {
   "cell_type": "code",
   "execution_count": null,
   "metadata": {
    "slideshow": {
     "slide_type": "slide"
    }
   },
   "outputs": [],
   "source": [
    "def sum_numeric_list(nums):\n",
    "    \"\"\"\n",
    "    Accepts a list of numeric values.\n",
    "    Returns the sum of the elements.\n",
    "    \"\"\"\n",
    "    sum = 0\n",
    "    for item in nums:\n",
    "        sum += item\n",
    "    return sum\n",
    "\n",
    "\n",
    "def prune_dict(dict, keys_to_remove):\n",
    "    \"\"\"\n",
    "    Accepts a dict to priune and a list of keys to remove.\n",
    "    Matching keys are deleted and rmainders returned.\n",
    "    \"\"\"\n",
    "    pruned_dict = {}\n",
    "    for key in dict.keys():\n",
    "        if key not in keys_to_remove:\n",
    "            pruned_dict[key] = dict[key]\n",
    "\n",
    "    return pruned_dict\n",
    "\n",
    "\n",
    "if __name__ == '__main__':\n",
    "    test_ints = [1, 2, 3, 4, 5]\n",
    "    print('The sum of {0} is {1}'.format(test_ints, sum_numeric_list(test_ints)))\n",
    "\n",
    "    test_dict = {'Tom': 'The First', 'Dick': 'The Second', 'Harry': 'The Third'}\n",
    "    pruned_dict = prune_dict(test_dict, 'Tom')\n",
    "    print('Stripping \\'Tom\\' from {0} gives us {1}'.format(test_dict, pruned_dict))"
   ]
  },
  {
   "cell_type": "markdown",
   "metadata": {
    "slideshow": {
     "slide_type": "slide"
    }
   },
   "source": [
    "```\n",
    "> python\n",
    "Python 2.7.9 (default, May  1 2015, 19:04:44)\n",
    "[GCC 4.2.1 Compatible Apple LLVM 6.1.0 (clang-602.0.49)] on darwin\n",
    "Type \"help\", \"copyright\", \"credits\" or \"license\" for more information.\n",
    ">>> import mymodule\n",
    ">>> dir(mymodule)\n",
    "['__builtins__', '__doc__', '__file__', '__name__', '__package__', 'prune_dict', 'sum_numeric_list']\n",
    "```\n",
    "\n",
    "---\n",
    "\n",
    "###  Larger Programs - *Using Modules*\n",
    "After importing the module, you can now use it's functions without the test code being called:\n",
    "\n",
    "*import py:*"
   ]
  },
  {
   "cell_type": "code",
   "execution_count": null,
   "metadata": {
    "slideshow": {
     "slide_type": "fragment"
    }
   },
   "outputs": [],
   "source": [
    "import mymodule\n",
    "\n",
    "from mymodule import prune_dict\n",
    "\n",
    "nums = [6, 7, 8, 9]\n",
    "print('SUM:{0}'.format(mymodule.sum_numeric_list(nums)))\n",
    "\n",
    "dict = {'a': 1, 'b': 2, 'c': 3}\n",
    "new_dict = prune_dict(dict, 'b')\n",
    "\n",
    "print('dict:     {0}'.format(dict))\n",
    "print('new_dict: {0}'.format(new_dict))"
   ]
  },
  {
   "cell_type": "markdown",
   "metadata": {
    "slideshow": {
     "slide_type": "slide"
    }
   },
   "source": [
    "###  Pattern Matching\n",
    "* Regex matching is done via built in `re` module.\n",
    "* re.search - *look for pattern anywhere within string*\n",
    "* re.match  - *look for exact pattern match in string*\n",
    "* regex's can be pre-compiled for optimisation *see example*\n",
    "\n",
    "\n",
    "*regex cheat sheet*:\n",
    "```\n",
    "|||\n",
    "|------:|:--------------------------------------------------------------------------|\n",
    "|^      |start of string                                                            |\n",
    "|$      |end of string                                                              |\n",
    "|[abc]  |Any one character from list (a OR b OR c)                                  |\n",
    "|[a-m]  |Any one character from range (a OR b OR ... OR m)                          |\n",
    "|[^abc] |Any one character not in list (NOT a NOR b NOR c)                          |\n",
    "|.      |Any one character                                                          |\n",
    "|\\s     |Any white space character                                                  |\n",
    "|\\S     |Any NON white space character                                              |\n",
    "|\\d     |Any digit                                                                  |\n",
    "|\\D     |Any NON digit                                                              |\n",
    "|\\w     |Any alphanumeric                                                           |\n",
    "|\\W     |Any NON alphanumeric                                                       |\n",
    "|()     |Group together matches within parentheses (use with re.search().group()).  |\n",
    "```"
   ]
  },
  {
   "cell_type": "markdown",
   "metadata": {
    "slideshow": {
     "slide_type": "slide"
    }
   },
   "source": [
    "###  Pattern Matching\n"
   ]
  },
  {
   "cell_type": "code",
   "execution_count": null,
   "metadata": {
    "slideshow": {
     "slide_type": "fragment"
    }
   },
   "outputs": [],
   "source": [
    "import re\n",
    "string = 'The quick brown fox jumps over the laxy dog.'\n",
    "\n",
    "print('search:      {0}'.format(re.search('The quick brown fox', string)))\n",
    "print('search_gr0:  {0}'.format(re.search('The quick brown fox', string).group(0)))\n",
    "\n",
    "print('match:       {0}'.format(re.match('quick (brown) fox', string)))\n",
    "print('match_gr0:   {0}'.format(re.match('\\S* quick (brown) fox', string).group(0)))\n",
    "print('match_gr1:   {0}'.format(re.match('\\S* quick (brown) fox', string).group(1)))\n",
    "\n",
    "regex = re.compile('^[\\S\\s]*(over) (the)[\\s\\S]*')\n",
    "print('compiled_match_gr0:  {0}'.format(regex.match(string).group(0)))\n",
    "print('compiled_match_gr1:  {0}'.format(regex.match(string).group(1)))\n",
    "print('compiled_match_gr2:  {0}'.format(regex.match(string).group(2)))"
   ]
  },
  {
   "cell_type": "markdown",
   "metadata": {
    "slideshow": {
     "slide_type": "slide"
    }
   },
   "source": [
    "###  Debugging - PDB\n",
    "* Drops script into interactive console either when:\n",
    "    * Interpreter hit `pdb.set_trace()` function.\n",
    "    * In python 3.7+ you can use the breakpoint() function instead.\n",
    "    * Interpreter hits an *unhandled* exception (if script called with `python -m pdb <script.py>`.\n",
    "* Same as an interactive python shell any commands/functions you like can be called manually to test.\n",
    "```\n",
    "|||\n",
    "|------:|:------------------------------|\n",
    "|l      | show code at current frame    |\n",
    "|c      | continue code execution       |\n",
    "|bob    | prints variable 'bob'         |\n",
    "|Ctrl-c | quit script as usual          |\n",
    "```"
   ]
  }
 ],
 "metadata": {
  "kernelspec": {
   "display_name": "Python 3",
   "language": "python",
   "name": "python3"
  },
  "language_info": {
   "codemirror_mode": {
    "name": "ipython",
    "version": 3
   },
   "file_extension": ".py",
   "mimetype": "text/x-python",
   "name": "python",
   "nbconvert_exporter": "python",
   "pygments_lexer": "ipython3",
   "version": "3.7.2"
  }
 },
 "nbformat": 4,
 "nbformat_minor": 2
}
