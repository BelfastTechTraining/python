{
 "cells": [
  {
   "cell_type": "markdown",
   "metadata": {
    "slideshow": {
     "slide_type": "notes"
    }
   },
   "source": [
    "1. Change default font size for tables in RISE\n",
    "2. Module included in examples\n",
    "3. Hidden list for pdb example\n",
    "4. Functions for exercise"
   ]
  },
  {
   "cell_type": "code",
   "execution_count": 1,
   "metadata": {
    "slideshow": {
     "slide_type": "notes"
    }
   },
   "outputs": [
    {
     "data": {
      "text/html": [
       "<style>\n",
       ".rendered_html table, .rendered_html th, .rendered_html tr, .rendered_html td {\n",
       "     font-size: 100%;\n",
       "}\n",
       "</style>\n"
      ],
      "text/plain": [
       "<IPython.core.display.HTML object>"
      ]
     },
     "metadata": {},
     "output_type": "display_data"
    }
   ],
   "source": [
    "%%HTML\n",
    "<style>\n",
    ".rendered_html table, .rendered_html th, .rendered_html tr, .rendered_html td {\n",
    "     font-size: 100%;\n",
    "}\n",
    "</style>"
   ]
  },
  {
   "cell_type": "code",
   "execution_count": 2,
   "metadata": {
    "slideshow": {
     "slide_type": "notes"
    }
   },
   "outputs": [],
   "source": [
    "# Hack a module into sys, we use this for an example\n",
    "import sys\n",
    "from types import ModuleType\n",
    "\n",
    "my_module = \"\"\"\n",
    "def sum_numeric_list(nums):\n",
    "    sum = 0\n",
    "    for item in nums:\n",
    "        sum += item\n",
    "    return sum\n",
    "\n",
    "\n",
    "def prune_dict(dict, keys_to_remove):\n",
    "    pruned_dict = {}\n",
    "    for key in dict.keys():\n",
    "        if key not in keys_to_remove:\n",
    "            pruned_dict[key] = dict[key]\n",
    "\n",
    "    return pruned_dict\n",
    "\"\"\"\n",
    "    \n",
    "mod = ModuleType('mymodule')\n",
    "sys.modules['mymodule'] = mod\n",
    "exec(my_module, mod.__dict__)"
   ]
  },
  {
   "cell_type": "code",
   "execution_count": 3,
   "metadata": {
    "slideshow": {
     "slide_type": "notes"
    }
   },
   "outputs": [],
   "source": [
    "contraband = ['gun', 'drugs', 'A human foot']"
   ]
  },
  {
   "cell_type": "code",
   "execution_count": 4,
   "metadata": {
    "slideshow": {
     "slide_type": "notes"
    }
   },
   "outputs": [],
   "source": [
    "def is_leap(year):\n",
    "    if year % 4 == 0:\n",
    "        if year % 100 == 0:\n",
    "            if year % 400 == 0:\n",
    "                return True\n",
    "            else:\n",
    "                return False\n",
    "        else:\n",
    "            return True\n",
    "    else:\n",
    "        return False\n",
    "    \n",
    "def num_days(year1, year2):\n",
    "    total = 0\n",
    "    for year in range(year1, year2 + 1):\n",
    "        if is_leap(year):\n",
    "            total += 366\n",
    "        else:\n",
    "            total += 365\n",
    "    return total"
   ]
  },
  {
   "cell_type": "markdown",
   "metadata": {
    "slideshow": {
     "slide_type": "slide"
    }
   },
   "source": [
    "# Welcome to the python basics interactive slides\n",
    "Press `space` to move to the next sub- slide..."
   ]
  },
  {
   "cell_type": "markdown",
   "metadata": {
    "slideshow": {
     "slide_type": "subslide"
    }
   },
   "source": [
    "## Press it again to be taken to a code cell\n",
    " \n",
    "You can click on it and run the code cell, live in the presentation!\n",
    "\n",
    "Try pressing shift + enter after you click in the cell."
   ]
  },
  {
   "cell_type": "code",
   "execution_count": 5,
   "metadata": {
    "slideshow": {
     "slide_type": "fragment"
    }
   },
   "outputs": [
    {
     "name": "stdout",
     "output_type": "stream",
     "text": [
      "Nice!\n"
     ]
    }
   ],
   "source": [
    "print('Nice!')"
   ]
  },
  {
   "cell_type": "markdown",
   "metadata": {
    "slideshow": {
     "slide_type": "-"
    }
   },
   "source": [
    "If you want to go backwards, hit `shift + space`. Or click the `X` in the top left to go back to the notebook interface."
   ]
  },
  {
   "cell_type": "markdown",
   "metadata": {
    "slideshow": {
     "slide_type": "slide"
    }
   },
   "source": [
    "# Python Basics\n",
    "## A quick primer on the language.\n",
    "\n",
    "* Introduction to Python\n",
    "* Control Structures\n",
    "* Basic Data Types\n",
    "* Advanced Data Types\n",
    "* Lists & Dictionaries\n",
    "* Functions\n",
    "* Exception Handling\n",
    "* Classes\n",
    "* Files\n",
    "* Larger Programs & modules\n",
    "* Pattern Matching"
   ]
  },
  {
   "cell_type": "markdown",
   "metadata": {
    "slideshow": {
     "slide_type": "subslide"
    }
   },
   "source": [
    "###  Introduction to Python\n",
    "* General purpose high level language:\n",
    "* Emphasis placed on\n",
    "    * Human Readability.\n",
    "    * Self describing code."
   ]
  },
  {
   "cell_type": "markdown",
   "metadata": {
    "slideshow": {
     "slide_type": "subslide"
    }
   },
   "source": [
    "The Zen of Python, by Tim Peters (PEP-20) (try `import this` in python)\n",
    "\n",
    "- Beautiful is better than ugly.\n",
    "- Explicit is better than implicit.\n",
    "- Simple is better than complex.\n",
    "- Complex is better than complicated.\n",
    "- Flat is better than nested.\n",
    "- Sparse is better than dense.\n",
    "- Readability counts.\n",
    "- Special cases aren't special enough to break the rules.\n",
    "- Although practicality beats purity.\n",
    "- Errors should never pass silently.\n",
    "- Unless explicitly silenced.\n",
    "- In the face of ambiguity, refuse the temptation to guess.\n",
    "- There should be one-- and preferably only one --obvious way to do it.\n",
    "- Although that way may not be obvious at first unless you're Dutch.\n",
    "- Now is better than never.\n",
    "- Although never is often better than *right* now.\n",
    "- If the implementation is hard to explain, it's a bad idea.\n",
    "- If the implementation is easy to explain, it may be a good idea.\n",
    "- Namespaces are one honking great idea -- let's do more of those!\n"
   ]
  },
  {
   "cell_type": "markdown",
   "metadata": {
    "slideshow": {
     "slide_type": "skip"
    }
   },
   "source": [
    "During this lesson, we'll be using this web page to execute our python code. "
   ]
  },
  {
   "cell_type": "code",
   "execution_count": 6,
   "metadata": {
    "slideshow": {
     "slide_type": "skip"
    }
   },
   "outputs": [
    {
     "name": "stdout",
     "output_type": "stream",
     "text": [
      "Hello World!\n"
     ]
    }
   ],
   "source": [
    "print('Hello World!')"
   ]
  },
  {
   "cell_type": "markdown",
   "metadata": {
    "slideshow": {
     "slide_type": "skip"
    }
   },
   "source": [
    "If you have an IDE already set up and would prefer to use that, then just copy and paste the code segments into it. "
   ]
  },
  {
   "cell_type": "markdown",
   "metadata": {
    "slideshow": {
     "slide_type": "slide"
    }
   },
   "source": [
    "### Python Indentations (white space)\n",
    "In most programming languages, indentation is for readability only, in Python indentation is part of the language.\n",
    "\n",
    "Python uses indentation to indicate a block of code."
   ]
  },
  {
   "cell_type": "code",
   "execution_count": 7,
   "metadata": {
    "slideshow": {
     "slide_type": "fragment"
    }
   },
   "outputs": [
    {
     "name": "stdout",
     "output_type": "stream",
     "text": [
      "Ten is greater than eight\n"
     ]
    }
   ],
   "source": [
    "if 10 > 8:\n",
    "    print(\"Ten is greater than eight\")"
   ]
  },
  {
   "cell_type": "code",
   "execution_count": 8,
   "metadata": {
    "slideshow": {
     "slide_type": "fragment"
    }
   },
   "outputs": [
    {
     "ename": "IndentationError",
     "evalue": "expected an indented block (<ipython-input-8-9a24f7160616>, line 2)",
     "output_type": "error",
     "traceback": [
      "\u001b[0;36m  File \u001b[0;32m\"<ipython-input-8-9a24f7160616>\"\u001b[0;36m, line \u001b[0;32m2\u001b[0m\n\u001b[0;31m    print(\"Ten is greater than eight\")\u001b[0m\n\u001b[0m        ^\u001b[0m\n\u001b[0;31mIndentationError\u001b[0m\u001b[0;31m:\u001b[0m expected an indented block\n"
     ]
    }
   ],
   "source": [
    "if 10 > 8:\n",
    "print(\"Ten is greater than eight\")"
   ]
  },
  {
   "cell_type": "markdown",
   "metadata": {
    "slideshow": {
     "slide_type": "slide"
    }
   },
   "source": [
    "### Brackets\n",
    "\n",
    "In a lot of languages brackets are used to denote blocks of code. In python this is not the case, they are used for:\n",
    "\n",
    "* `[]`: Mutable data types - lists, list comprehensions and for indexing/lookup/slicing.\n",
    "* `()`: Define tuples, order of operations, generator expressions, function calls and other syntax.\n",
    "* `{}`: The two hash table types - dictionaries and sets.\n",
    "\n",
    "If you don't understand what these are, don't worry. We'll get to them all eventually."
   ]
  },
  {
   "cell_type": "markdown",
   "metadata": {
    "slideshow": {
     "slide_type": "slide"
    }
   },
   "source": [
    "### Comments\n",
    "Sometimes you want to write notes to yourself and others in your code, this is where we use comments.\n",
    "\n",
    "Any line starting with a `#` will basically be ignored by python, but will be there for others to read in your source code."
   ]
  },
  {
   "cell_type": "code",
   "execution_count": 13,
   "metadata": {
    "slideshow": {
     "slide_type": "-"
    }
   },
   "outputs": [
    {
     "name": "stdout",
     "output_type": "stream",
     "text": [
      "Hello, World!\n"
     ]
    }
   ],
   "source": [
    "# This is a comment.\n",
    "print(\"Hello, World!\")"
   ]
  },
  {
   "cell_type": "markdown",
   "metadata": {
    "slideshow": {
     "slide_type": "subslide"
    }
   },
   "source": [
    "### Docstrings\n",
    "There is an extended documentation capability, called docstrings.\n",
    "\n",
    "Docstrings can be one line, or multiline. Docstring should describe what the function does, not how.\n",
    "\n",
    "Strictly speaking, all functions should have a doc string. They can be used by IDEs and other tools to provide help text to others.\n",
    "\n",
    "They are created by using triple quotes:"
   ]
  },
  {
   "cell_type": "code",
   "execution_count": 14,
   "metadata": {
    "slideshow": {
     "slide_type": "-"
    }
   },
   "outputs": [
    {
     "name": "stdout",
     "output_type": "stream",
     "text": [
      "FEED ME SEYMOUR!\n"
     ]
    }
   ],
   "source": [
    "\"\"\"This is a \n",
    "multiline docstring.\"\"\"\n",
    "print(\"FEED ME SEYMOUR!\")"
   ]
  },
  {
   "cell_type": "markdown",
   "metadata": {
    "slideshow": {
     "slide_type": "slide"
    }
   },
   "source": [
    "### Creating Variables\n",
    "In some languages you need a command to declare a variable, in python, a variable is created the moment you first assign a value to it."
   ]
  },
  {
   "cell_type": "code",
   "execution_count": 15,
   "metadata": {
    "slideshow": {
     "slide_type": "-"
    }
   },
   "outputs": [
    {
     "name": "stdout",
     "output_type": "stream",
     "text": [
      "55\n",
      "John\n"
     ]
    }
   ],
   "source": [
    "age = 55\n",
    "name = \"John\"\n",
    "print(age)\n",
    "print(name)"
   ]
  },
  {
   "cell_type": "markdown",
   "metadata": {
    "slideshow": {
     "slide_type": "fragment"
    }
   },
   "source": [
    "You don't need to tell python what data type a variable is, in fact you can change it's type after you've created it."
   ]
  },
  {
   "cell_type": "code",
   "execution_count": 16,
   "metadata": {
    "slideshow": {
     "slide_type": "-"
    }
   },
   "outputs": [
    {
     "name": "stdout",
     "output_type": "stream",
     "text": [
      "Two fried eggs and a bottle of rum\n"
     ]
    }
   ],
   "source": [
    "myVar = 4 # myVar has a data type of int\n",
    "myVar = \"Two fried eggs and a bottle of rum\" # myVar now has a data type of str\n",
    "print(myVar)"
   ]
  },
  {
   "cell_type": "markdown",
   "metadata": {
    "slideshow": {
     "slide_type": "slide"
    }
   },
   "source": [
    "###  Basic Data Types\n",
    "* Everything is an object, this means most python data types have methods (functions) that can be called.\n",
    "* Interpreter can be left to decide what a variable is.\n",
    "* Explicit casts are available (int(), str() etc) but are not recommended."
   ]
  },
  {
   "cell_type": "code",
   "execution_count": 17,
   "metadata": {
    "slideshow": {
     "slide_type": "-"
    }
   },
   "outputs": [
    {
     "name": "stdout",
     "output_type": "stream",
     "text": [
      "This is a string \n",
      "1.32\n",
      "This is a string This is a string This is a string This is a string \n"
     ]
    }
   ],
   "source": [
    "i = 4\n",
    "f = 0.33\n",
    "s = \"This is a string \"\n",
    "\n",
    "print(s)\n",
    "print(f * i)\n",
    "print(s * i)"
   ]
  },
  {
   "cell_type": "markdown",
   "metadata": {
    "slideshow": {
     "slide_type": "subslide"
    }
   },
   "source": [
    "###  Basic Data Types\n",
    "\n",
    "Since everything is an object, strings have builtin methods for modification.\n",
    "\n",
    "To call an object's method (function) we use a `.`"
   ]
  },
  {
   "cell_type": "code",
   "execution_count": 18,
   "metadata": {
    "slideshow": {
     "slide_type": "-"
    }
   },
   "outputs": [
    {
     "name": "stdout",
     "output_type": "stream",
     "text": [
      "wE haVE uR DAugHTeR, bRinG $1,000,000 iN UNmARkEd NotEs\n",
      "wE haVE uR DAugHTeR, bRinG $1,000,000\n",
      "WE HAVE UR DAUGHTER, BRING $1,000,000 IN UNMARKED NOTES\n",
      "we have ur daughter, bring $1,000,000 in unmarked notes\n",
      "We HAve Ur daUGhtEr, BrINg $1,000,000 In unMarKeD nOTeS\n"
     ]
    }
   ],
   "source": [
    "# Since everything's an object. Strings have methods for manipiulation\n",
    "s = \"wE haVE uR DAugHTeR, bRinG $1,000,000 iN UNmARkEd NotEs\"\n",
    "print(s)\n",
    "print(s.rstrip(\"iN UNmARkEd NotEs\"))\n",
    "print(s.upper())\n",
    "print(s.lower())\n",
    "print(s.swapcase())"
   ]
  },
  {
   "cell_type": "markdown",
   "metadata": {
    "slideshow": {
     "slide_type": "slide"
    }
   },
   "source": [
    "### String formatting\n",
    "\n",
    "Python strings have lots of way to format them. We're going to be looking at the .format method here, if you're using python 3.6+ you might want to look at f-strings.\n",
    "\n",
    "You might see tutorials using a `%`, don't use this. It's the old way of doing things and is less readable and flexible than the other two mentioned.\n",
    "\n",
    "You can use integers inside curly brackets as an index for the format function."
   ]
  },
  {
   "cell_type": "code",
   "execution_count": 19,
   "metadata": {
    "slideshow": {
     "slide_type": "fragment"
    }
   },
   "outputs": [
    {
     "name": "stdout",
     "output_type": "stream",
     "text": [
      "['this', 'is', 'a', 'list'] some very important log line number: 987\n"
     ]
    }
   ],
   "source": [
    "print(\"{0} some very important log line number: {1}\".format(['this', 'is', 'a', 'list'], 987))"
   ]
  },
  {
   "cell_type": "markdown",
   "metadata": {
    "slideshow": {
     "slide_type": "fragment"
    }
   },
   "source": [
    "Or you can use placeholders to make it more readable"
   ]
  },
  {
   "cell_type": "code",
   "execution_count": 20,
   "metadata": {
    "slideshow": {
     "slide_type": "-"
    }
   },
   "outputs": [
    {
     "name": "stdout",
     "output_type": "stream",
     "text": [
      "Meteor strike, less important but equally concerning, at line: 666\n"
     ]
    }
   ],
   "source": [
    "err = \"Meteor strike\"\n",
    "num = 666\n",
    "print(\"{error}, less important but equally concerning, at line: {line_num}\".format(error=err, line_num=num))"
   ]
  },
  {
   "cell_type": "markdown",
   "metadata": {
    "slideshow": {
     "slide_type": "subslide"
    }
   },
   "source": [
    "This method works especially well with dereferenced dictionaries"
   ]
  },
  {
   "cell_type": "code",
   "execution_count": 21,
   "metadata": {
    "slideshow": {
     "slide_type": "fragment"
    }
   },
   "outputs": [
    {
     "name": "stdout",
     "output_type": "stream",
     "text": [
      "Sky appears to be falling: Line Number: 1337\n"
     ]
    }
   ],
   "source": [
    "# This is an advanced use case\n",
    "data = {\"error\": \"Sky appears to be falling\",\n",
    "        \"line_num\": 1337}\n",
    "print(\"{error}: Line Number: {line_num}\".format(**data))"
   ]
  },
  {
   "cell_type": "markdown",
   "metadata": {
    "slideshow": {
     "slide_type": "fragment"
    }
   },
   "source": [
    "They can also be used for padding and rounding"
   ]
  },
  {
   "cell_type": "code",
   "execution_count": 22,
   "metadata": {
    "slideshow": {
     "slide_type": "-"
    }
   },
   "outputs": [
    {
     "name": "stdout",
     "output_type": "stream",
     "text": [
      "This       is a       test\n",
      "3.14               1.235 END\n"
     ]
    }
   ],
   "source": [
    "print('{0:<10} is a {1:>10}'.format('This', 'test'))\n",
    "print('{0:.2f} {1:>19.3f} END'.format(3.141592653589793, 1.23456789))"
   ]
  },
  {
   "cell_type": "markdown",
   "metadata": {
    "slideshow": {
     "slide_type": "slide"
    }
   },
   "source": [
    "###  Sequence Data Types - *Lists*\n",
    "\n",
    "* As described, lists are a collection of objects.\n",
    "* Behave in the same way as arrays in other languages, but with the benifits of being an object in themselves!\n",
    "* Lists are **mutable**. (They can be changed once they're created)\n",
    "* Can be added to with .append() and concanated with .extend()"
   ]
  },
  {
   "cell_type": "code",
   "execution_count": 23,
   "metadata": {
    "slideshow": {
     "slide_type": "fragment"
    }
   },
   "outputs": [
    {
     "name": "stdout",
     "output_type": "stream",
     "text": [
      "[1, 2, 3, 4] is of length 4\n",
      "[1, 2, 3, 4, 5] is of length 5\n",
      "[1, 2, 3, 4, 5, 'a', 'b', 'c', 'd'] is of length 4\n",
      "[['a'], (1, 2, 3), False] is of length 3\n"
     ]
    }
   ],
   "source": [
    "list_numbers = [1, 2, 3, 4]\n",
    "list_strings = ['a', 'b', 'c', 'd']\n",
    "list_special = [['a'], (1, 2, 3), False]\n",
    "\n",
    "print('{0} is of length {1}'.format(list_numbers, len(list_numbers)))\n",
    "\n",
    "list_numbers.append(5)\n",
    "print('{0} is of length {1}'.format(list_numbers, len(list_numbers)))\n",
    "\n",
    "list_numbers.extend(list_strings)\n",
    "print('{0} is of length {1}'.format(list_numbers, len(list_strings)))\n",
    "\n",
    "print('{0} is of length {1}'.format(list_special, len(list_special)))"
   ]
  },
  {
   "cell_type": "markdown",
   "metadata": {
    "slideshow": {
     "slide_type": "slide"
    }
   },
   "source": [
    "###  Sequence Data Types - *Tuples*\n",
    "* Similar to lists except that they are **immutable**!\n",
    "* Cannot be modified once created.\n",
    "* Useful when returning more than one thing from *functions* (see later).\n",
    "* They are also faster than lists, so if you're concerned about performance they can be useful."
   ]
  },
  {
   "cell_type": "code",
   "execution_count": 24,
   "metadata": {
    "slideshow": {
     "slide_type": "fragment"
    }
   },
   "outputs": [
    {
     "name": "stdout",
     "output_type": "stream",
     "text": [
      "() is of length 0\n",
      "(1,) is of length 1\n",
      "(1, 2, 3) is of length 3\n",
      "(1, 'mixed', 2, 'tuple') is of length 4\n",
      "((1, 2), (3, 4)) is of length 2\n"
     ]
    }
   ],
   "source": [
    "empty = ()\n",
    "number = (1,)\n",
    "numbers = (1, 2, 3)\n",
    "mixed = (1, \"mixed\", 2, \"tuple\")\n",
    "tuples = ((1, 2), (3, 4))\n",
    "\n",
    "print('{0} is of length {1}'.format(empty, len(empty)))\n",
    "print('{0} is of length {1}'.format(number, len(number)))\n",
    "print('{0} is of length {1}'.format(numbers, len(numbers)))\n",
    "print('{0} is of length {1}'.format(mixed, len(mixed)))\n",
    "print('{0} is of length {1}'.format(tuples, len(tuples)))"
   ]
  },
  {
   "cell_type": "markdown",
   "metadata": {
    "slideshow": {
     "slide_type": "slide"
    }
   },
   "source": [
    "###  Sequence Data Types - *Dictionaries*\n",
    "* Used to store **key value pairs**.\n",
    "* Not stored in any particular order (in < 3.6), left up to interpreter to order when inserting/accessing.\n",
    "* Values can be accessed/updated by refering to dictionary's key.\n"
   ]
  },
  {
   "cell_type": "code",
   "execution_count": 25,
   "metadata": {
    "slideshow": {
     "slide_type": "fragment"
    }
   },
   "outputs": [
    {
     "name": "stdout",
     "output_type": "stream",
     "text": [
      "{'name': 'Matt', 'job': 'something or other'}\n",
      "dict_keys(['name', 'job'])\n",
      "My name is Matt\n",
      "My job is something or other\n"
     ]
    }
   ],
   "source": [
    "my_dict = {}\n",
    "my_dict['name'] = 'Matt'\n",
    "my_dict['job'] = 'something or other'\n",
    "\n",
    "print(my_dict)\n",
    "print(my_dict.keys())\n",
    "print('My name is {0}'.format(my_dict['name']))\n",
    "print('My job is {0}'.format(my_dict['job']))"
   ]
  },
  {
   "cell_type": "code",
   "execution_count": 26,
   "metadata": {
    "slideshow": {
     "slide_type": "-"
    }
   },
   "outputs": [
    {
     "name": "stdout",
     "output_type": "stream",
     "text": [
      "{'name': 'Matt', 'job': 'something or other'}\n",
      "dict_keys(['name', 'job'])\n",
      "My name is Matt\n",
      "My job is something or other\n"
     ]
    }
   ],
   "source": [
    "my_dict = {'name': 'Matt',\n",
    "           'job': 'something or other'}\n",
    "\n",
    "print(my_dict)\n",
    "print(my_dict.keys())\n",
    "print('My name is {0}'.format(my_dict['name']))\n",
    "print('My job is {0}'.format(my_dict['job']))"
   ]
  },
  {
   "cell_type": "markdown",
   "metadata": {
    "slideshow": {
     "slide_type": "slide"
    }
   },
   "source": [
    "###  Control Structures\n",
    "#### If / else\n",
    "Only execute statement(s) if condtion is met."
   ]
  },
  {
   "cell_type": "code",
   "execution_count": 27,
   "metadata": {
    "slideshow": {
     "slide_type": "-"
    }
   },
   "outputs": [
    {
     "name": "stdout",
     "output_type": "stream",
     "text": [
      "It's funny, because it's true\n"
     ]
    }
   ],
   "source": [
    "if not False:\n",
    "    print(\"It's funny, because it's true\")"
   ]
  },
  {
   "cell_type": "code",
   "execution_count": 28,
   "metadata": {
    "slideshow": {
     "slide_type": "fragment"
    }
   },
   "outputs": [
    {
     "name": "stdout",
     "output_type": "stream",
     "text": [
      "Everything appears to be normal\n"
     ]
    }
   ],
   "source": [
    "if False:\n",
    "    print(\"No one will see this... poop!\")\n",
    "else:\n",
    "    print('Everything appears to be normal')"
   ]
  },
  {
   "cell_type": "markdown",
   "metadata": {
    "slideshow": {
     "slide_type": "slide"
    }
   },
   "source": [
    "#### For\n",
    "\n",
    "Iterates through items in collection (set, list, tuple etc...)"
   ]
  },
  {
   "cell_type": "code",
   "execution_count": 29,
   "metadata": {
    "slideshow": {
     "slide_type": "-"
    }
   },
   "outputs": [
    {
     "name": "stdout",
     "output_type": "stream",
     "text": [
      "Lions\n",
      "Tigers\n",
      "Bears\n",
      "Oh my!\n"
     ]
    }
   ],
   "source": [
    "my_list = ['Lions', 'Tigers', 'Bears', 'Oh my!']\n",
    "for item in my_list:\n",
    "    print('{0}'.format(item))"
   ]
  },
  {
   "cell_type": "markdown",
   "metadata": {
    "slideshow": {
     "slide_type": "subslide"
    }
   },
   "source": [
    "#### Looping over a dictionary\n",
    "\n",
    "There are a few ways to loop over a dictionary, some are better than others..."
   ]
  },
  {
   "cell_type": "code",
   "execution_count": 30,
   "metadata": {
    "slideshow": {
     "slide_type": "-"
    }
   },
   "outputs": [
    {
     "name": "stdout",
     "output_type": "stream",
     "text": [
      "Name Michael\n",
      "Job Level 5 necromancer\n",
      "Name Michael\n",
      "Job Level 5 necromancer\n",
      "Name Michael\n",
      "Job Level 5 necromancer\n"
     ]
    }
   ],
   "source": [
    "my_dict = {'Name': 'Michael',\n",
    "           'Job': 'Level 5 necromancer'}\n",
    "\n",
    "# Itertate over dictionaries with key, value output\n",
    "# This is normally the way you want to do it, there are cases for the others at times\n",
    "for key, value in my_dict.items():\n",
    "    print(key, value)\n",
    "    \n",
    "# Itertate over dictionaries with tuple output\n",
    "for item in my_dict.items():\n",
    "    print(item[0], item[1])\n",
    "\n",
    "# Itertate over dictionaries keys\n",
    "for key in my_dict.keys():\n",
    "    print(key, my_dict[key])"
   ]
  },
  {
   "cell_type": "markdown",
   "metadata": {
    "slideshow": {
     "slide_type": "slide"
    }
   },
   "source": [
    "#### While\n",
    "\n",
    "Keep executing statement(s) until condition is not met."
   ]
  },
  {
   "cell_type": "code",
   "execution_count": 31,
   "metadata": {
    "slideshow": {
     "slide_type": "fragment"
    }
   },
   "outputs": [
    {
     "name": "stdout",
     "output_type": "stream",
     "text": [
      "Off to see the Wizard (6km left)\n",
      "Off to see the Wizard (5km left)\n",
      "Off to see the Wizard (4km left)\n",
      "Off to see the Wizard (3km left)\n",
      "Off to see the Wizard (2km left)\n",
      "Off to see the Wizard (1km left)\n",
      "Off to see the Wizard (0km left)\n",
      "There you are!\n"
     ]
    }
   ],
   "source": [
    "km_to_oz = 7\n",
    "km_travel = 0\n",
    "while km_travel < km_to_oz:\n",
    "    km_travel += 1\n",
    "    km_to_wiz = km_to_oz - km_travel\n",
    "    print(\"Off to see the Wizard ({0}km left)\".format(km_to_wiz))\n",
    "\n",
    "print('There you are!')"
   ]
  },
  {
   "cell_type": "markdown",
   "metadata": {
    "slideshow": {
     "slide_type": "slide"
    }
   },
   "source": [
    "###  Functions\n",
    "* Used to logically seperate off common code.\n",
    "* Can return value(s) to calling function."
   ]
  },
  {
   "cell_type": "code",
   "execution_count": 32,
   "metadata": {
    "slideshow": {
     "slide_type": "fragment"
    }
   },
   "outputs": [
    {
     "name": "stdout",
     "output_type": "stream",
     "text": [
      "The sum of [1, 2, 3, 4, 5, 6] is 21\n"
     ]
    }
   ],
   "source": [
    "def add_up(num_list):\n",
    "    total = 0\n",
    "    for number in num_list:\n",
    "        total += number\n",
    "    return total\n",
    "\n",
    "nums = [1, 2, 3, 4, 5, 6]\n",
    "print('The sum of {0} is {1}'.format(nums, add_up(nums)))"
   ]
  },
  {
   "cell_type": "markdown",
   "metadata": {
    "slideshow": {
     "slide_type": "slide"
    }
   },
   "source": [
    "###  Exception Handling\n",
    "* Exceptions are what happens when something goes wrong (or not as expected). Which it will. A lot. \n",
    "* They're pretty normal in python and are frequently used in programs.\n",
    "* Gracefully handle problems occuring in execution.\n",
    "* Exceptions are signals sent from interpreter at time of problem.\n",
    "* Unless handled, they will cause a program to crash, displaying the exception."
   ]
  },
  {
   "cell_type": "code",
   "execution_count": 33,
   "metadata": {
    "slideshow": {
     "slide_type": "subslide"
    }
   },
   "outputs": [
    {
     "ename": "ZeroDivisionError",
     "evalue": "division by zero",
     "output_type": "error",
     "traceback": [
      "\u001b[0;31m---------------------------------------------------------------------------\u001b[0m",
      "\u001b[0;31mZeroDivisionError\u001b[0m                         Traceback (most recent call last)",
      "\u001b[0;32m<ipython-input-33-de36810981c5>\u001b[0m in \u001b[0;36m<module>\u001b[0;34m\u001b[0m\n\u001b[1;32m      1\u001b[0m \u001b[0mx\u001b[0m \u001b[0;34m=\u001b[0m \u001b[0;36m3\u001b[0m\u001b[0;34m\u001b[0m\u001b[0m\n\u001b[0;32m----> 2\u001b[0;31m \u001b[0mprint\u001b[0m\u001b[0;34m(\u001b[0m\u001b[0mx\u001b[0m \u001b[0;34m/\u001b[0m \u001b[0;36m0\u001b[0m\u001b[0;34m)\u001b[0m\u001b[0;34m\u001b[0m\u001b[0m\n\u001b[0m",
      "\u001b[0;31mZeroDivisionError\u001b[0m: division by zero"
     ]
    }
   ],
   "source": [
    "x = 3\n",
    "print(x / 0)"
   ]
  },
  {
   "cell_type": "markdown",
   "metadata": {
    "slideshow": {
     "slide_type": "fragment"
    }
   },
   "source": [
    "* Exceptions can be used by wrapping code in try / except statements."
   ]
  },
  {
   "cell_type": "code",
   "execution_count": 34,
   "metadata": {
    "slideshow": {
     "slide_type": "-"
    }
   },
   "outputs": [
    {
     "name": "stdout",
     "output_type": "stream",
     "text": [
      "You're trying to print by zero, this isnt allowed!\n"
     ]
    }
   ],
   "source": [
    "x = 3\n",
    "try:\n",
    "    print(x / 0)\n",
    "except ZeroDivisionError:\n",
    "    print(\"You're trying to print by zero, this isnt allowed!\")"
   ]
  },
  {
   "cell_type": "markdown",
   "metadata": {
    "slideshow": {
     "slide_type": "slide"
    }
   },
   "source": [
    "###  Classes\n",
    "* Used to group together variables/classes logically (usually into a model of something).\n",
    "* All the types we have been using are classes!\n"
   ]
  },
  {
   "cell_type": "code",
   "execution_count": 35,
   "metadata": {
    "slideshow": {
     "slide_type": "-"
    }
   },
   "outputs": [
    {
     "name": "stdout",
     "output_type": "stream",
     "text": [
      "3 participants on python\n",
      "['Tom', 'Dick', 'Harry']\n",
      "kicking Dick\n",
      "2 participants on python\n",
      "['Tom', 'Harry']\n"
     ]
    }
   ],
   "source": [
    "class TrainingGroup:\n",
    "    date = ''\n",
    "    participants = []\n",
    "\n",
    "    def __init__(self, date, participants):\n",
    "        self.date = date\n",
    "        self.participants = participants\n",
    "\n",
    "    def __str__(self):\n",
    "        return '{0} participants on {1}'.format(len(self.participants), self.date)\n",
    "\n",
    "    def kick_member(self, idiot):\n",
    "        new_participant_list = []\n",
    "        for member in self.participants:\n",
    "            if idiot != member:\n",
    "                new_participant_list.append(member)\n",
    "            else:\n",
    "                print('kicking {0}'.format(idiot))\n",
    "        self.participants = new_participant_list\n",
    "\n",
    "\n",
    "group = TrainingGroup('python', ['Tom', 'Dick', 'Harry'])\n",
    "print(group)\n",
    "print(group.participants)\n",
    "group.kick_member('Dick')\n",
    "print(group)\n",
    "print(group.participants)"
   ]
  },
  {
   "cell_type": "markdown",
   "metadata": {
    "slideshow": {
     "slide_type": "slide"
    }
   },
   "source": [
    "###  Files"
   ]
  },
  {
   "cell_type": "code",
   "execution_count": null,
   "metadata": {
    "slideshow": {
     "slide_type": "-"
    }
   },
   "outputs": [],
   "source": [
    "infile  = open('testfile.txt', 'r')       # opened for reading only\n",
    "outfile = open('file.output.txt', 'w')    # opened for writing\n",
    "for line in infile.readlines():\n",
    "    outfile.write(line)"
   ]
  },
  {
   "cell_type": "markdown",
   "metadata": {
    "slideshow": {
     "slide_type": "fragment"
    }
   },
   "source": [
    "Files can be opened in different *modes*:\n",
    "\n",
    "|Mode|Description|\n",
    "|--:|:------------------------------------------------------------------------------------------------------------------:|\n",
    "|r  |Open text file for reading. The stream is positioned at the beginning of the file.                                  |\n",
    "|r+ |Open for reading and writing. The stream is positioned at the beginning of the file.                                |\n",
    "|w  |Truncate file to zero length or create text file for writing. The stream is positioned at the beginning of the file.|\n",
    "|w+ |Open for reading and writing.  The file is created if it does not exist, otherwise it is truncated.  The stream is  positioned at the beginning of the file.                                                                            |\n",
    "|a  |Open for writing.  The file is created if it does not exist. The stream is positioned at the end of the file. Subsequent writes to the file will always end up at the then current end of file.                                   |\n",
    "|a+ |Open for reading and writing. The file is created if it does not exist.  The stream is positioned at the end of the file.  Subsequent writes to the file will always end up at the then current end of file.                            |\n"
   ]
  },
  {
   "cell_type": "markdown",
   "metadata": {
    "slideshow": {
     "slide_type": "slide"
    }
   },
   "source": [
    "###  Larger Programs - *Using Modules*\n",
    "* Large codebases can be broken up into seperate files.\n",
    "* **Calling** functions calling functions from another file need to have **imported** them before use.\n",
    "* Good practice to cut down on *code replication*.\n",
    "* Importing a file causes **all code in the file to be executed**.\n",
    "    * Need to be wary of code not within a function\n",
    "    * Can *guard* against this code by wrapping it in `if __name__ == '__main__':`"
   ]
  },
  {
   "cell_type": "code",
   "execution_count": 37,
   "metadata": {
    "slideshow": {
     "slide_type": "slide"
    }
   },
   "outputs": [
    {
     "name": "stdout",
     "output_type": "stream",
     "text": [
      "The sum of [1, 2, 3, 4, 5] is 15\n",
      "Stripping 'Tom' from {'Tom': 'The First', 'Dick': 'The Second', 'Harry': 'The Third'} gives us {'Dick': 'The Second', 'Harry': 'The Third'}\n"
     ]
    }
   ],
   "source": [
    "def sum_numeric_list(nums):\n",
    "    \"\"\"\n",
    "    Accepts a list of numeric values.\n",
    "    Returns the sum of the elements.\n",
    "    \"\"\"\n",
    "    sum = 0\n",
    "    for item in nums:\n",
    "        sum += item\n",
    "    return sum\n",
    "\n",
    "\n",
    "def prune_dict(dict, keys_to_remove):\n",
    "    \"\"\"\n",
    "    Accepts a dict to priune and a list of keys to remove.\n",
    "    Matching keys are deleted and rmainders returned.\n",
    "    \"\"\"\n",
    "    pruned_dict = {}\n",
    "    for key in dict.keys():\n",
    "        if key not in keys_to_remove:\n",
    "            pruned_dict[key] = dict[key]\n",
    "\n",
    "    return pruned_dict\n",
    "\n",
    "\n",
    "if __name__ == '__main__':\n",
    "    test_ints = [1, 2, 3, 4, 5]\n",
    "    print('The sum of {0} is {1}'.format(test_ints, sum_numeric_list(test_ints)))\n",
    "\n",
    "    test_dict = {'Tom': 'The First', 'Dick': 'The Second', 'Harry': 'The Third'}\n",
    "    pruned_dict = prune_dict(test_dict, 'Tom')\n",
    "    print('Stripping \\'Tom\\' from {0} gives us {1}'.format(test_dict, pruned_dict))"
   ]
  },
  {
   "cell_type": "markdown",
   "metadata": {
    "slideshow": {
     "slide_type": "slide"
    }
   },
   "source": [
    "###  Larger Programs - *Using Modules*\n",
    "After importing the module, you can now use it's functions without the test code being called:"
   ]
  },
  {
   "cell_type": "code",
   "execution_count": 38,
   "metadata": {
    "slideshow": {
     "slide_type": "-"
    }
   },
   "outputs": [
    {
     "name": "stdout",
     "output_type": "stream",
     "text": [
      "Sum:      30\n",
      "dict:     {'a': 1, 'b': 2, 'c': 3}\n",
      "new_dict: {'a': 1, 'c': 3}\n"
     ]
    }
   ],
   "source": [
    "import mymodule # Loaded in notes\n",
    "\n",
    "from mymodule import sum_numeric_list\n",
    "\n",
    "nums = [6, 7, 8, 9]\n",
    "my_dict = {'a': 1, 'b': 2, 'c': 3}\n",
    "new_dict = mymodule.prune_dict(my_dict, 'b') # Called using module.function notation\n",
    "\n",
    "print('Sum:      {0}'.format(sum_numeric_list(nums))) # Called using imported function\n",
    "print('dict:     {0}'.format(my_dict))\n",
    "print('new_dict: {0}'.format(new_dict))"
   ]
  },
  {
   "cell_type": "markdown",
   "metadata": {
    "slideshow": {
     "slide_type": "slide"
    }
   },
   "source": [
    "###  Pattern Matching\n",
    "* Regex matching is done via built in `re` module.\n",
    "* re.search - *look for pattern anywhere within string*\n",
    "* re.match  - *look for exact pattern match in string*\n",
    "* regex's can be pre-compiled for optimisation *see example*"
   ]
  },
  {
   "cell_type": "markdown",
   "metadata": {
    "slideshow": {
     "slide_type": "-"
    }
   },
   "source": [
    "|Regex|Matches|\n",
    "|------:|:--------------------------------------------------------------------------|\n",
    "|^      |Start of string                                                            |\n",
    "|$      |End of string                                                              |\n",
    "|[abc]  |Any one character from list (a OR b OR c)                                  |\n",
    "|[a-m]  |Any one character from range (a OR b OR ... OR m)                          |\n",
    "|[^abc] |Any one character not in list (NOT a NOR b NOR c)                          |\n",
    "|.      |Any one character                                                          |\n",
    "|\\s     |Any white space character                                                  |\n",
    "|\\S     |Any NON white space character                                              |\n",
    "|\\d     |Any digit                                                                  |\n",
    "|\\D     |Any NON digit                                                              |\n",
    "|\\w     |Any alphanumeric                                                           |\n",
    "|\\W     |Any NON alphanumeric                                                       |\n",
    "|()     |Group together matches within parentheses (use with re.search().group()).  |"
   ]
  },
  {
   "cell_type": "markdown",
   "metadata": {
    "slideshow": {
     "slide_type": "slide"
    }
   },
   "source": [
    "###  Pattern Matching\n"
   ]
  },
  {
   "cell_type": "code",
   "execution_count": 39,
   "metadata": {
    "slideshow": {
     "slide_type": "-"
    }
   },
   "outputs": [
    {
     "name": "stdout",
     "output_type": "stream",
     "text": [
      "search:      <_sre.SRE_Match object; span=(0, 19), match='The quick brown fox'>\n",
      "search_gr0:  The quick brown fox\n",
      "match:       None\n",
      "match_gr0:   The quick brown fox\n",
      "match_gr1:   brown\n",
      "compiled_match_gr0:  The quick brown fox jumps over the laxy dog.\n",
      "compiled_match_gr1:  over\n",
      "compiled_match_gr2:  the\n"
     ]
    }
   ],
   "source": [
    "import re\n",
    "string = 'The quick brown fox jumps over the laxy dog.'\n",
    "\n",
    "print('search:      {0}'.format(re.search('The quick brown fox', string)))\n",
    "print('search_gr0:  {0}'.format(re.search('The quick brown fox', string).group(0)))\n",
    "\n",
    "print('match:       {0}'.format(re.match('quick (brown) fox', string)))\n",
    "print('match_gr0:   {0}'.format(re.match('\\S* quick (brown) fox', string).group(0)))\n",
    "print('match_gr1:   {0}'.format(re.match('\\S* quick (brown) fox', string).group(1)))\n",
    "\n",
    "regex = re.compile('^[\\S\\s]*(over) (the)[\\s\\S]*')\n",
    "print('compiled_match_gr0:  {0}'.format(regex.match(string).group(0)))\n",
    "print('compiled_match_gr1:  {0}'.format(regex.match(string).group(1)))\n",
    "print('compiled_match_gr2:  {0}'.format(regex.match(string).group(2)))"
   ]
  },
  {
   "cell_type": "markdown",
   "metadata": {
    "slideshow": {
     "slide_type": "slide"
    }
   },
   "source": [
    "###  Debugging - PDB\n",
    "* Drops script into interactive console either when:\n",
    "    * Interpreter hit `pdb.set_trace()` function.\n",
    "    * In python 3.7+ you can use the breakpoint() function instead.\n",
    "    * Interpreter hits an *unhandled* exception (if script called with `python -m pdb <script.py>`.\n",
    "* Same as an interactive python shell any commands/functions you like can be called manually to test.\n",
    "\n",
    "|Command|Function|\n",
    "|---------:|:------------------------------|\n",
    "|h(elp)    | Show available commands\n",
    "|l(ist)    | show code at current frame\n",
    "|n(ext)    | execute the current statement (step over)\n",
    "|s(tep)    | execute and step into function\n",
    "|r(eturn)  | continue execution until the current function returns\n",
    "|c(ontinue)| continue execution until a breakpoint is encountered\n",
    "|u(p)      | move one level up in the stack trace\n",
    "|d(own)    | move one level down in the stack trace\n",
    "|bob       | prints variable 'bob'\n",
    "|q(uit)    | quit debugger"
   ]
  },
  {
   "cell_type": "code",
   "execution_count": 40,
   "metadata": {
    "scrolled": false,
    "slideshow": {
     "slide_type": "slide"
    }
   },
   "outputs": [
    {
     "name": "stdout",
     "output_type": "stream",
     "text": [
      "You can't come in to the country!\n"
     ]
    }
   ],
   "source": [
    "my_luggage = ['Shoe', 'Another shoe', 'Someone else\\'s shoe', 'A human foot']\n",
    "\n",
    "def airport_security(luggage, contraband):\n",
    "    for item in luggage:\n",
    "        if item in contraband:\n",
    "            # import pdb; pdb.set_trace()\n",
    "            print(\"You can't come in to the country!\")\n",
    "\n",
    "\n",
    "airport_security(my_luggage, contraband)"
   ]
  },
  {
   "cell_type": "markdown",
   "metadata": {
    "slideshow": {
     "slide_type": "slide"
    }
   },
   "source": [
    "## Part I\n",
    "Write a program that inputs a 4 digit year and then calculates whether or not it is a leap year.\n",
    "\n",
    "\n",
    "\n",
    "### To determine whether a year is a leap year, follow these steps: \n",
    "1. If the year is evenly divisible by 4, go to step 2. Otherwise, go to step 5.\n",
    "2. If the year is evenly divisible by 100, go to step 3. Otherwise, go to step 4.\n",
    "3. If the year is evenly divisible by 400, go to step 4. Otherwise, go to step 5.\n",
    "4. The year is a leap year (it has 366 days).\n",
    "5. The year is not a leap year (it has 365 days).\n"
   ]
  },
  {
   "cell_type": "code",
   "execution_count": 41,
   "metadata": {
    "slideshow": {
     "slide_type": "-"
    }
   },
   "outputs": [
    {
     "name": "stdout",
     "output_type": "stream",
     "text": [
      "True\n",
      "False\n",
      "False\n"
     ]
    }
   ],
   "source": [
    "print(is_leap(2000))\n",
    "print(is_leap(2001))\n",
    "print(is_leap(2200))\n",
    "\n",
    "# Write your code below this line, you can use the function above to test"
   ]
  },
  {
   "cell_type": "markdown",
   "metadata": {},
   "source": [
    "## Part II\n",
    "Using a variation of the previous program, calculate the number of days in the inclusive date range '1st January 2000' to '31st December 2999'."
   ]
  },
  {
   "cell_type": "code",
   "execution_count": 42,
   "metadata": {},
   "outputs": [
    {
     "name": "stdout",
     "output_type": "stream",
     "text": [
      "365243\n"
     ]
    }
   ],
   "source": [
    "print(num_days(2000, 2999))\n",
    "\n",
    "# Write your code below this line, you can use the function above to test"
   ]
  }
 ],
 "metadata": {
  "celltoolbar": "Slideshow",
  "kernelspec": {
   "display_name": "Python 3",
   "language": "python",
   "name": "python3"
  },
  "language_info": {
   "codemirror_mode": {
    "name": "ipython",
    "version": 3
   },
   "file_extension": ".py",
   "mimetype": "text/x-python",
   "name": "python",
   "nbconvert_exporter": "python",
   "pygments_lexer": "ipython3",
   "version": "3.6.5"
  },
  "livereveal": {
   "autolaunch": true
  }
 },
 "nbformat": 4,
 "nbformat_minor": 2
}
