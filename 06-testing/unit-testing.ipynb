{
 "cells": [
  {
   "cell_type": "markdown",
   "metadata": {
    "slideshow": {
     "slide_type": "notes"
    }
   },
   "source": [
    "<script>\n",
    "    console.log(\"Hello. You'll see this printed in your browser's DevTools / Console. Feel free to delete this line.\");\n",
    "    document.querySelector('head').innerHTML += '<style>.slides { zoom: 1.0 !important; }</style>';\n",
    "</script>\n"
   ]
  },
  {
   "cell_type": "markdown",
   "metadata": {
    "slideshow": {
     "slide_type": "slide"
    }
   },
   "source": [
    "# Unit Testing\n",
    "\n",
    "In this lesson we'll learn about:\n",
    "* `pytest`\n",
    "* Using fixtures\n",
    "* Setuptools integration\n"
   ]
  },
  {
   "cell_type": "markdown",
   "metadata": {
    "slideshow": {
     "slide_type": "slide"
    }
   },
   "source": [
    "Unit tetsing is a process by which a piece of software is broken down into its smallest atomic parts (referred to as \"units\") and tested on a per-unit basis against known expected behaviours\n",
    "\n",
    "Benefits:\n",
    "- Improves code quality beyond first write.\n",
    "- Aids agile development\n",
    " - Adds confidence to future changes\n",
    "- Makes code more _self documenting_\n",
    "- Encourages design _before_ code is written\n",
    "- Testing should be a consideration before you start writing code!\n",
    " - Test driven development"
   ]
  },
  {
   "cell_type": "markdown",
   "metadata": {
    "slideshow": {
     "slide_type": "slide"
    }
   },
   "source": [
    "Properly executed, unit testing is _not_:\n",
    "- Proof that an application will work in it's entirety (or in a different environment).\n",
    "- A replacement for functional or end-to-end testing.\n",
    "- A replacement for code review.\n",
    "- A barrier to deployment."
   ]
  },
  {
   "cell_type": "markdown",
   "metadata": {
    "slideshow": {
     "slide_type": "slide"
    }
   },
   "source": [
    "# pytest\n",
    "\n",
    "- Python's defacto unitesting framework.\n",
    "- Familiar format to people familiar with `unittest` framework\n",
    " - Tests seperated by functions\n",
    " - Setup and teardown functions available (see later)\n",
    " - `assert` statements used to check and fail on values.\n",
    "- Tests can be scructured as classes instead if preferred (subclassed from unittest.TestCase).\n",
    "- Large plugin community"
   ]
  },
  {
   "cell_type": "markdown",
   "metadata": {
    "slideshow": {
     "slide_type": "slide"
    }
   },
   "source": [
    "# Project layout for testing\n",
    "- Unit tests seperated off into as many files as you want, usually roughly grouped by application area or testing type.\n",
    "- Test files (known as 'modules' in pytest) are auto-discovered by filename, looking for *test.py or test_*.py files within your project.\n",
    "- two main approaches seen:\n",
    " - keeping unit tests within the same directory as your app sourcecode (referred to as 'inline testing' in pytest)\n",
    " - seperating off into a tests/ folder at the root of your repo (shown below)\n",
    " \n",
    "```\n",
    ".\n",
    "├── setup.cfg          # setup.py and setup.cfg as usual in the root of my project\n",
    "├── setup.py\n",
    "├── testing_example    # my application code\n",
    "│   ├── __init__.py\n",
    "│   ├── main.py\n",
    "│   └── person.py\n",
    "└── tests              # all unit test code\n",
    "    ├── conftest.py\n",
    "    ├── test_common_fixtures.py\n",
    "    ├── test_fixture_factory.py\n",
    "    ├── test_fixture_factory_finalization.py\n",
    "    ├── test_fixture_finalization.py\n",
    "    ├── test_fixture_scoping.py\n",
    "    ├── test_function_arg_fixtures.py\n",
    "    ├── test_main.py\n",
    "    └── test_setup_teardown.py\n",
    "```"
   ]
  },
  {
   "cell_type": "markdown",
   "metadata": {
    "slideshow": {
     "slide_type": "slide"
    }
   },
   "source": [
    "# unit test 'Hello World'\n",
    "```python\n",
    "> cat main.py \n",
    "def product(numa, numb):\n",
    "    \"\"\" returns the product of two numbers \"\"\"\n",
    "    return numa * numb\n",
    "```\n",
    "\n",
    "```python\n",
    "> cat tests/test_main.py \n",
    "import pytest\n",
    "from testing_example import main\n",
    "\n",
    "\n",
    "def test_product():\n",
    "    assert main.product(2, 3) == 6\n",
    "\n",
    "def test_product_invalid_type():\n",
    "    with pytest.raises(TypeError, match=\".*unsupported operand type.*\") as excinfo:\n",
    "        assert main.product(-3, None)\n",
    "```\n",
    "\n",
    "```python\n",
    "> pytest -v tests/test_main.py\n",
    "========================================================================= test session starts =========================================================================\n",
    "platform darwin -- Python 3.7.2, pytest-4.4.1, py-1.8.0, pluggy-0.9.0 -- /Users/mmulhern/github/BelfastTechTraining/python/06-testing/testing_example/venv/bin/python3\n",
    "cachedir: .pytest_cache\n",
    "rootdir: /Users/mmulhern/github/BelfastTechTraining/python/06-testing/testing_example\n",
    "collected 2 items\n",
    "\n",
    "tests/test_main.py::test_product PASSED                                                                                                                         [ 50%]\n",
    "tests/test_main.py::test_product_invalid_type PASSED                                                                                                            [100%]\n",
    "\n",
    "====================================================================== 2 passed in 0.01 seconds =======================================================================```"
   ]
  },
  {
   "cell_type": "markdown",
   "metadata": {
    "slideshow": {
     "slide_type": "slide"
    }
   },
   "source": [
    "# setup and teardown\n",
    "\n",
    "```\n",
    "> cat tests/test_setup_teardown.py \n",
    "import pytest\n",
    "from testing_example import Person\n",
    "\n",
    "def setup_module(self):\n",
    "    print(\"\\nMODULE SETUP\")\n",
    "\n",
    "def teardown_module(self):\n",
    "    print(\"\\nMODULE_TEARDOWN\")\n",
    "\n",
    "def test_something():\n",
    "    assert 2*3 == 6\n",
    "```\n",
    "\n",
    "- `pytest -s` will show stdout from running your tests.\n",
    "\n",
    "```python\n",
    "> pytest tests/test_setup_teardown.py  -s \n",
    "=================================================================================== test session starts ===================================================================================\n",
    "platform darwin -- Python 3.7.2, pytest-4.4.1, py-1.8.0, pluggy-0.9.0\n",
    "rootdir: /Users/mmulhern/github/BelfastTechTraining/python/06-testing/testing_example\n",
    "collected 1 item                                                                                                                                                                          \n",
    "\n",
    "tests/test_setup_teardown.py \n",
    "MODULE SETUP\n",
    ".\n",
    "MODULE_TEARDOWN\n",
    "\n",
    "\n",
    "================================================================================ 1 passed in 0.01 seconds =================================================================================\n",
    "```"
   ]
  },
  {
   "cell_type": "markdown",
   "metadata": {
    "slideshow": {
     "slide_type": "slide"
    }
   },
   "source": [
    "# fixtures\n",
    "\n",
    "- fixtures used to carry out setup common across multiple tests.\n",
    "- Useful when\n",
    " - complex setups required between tests\n",
    " - shared configuration across tests.\n",
    "- definied throught the `@fixture` decorator\n",
    "- Longevity can be scoped on a global, per-module or per-test basis.\n",
    "- Support context handling for finalization"
   ]
  },
  {
   "cell_type": "markdown",
   "metadata": {
    "slideshow": {
     "slide_type": "slide"
    }
   },
   "source": [
    "# fixtures as function args\n",
    "\n",
    "- Probably the simplest form of fixture used.\n",
    "- fixture is defined as a function with `@fixture` decorator:\n",
    "\n",
    "```python\n",
    "> cat tests/conftest.py \n",
    "import pytest\n",
    "\n",
    "@pytest.fixture()\n",
    "def common_config():\n",
    "    return {\"foo\":123, \"bar\": [\"baz\"]}\n",
    "```\n",
    "- fixture is then added as a param of unit test, allowing it's access by default:\n",
    "\n",
    "```python\n",
    "> cat tests/test_common_fixtures.py \n",
    "import pytest\n",
    "\n",
    "def test_shared_fixtures(common_config):\n",
    "    assert common_config[\"foo\"] == 123\n",
    "```"
   ]
  },
  {
   "cell_type": "markdown",
   "metadata": {
    "slideshow": {
     "slide_type": "slide"
    }
   },
   "source": [
    "# sharing and overwriting fixtures.\n",
    "- fixtures can be shared between testing modules by placing in `conftest.py` as shown.\n",
    "- depending on testing folder structure, fixtures may be overriden e.g.\n",
    "```bash\n",
    "tests/\n",
    "├── conftest.py            # define foo() fixture here\n",
    "├── test_fixture_examples   \n",
    "│   ├── conftest.py        # override foo()  here\n",
    "│   ├── test_common_fixtures.py               # overriden foo() used here\n",
    "│   ├── test_fixture_factory.py               # overriden foo() used here\n",
    "│   ├── test_fixture_factory_finalization.py  # overriden foo() used here\n",
    "│   ├── test_fixture_finalization.py          # overriden foo() used here\n",
    "│   ├── test_fixture_scoping.py               # overriden foo() used here\n",
    "│   └── test_function_arg_fixtures.py         # overriden foo() used here\n",
    "├── test_main.py            # original foo() used here\n",
    "└── test_setup_teardown.py  # original foo() used here\n",
    "```"
   ]
  },
  {
   "cell_type": "markdown",
   "metadata": {
    "slideshow": {
     "slide_type": "slide"
    }
   },
   "source": [
    "# fixtures: per-class and per-module\n",
    "```python\n",
    "@pytest.fixture(scope=\"session\")\n",
    "def session_scoped():\n",
    "    print(\"\\nsession_scoped\")\n",
    "\n",
    "@pytest.fixture(scope=\"module\")\n",
    "def module_scoped():\n",
    "    print(\"module_scoped\")\n",
    "```\n",
    "Fixture scope defined as a param in it's definition:\n",
    "- fixture will not be destroyed until it leaves it's scope, maintaining it's context.\n",
    "- useful for long lived fixtures used as 'testing tools' e.g smtp_connection, or for shared config overrides\n",
    "- BEWARE THAT THE OBJECT IS NOT RECREATED BETWEEN TESTS!\n",
    "- Don't share a fixture across tests if it's contentext/contents could affect your test e.g class members"
   ]
  },
  {
   "cell_type": "markdown",
   "metadata": {
    "slideshow": {
     "slide_type": "slide"
    }
   },
   "source": [
    "```python\n",
    "> cat tests/test_fixture_examples/test_fixture_scoping.py \n",
    "import pytest\n",
    "\n",
    "@pytest.fixture(scope=\"session\")\n",
    "def session_scoped():\n",
    "    print(\"\\nsession_scoped\")\n",
    "\n",
    "@pytest.fixture(scope=\"module\")\n",
    "def module_scoped():\n",
    "    print(\"module_scoped\")\n",
    "\n",
    "@pytest.fixture\n",
    "def function1(tmpdir):\n",
    "    print(\"function1\")\n",
    "\n",
    "@pytest.fixture\n",
    "def function2(function3):\n",
    "    print(\"function2\")\n",
    "\n",
    "@pytest.fixture\n",
    "def function3():\n",
    "    print(\"function3\")\n",
    "\n",
    "def test_foo(function1, module_scoped, function2, session_scoped):\n",
    "    pass\n",
    "```"
   ]
  },
  {
   "cell_type": "markdown",
   "metadata": {
    "slideshow": {
     "slide_type": "slide"
    }
   },
   "source": [
    "```python\n",
    "> pytest -s tests/test_fixture_examples/test_fixture_scoping.py \n",
    "=================================================================================== test session starts ===================================================================================\n",
    "platform darwin -- Python 3.7.2, pytest-4.4.1, py-1.8.0, pluggy-0.9.0\n",
    "rootdir: /Users/mmulhern/github/BelfastTechTraining/python/06-testing/testing_example\n",
    "collected 1 item                                                                                                                                                                          \n",
    "\n",
    "tests/test_fixture_examples/test_fixture_scoping.py \n",
    "session_scoped\n",
    "module_scoped\n",
    "function1\n",
    "function3\n",
    "function2\n",
    ".\n",
    "\n",
    "================================================================================ 1 passed in 0.04 seconds =================================================================================\n",
    "```\n",
    "\n",
    "- Session-scoped fixtures are exectued first, then module-scoped, then function parameters in order.\n",
    "- Note when function3 is executed, because it is a param of function2."
   ]
  },
  {
   "cell_type": "markdown",
   "metadata": {
    "slideshow": {
     "slide_type": "slide"
    }
   },
   "source": [
    "# fixture finalization\n",
    "fixtures can handle their own teardown via pythons `yeild`\n",
    "```python\n",
    "@pytest.fixture(scope=\"module\")\n",
    "def smtp_connection():\n",
    "    import smtplib\n",
    "    smtp_connection = smtplib.SMTP(\"smtp.gmail.com\", 587, timeout=5)\n",
    "    print(\"\\nSMTP SETUP\")\n",
    "    yield smtp_connection  # provide the fixture value, code below executes after module scope.\n",
    "    print(\"\\nSMTP TEARDOWN\")\n",
    "    smtp_connection.close()\n",
    "\n",
    "def test_foo(smtp_connection):\n",
    "    assert True \n",
    "def test_bar(smtp_connection):\n",
    "    assert True \n",
    "def test_baz(smtp_connection):\n",
    "    assert True \n",
    "```\n",
    "\n",
    "```python\n",
    "> pytest -s tests/test_fixture_examples/test_fixture_finalization.py\n",
    "========================================================================= test session starts =========================================================================\n",
    "platform darwin -- Python 3.7.2, pytest-4.4.1, py-1.8.0, pluggy-0.9.0\n",
    "rootdir: /Users/mmulhern/github/BelfastTechTraining/python/06-testing/testing_example\n",
    "collected 3 items\n",
    "\n",
    "tests/test_fixture_examples/test_fixture_finalization.py\n",
    "SMTP SETUP\n",
    "...\n",
    "SMTP TEARDOWN\n",
    "```"
   ]
  },
  {
   "cell_type": "markdown",
   "metadata": {
    "slideshow": {
     "slide_type": "slide"
    }
   },
   "source": [
    "# fixture factories\n",
    "Useful when you need multiple instances of a fixture within a test.\n",
    "```python \n",
    "import pytest\n",
    "\n",
    "@pytest.fixture\n",
    "def make_person():\n",
    "    from testing_example import Person\n",
    "    def _make_person(name, age):\n",
    "        person = Person(name=name, age=age)\n",
    "        return person\n",
    "    return _make_person\n",
    "\n",
    "def test_fixture_factory(make_person):\n",
    "    tom = make_person(\"Tom\", 20)\n",
    "    dick = make_person(\"Dick\", 30)\n",
    "    harry = make_person(\"Harry\", 40)\n",
    "    assert tom.age == 20\n",
    "    assert dick.age == 30\n",
    "    assert harry.age == 40\n",
    "```"
   ]
  },
  {
   "cell_type": "markdown",
   "metadata": {
    "slideshow": {
     "slide_type": "slide"
    }
   },
   "source": [
    "# fixture factory finalization\n",
    "Similarly to earlier, `yeild` can be used for a factory, allowing for the context cleanup of all fixtures created by that factory\n",
    "```python\n",
    "import pytest\n",
    "\n",
    "@pytest.fixture\n",
    "def make_people():\n",
    "    from testing_example import Person\n",
    "    created_people = []\n",
    "\n",
    "    def _make_person(name, age):\n",
    "        person = Person(name=name, age=age)\n",
    "        created_people.append(person)\n",
    "        return person\n",
    "\n",
    "    yield _make_person  \n",
    "\n",
    "    for person in created_people:\n",
    "        person.die()  # prints a notification to stdout\n",
    "\n",
    "def test_fixture_factory_teardown(make_people):\n",
    "    tom = make_people(\"Tom\", 20)\n",
    "    dick = make_people(\"Dick\", 30)\n",
    "    harry = make_people(\"Harry\", 40)\n",
    "    assert tom.age == 20\n",
    "    assert dick.age == 30\n",
    "    assert harry.age == 40\n",
    "    print(\"\\nALL IS WELL, TIME TO DIE\")\n",
    "```\n",
    "\n",
    "```python\n",
    "> pytest -s tests/test_fixture_examples/test_fixture_factory_finalization.py\n",
    "============================================================================================= test session starts ==============================================================================================\n",
    "platform darwin -- Python 3.7.2, pytest-4.4.1, py-1.8.0, pluggy-0.9.0\n",
    "rootdir: /Users/mmulhern/github/BelfastTechTraining/python/06-testing/testing_example\n",
    "collected 1 item\n",
    "\n",
    "tests/test_fixture_examples/test_fixture_factory_finalization.py\n",
    "ALL IS WELL, TIME TO DIE\n",
    "\n",
    ".Tom died at the ripe old age of 20\n",
    "Dick died at the ripe old age of 30\n",
    "Harry died at the ripe old age of 40\n",
    "\n",
    "\n",
    "=========================================================================================== 1 passed in 0.03 seconds ===========================================================================================\n",
    "```"
   ]
  },
  {
   "cell_type": "markdown",
   "metadata": {
    "slideshow": {
     "slide_type": "slide"
    }
   },
   "source": [
    "# paramaterizing fixtures\n",
    "Takes advantage of builtin `request.param` fixture has access to:\n",
    "``` python\n",
    "import pytest\n",
    "from testing_example import Person\n",
    "\n",
    "@pytest.fixture(scope=\"module\",\n",
    "                params=[(\"tom\",10), (\"dick\",20), (\"harry\",30)])\n",
    "def person(request):\n",
    "    person = Person(name=request.param[0], age=request.param[1])\n",
    "    yield person\n",
    "    person.die()\n",
    "\n",
    "\n",
    "def test_fixture_params(person):\n",
    "    assert type(person.name) == str\n",
    "```\n",
    "\n",
    "```bash\n",
    "> pytest tests/test_fixture_examples/test_fixture_params.py \n",
    "=================================================================================== test session starts ===================================================================================\n",
    "platform darwin -- Python 3.7.2, pytest-4.4.1, py-1.8.0, pluggy-0.9.0\n",
    "rootdir: /Users/mmulhern/github/BelfastTechTraining/python/06-testing/testing_example\n",
    "collected 3 items                                                                                                                                                                         \n",
    "\n",
    "tests/test_fixture_examples/test_fixture_params.py ...                                                                                                                              [100%]\n",
    "\n",
    "================================================================================ 3 passed in 0.03 seconds =================================================================================\n",
    "(venv) mmulhern@C02XF4HMJG5J:testing_example\n",
    "> pytest -s tests/test_fixture_examples/test_fixture_params.py \n",
    "=================================================================================== test session starts ===================================================================================\n",
    "platform darwin -- Python 3.7.2, pytest-4.4.1, py-1.8.0, pluggy-0.9.0\n",
    "rootdir: /Users/mmulhern/github/BelfastTechTraining/python/06-testing/testing_example\n",
    "collected 3 items                                                                                                                                                                         \n",
    "\n",
    "tests/test_fixture_examples/test_fixture_params.py .tom died at the ripe old age of 10\n",
    ".dick died at the ripe old age of 20\n",
    ".harry died at the ripe old age of 30\n",
    "\n",
    "\n",
    "================================================================================ 3 passed in 0.01 seconds =================================================================================\n",
    "```"
   ]
  },
  {
   "cell_type": "markdown",
   "metadata": {
    "slideshow": {
     "slide_type": "slide"
    }
   },
   "source": [
    "# setuptools integration\n",
    "Integration with setup.py is trivial:\n",
    "\n",
    "1) in setup.py:\n",
    "```python\n",
    "setup(name='testing_example',\n",
    "      ...\n",
    "      setup_requires=['pytest-runner'],  #pytest-runner is a setuptools plugin for running unit tests\n",
    "      tests_require=['pytest']  # sets pytest as a dependency for 'setup.py test' instead of including in requirements.txt\n",
    "      )\n",
    "```\n",
    "2) (optional) set an alias for 'pytest' to test in setup.cfg:\n",
    "```bash\n",
    "> cat setup.cfg\n",
    "[aliases]\n",
    "test=pytest\n",
    "> python setup.py test\n",
    "running pytest\n",
    "Searching for pytest\n",
    "Reading https://pypi.org/simple/pytest/\n",
    "Downloading https://files.pythonhosted.org/packages/5d/c3/54f607bc9817fd284073ac68e99123f86616f431f9d29a855474b7cf00eb/pytest-4.4.1-py2.py3-none-any.whl#sha256=3773f4c235918987d51daf1db66d51c99fac654c81d6f2f709a046ab446d5e5d\n",
    "Best match: pytest 4.4.1\n",
    "Processing pytest-4.4.1-py2.py3-none-any.whl\n",
    "Installing pytest-4.4.1-py2.py3-none-any.whl to /Users/mmulhern/github/BelfastTechTraining/python/06-testing/testing_example/.eggs\n",
    "writing requirements to /Users/mmulhern/github/BelfastTechTraining/python/06-testing/testing_example/.eggs/pytest-4.4.1-py3.7.egg/EGG-INFO/requires.txt\n",
    "\n",
    "Installed /Users/mmulhern/github/BelfastTechTraining/python/06-testing/testing_example/.eggs/pytest-4.4.1-py3.7.egg\n",
    "running egg_info\n",
    "writing testing_example.egg-info/PKG-INFO\n",
    "writing dependency_links to testing_example.egg-info/dependency_links.txt\n",
    "writing top-level names to testing_example.egg-info/top_level.txt\n",
    "reading manifest file 'testing_example.egg-info/SOURCES.txt'\n",
    "writing manifest file 'testing_example.egg-info/SOURCES.txt'\n",
    "running build_ext\n",
    "============================================================================================= test session starts ==============================================================================================\n",
    "platform darwin -- Python 3.7.2, pytest-4.4.1, py-1.8.0, pluggy-0.9.0\n",
    "rootdir: /Users/mmulhern/github/BelfastTechTraining/python/06-testing/testing_example\n",
    "collected 12 items\n",
    "\n",
    "tests/test_main.py ..                                                                                                                                                                                    [ 16%]\n",
    "tests/test_setup_teardown.py .                                                                                                                                                                           [ 25%]\n",
    "tests/test_fixture_examples/test_common_fixtures.py .                                                                                                                                                    [ 33%]\n",
    "tests/test_fixture_examples/test_fixture_factory.py .                                                                                                                                                    [ 41%]\n",
    "tests/test_fixture_examples/test_fixture_factory_finalization.py .                                                                                                                                       [ 50%]\n",
    "tests/test_fixture_examples/test_fixture_finalization.py ...                                                                                                                                             [ 75%]\n",
    "tests/test_fixture_examples/test_fixture_scoping.py .                                                                                                                                                    [ 83%]\n",
    "tests/test_fixture_examples/test_function_arg_fixtures.py ..                                                                                                                                             [100%]\n",
    "\n",
    "========================================================================================== 12 passed in 0.38 seconds ===========================================================================================\n",
    "```"
   ]
  },
  {
   "cell_type": "markdown",
   "metadata": {
    "slideshow": {
     "slide_type": "slide"
    }
   },
   "source": [
    "# class based testing\n",
    "- All tests shown currently have been 'unittest style' function-based definitions.\n",
    "- Alternatively 'java-style' test classes can be definied via subclassing\n",
    "\n",
    "```python\n",
    "import pytest\n",
    "import unittest\n",
    "\n",
    "class MyTest(unittest.TestCase):\n",
    "    @pytest.fixture(autouse=True) # 'autouse' param sets scope to all class methods\n",
    "    def initdir(self, tmpdir):\n",
    "        tmpdir.chdir() # change to pytest-provided temporary directory\n",
    "        tmpdir.join(\"samplefile.ini\").write(\"# testdata\")\n",
    "\n",
    "    def test_method(self):\n",
    "        with open(\"samplefile.ini\") as f:\n",
    "            s = f.read()\n",
    "        assert \"testdata\" in s\n",
    "```\n",
    "\n",
    "```python\n",
    "(venv) mmulhern@C02XF4HMJG5J:testing_example\n",
    "> pytest  -k \"test_method\"\n",
    "============================================================================================= test session starts ==============================================================================================\n",
    "platform darwin -- Python 3.7.2, pytest-4.4.1, py-1.8.0, pluggy-0.9.0\n",
    "rootdir: /Users/mmulhern/github/BelfastTechTraining/python/06-testing/testing_example\n",
    "collected 13 items / 12 deselected / 1 selected\n",
    "\n",
    "tests/test_hello_class.py .                                                                                                                                                                              [100%]\n",
    "\n",
    "=================================================================================== 1 passed, 12 deselected in 0.05 seconds ====================================================================================\n",
    "```"
   ]
  }
 ],
 "metadata": {
  "celltoolbar": "Slideshow",
  "kernelspec": {
   "display_name": "Python 3",
   "language": "python",
   "name": "python3"
  },
  "language_info": {
   "codemirror_mode": {
    "name": "ipython",
    "version": 3
   },
   "file_extension": ".py",
   "mimetype": "text/x-python",
   "name": "python",
   "nbconvert_exporter": "python",
   "pygments_lexer": "ipython3",
   "version": "3.7.3"
  }
 },
 "nbformat": 4,
 "nbformat_minor": 2
}
