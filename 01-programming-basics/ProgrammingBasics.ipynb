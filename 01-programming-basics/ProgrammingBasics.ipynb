{
 "cells": [
  {
   "cell_type": "markdown",
   "metadata": {},
   "source": [
    "# Programming Basics\n",
    "## An introduction to programming and python.\n",
    "\n",
    "During this class, we'll be using this web page to write and run our programs, so you don't need anything other than the web browser you are currently using. "
   ]
  },
  {
   "cell_type": "markdown",
   "metadata": {},
   "source": [
    "## Learning objectives\n",
    "In this lesson we're going to learn:\n",
    "* What is programming\n",
    "* What is a programming language and why do we need them\n",
    "* What can be done with programming\n",
    "* Key programming concepts e.g. variables, looping, conditions"
   ]
  },
  {
   "cell_type": "markdown",
   "metadata": {},
   "source": [
    "### What is programming?\n",
    "* Solving a problem by writing by writing computer code.\n",
    "* Programming is both an art and science, being creative and understanding how things work.\n",
    "* An algorithm is a list of rules to follow in order to solve a problem. Algorithms are used in everyday tasks, such as a cake recipe or a tying your shoelace.\n",
    "* Programs are created to implement algorithms. \n",
    "* Algorithms can be represented as pseudocode or a flowchart, and programming is the translation of these into a computer program.\n",
    "* To tell a computer to do something, a program must be written to tell it exactly what to do and how to do it.\n",
    "* If an algorithm has been designed, the computer program will follow this algorithm, step-by-step, which will tell the computer exactly what it should do."
   ]
  },
  {
   "cell_type": "markdown",
   "metadata": {},
   "source": [
    "### What is a programming language?\n",
    "* A programming language is an artificial language that a computer understands.\n",
    "* The language is made up of series of statements that fit together to form instructions. These instructions tell a computer what to do.\n",
    "* Programming languages are designed to be easy for a human to understand and write in. However, a computer cannot run programs written in these languages directly.\n",
    "* Most programming languages have to be translated into machine code before the computer can execute the instructions.\n",
    "* There are many different programming languages, some more complicated and complex than others. For this class we will be using python to understand some of the basics of programming."
   ]
  },
  {
   "cell_type": "markdown",
   "metadata": {},
   "source": [
    "### Why do we need a programming language?\n",
    "* You need a programming language in computer programming for the same reason you need a natural language in your everyday life : **to communicate and simplify things.**\n",
    "* Consider a deaf-mute person, how he/she communicates? They use a code, in this case not the speaking language but the signs language, but for them this code has the same function, is an interface on the outside world.\n",
    "* The other function of a code is to simplify things, to give them a structure, to help you build more complex things giving you simpler tools.\n",
    "* Imagine that you don’t have any programming language, the only code that you have is the binary system, it would be impractical to write an entire program , that solves a real problem, using just 0’s and 1’s.\n",
    "* Programming languages are an inteface between humans and computer, they allow us to communicate with computers in order to accomplish things."
   ]
  },
  {
   "cell_type": "markdown",
   "metadata": {},
   "source": [
    "### What can we do with programming?\n",
    "* There is literally an unlimited number of things that can be created with code. Imagine an artist with a blank canvas, it can be difficult to know what to create, but you can create anything.\n",
    "* This also means you can share code and programs with other people. Think of all the apps and web sites you've looked at, someone wrote those and decided to share it, for fun, profit or some other reason. \n",
    "* We can also share snippets of code and programs which can be useful for people. It doesn't need to be a full application. An example of these are libraries.\n",
    "* If you consider anything that you have interacted with that is electronic in nature, chances are there has been some sort of programming involved in it. Your washing machine, your television, your phone. These all need programming to function.\n",
    "* Take this example of train times. In just a few lines of code, we can get a list of all the train leaving the station, if they are on time and which stations they will stop at."
   ]
  },
  {
   "cell_type": "code",
   "execution_count": null,
   "metadata": {},
   "outputs": [],
   "source": [
    "import bs4 as bs\n",
    "import urllib.request\n",
    "\n",
    "# https://www.opendatani.gov.uk/dataset/real-time-rail-stations-arrivals-and-departures/resource/490fe701-0e7b-4030-a4b0-9ede8c0d85cf\n",
    "source = urllib.request.urlopen('https://apis.opendatani.gov.uk/translink/3043AF.xml').read()\n",
    "soup = bs.BeautifulSoup(source, 'xml')\n",
    "\n",
    "print(soup.find('StationBoard').attrs['name'], soup.find('StationBoard').attrs['Timestamp'], \"\\n----\")\n",
    "for train in soup.find_all('Service'):\n",
    "    depart = train.find('DepartTime').attrs['time']\n",
    "    delay = train.find('ExpectedDepartTime').attrs['time']\n",
    "    dests = train.find_all('CallingPoint')\n",
    "    stations = []\n",
    "    for dest in dests:\n",
    "        stations.append(dest.attrs['Name'])\n",
    "\n",
    "    print(depart, delay, \", \".join(stations))"
   ]
  },
  {
   "cell_type": "code",
   "execution_count": null,
   "metadata": {},
   "outputs": [],
   "source": [
    "%matplotlib inline\n",
    "import pandas as pd\n",
    "import matplotlib.pyplot as plt\n",
    "crime =  'Bicycle theft' # 'Total police recorded crime', 'Possession of drugs'\n",
    "\n",
    "data_url = 'https://www.opendatani.gov.uk/dataset/80dc9542-7b2a-48f5-bbf4-ccc7040d36af/resource/6fd51851-df78-4469-98c5-4f06953621a0/download/police-recorded-crime-monthly-data.csv'\n",
    "df = pd.read_csv(data_url, parse_dates={'datetime': ['Calendar_Year', 'Month']})\n",
    "df.set_index('datetime', inplace=True)\n",
    "bikes = df.loc[(df['Crime_Type'] == crime) & (df['Data_Measure'] == 'Police Recorded Crime') & (df['Policing_District'].isin(['Northern Ireland', 'Belfast City', 'Mid Ulster', 'Causeway Coast & Glens'])) & (df.index > pd.to_datetime('2014'))]\n",
    "bikes = bikes.drop(['Crime_Type', 'Data_Measure'], axis=1)\n",
    "bikes['Count'] = pd.to_numeric(bikes['Count'], errors='ignore')\n",
    "fig, ax = plt.subplots(figsize=(15, 6))\n",
    "plt.style.use('fivethirtyeight')\n",
    "bikes.groupby('Policing_District')['Count'].plot(legend=True, title='{0} in Northern Ireland'.format(crime))\n",
    "plt.show()"
   ]
  },
  {
   "cell_type": "markdown",
   "metadata": {},
   "source": [
    "### Data Types\n",
    "#### Strings\n",
    "A string is really just a list of single characters. This tells the computer that this is text and not any of it's other special data types. "
   ]
  },
  {
   "cell_type": "code",
   "execution_count": null,
   "metadata": {},
   "outputs": [],
   "source": [
    "\"cat\""
   ]
  },
  {
   "cell_type": "markdown",
   "metadata": {},
   "source": [
    "#### Integers (numbers)\n",
    "To tell the computer we are using a number, we simply type the number. \n"
   ]
  },
  {
   "cell_type": "code",
   "execution_count": null,
   "metadata": {},
   "outputs": [],
   "source": [
    "4354"
   ]
  },
  {
   "cell_type": "markdown",
   "metadata": {},
   "source": [
    "You can add numbers together, or do any calculations on them you like."
   ]
  },
  {
   "cell_type": "code",
   "execution_count": null,
   "metadata": {},
   "outputs": [],
   "source": [
    "3 + 4 * 12 / 9 * ( 9 / 33)"
   ]
  },
  {
   "cell_type": "markdown",
   "metadata": {},
   "source": [
    "Notice that we do not use `\"` this time. That's because we need the computer to know we mean a number and not text. You can think of this as the difference between '7' and 'seven'. We can use 7 in a mathmatical formula, but we would not use seven for calculations. One is a number and one is a string.\n",
    "\n",
    "#### Floats (floating point numbers, numbers with a decimal point)\n",
    "\n",
    "You can see in the above example there is a decimal point. Numbers that have a decimal point in them are called floats. This is short for 'floating point' number. "
   ]
  },
  {
   "cell_type": "markdown",
   "metadata": {},
   "source": [
    "#### Variables\n",
    "Variables are just a name of a data type that we can store information in. Think of a variable like a box with a label on it. The name of the variable is the label, and the contents of the box is what we're storing in it. \n",
    "\n",
    "In this example we store a name in a variable called name"
   ]
  },
  {
   "cell_type": "code",
   "execution_count": null,
   "metadata": {},
   "outputs": [],
   "source": [
    "name = \"Michael\""
   ]
  },
  {
   "cell_type": "markdown",
   "metadata": {},
   "source": [
    "Notice that we have used a string after the `=` sign. This means that we have stored a string, or text, in the variable. This is the equivalent of putting a single piece of paper in our box labeled 'name' that says 'Michael'\n",
    "\n",
    "We can also store numbers in variables"
   ]
  },
  {
   "cell_type": "code",
   "execution_count": null,
   "metadata": {},
   "outputs": [],
   "source": [
    "age = 36"
   ]
  },
  {
   "cell_type": "markdown",
   "metadata": {},
   "source": [
    "This would be like putting a piece of paper saying '36' in a new box labled 'age'.\n",
    "\n",
    "#### Lists (arrays)\n",
    "A list is a collection of data types. In python all these data types can be different."
   ]
  },
  {
   "cell_type": "code",
   "execution_count": null,
   "metadata": {},
   "outputs": [],
   "source": [
    "[name, \"Hello\", 89]"
   ]
  },
  {
   "cell_type": "markdown",
   "metadata": {},
   "source": [
    "This is a list of a variable, a string and an integer. To stick with our analogy, this would be a box, a piece of paper with Hello and an other piece of paper with 89. A list is like a tall set of drawers, where we can put different things in each of the drawers. We can also put lists into variables"
   ]
  },
  {
   "cell_type": "code",
   "execution_count": null,
   "metadata": {},
   "outputs": [],
   "source": [
    "my_list = [name, \"Hello\", 89]"
   ]
  },
  {
   "cell_type": "markdown",
   "metadata": {},
   "source": [
    "Although we'd need a really big box, this would be like putting a set of drawers inside a box label 'my_list'\n",
    "\n",
    "#### Dictionaries (hash table / hash map)\n",
    "If a list is like a set of drawers, then a dictionary is like a set of drawers with labels. \n",
    "When we just have a set of drawers, if we want to find something, we need to look inside every drawer to find it. If we have labels on the drawers, then we can go directly to the drawer that contains the thing we want. "
   ]
  },
  {
   "cell_type": "code",
   "execution_count": null,
   "metadata": {},
   "outputs": [],
   "source": [
    "my_dict = {\"name\": \"Michael\",\n",
    "           \"dog\": \"Zero\",\n",
    "           \"colour\": \"Red\"}"
   ]
  },
  {
   "cell_type": "markdown",
   "metadata": {},
   "source": [
    "If we want to look at a variable that we have assigned something to, we can use the `print` statement."
   ]
  },
  {
   "cell_type": "code",
   "execution_count": null,
   "metadata": {},
   "outputs": [],
   "source": [
    "my_dict = {\"name\": \"Michael\",\n",
    "           \"dog\": \"Zero\",\n",
    "           \"colour\": \"Red\"}\n",
    "\n",
    "print(my_dict)"
   ]
  },
  {
   "cell_type": "markdown",
   "metadata": {},
   "source": [
    "###  Control Structures\n",
    "Now that we have some variables and data types, we need to be able to do something with them. This is how we start to write actual programs. \n",
    "\n",
    "#### If\n",
    "This allows us to only execute statement(s) if a condtion is met."
   ]
  },
  {
   "cell_type": "code",
   "execution_count": null,
   "metadata": {},
   "outputs": [],
   "source": [
    "age = 18\n",
    "if age >= 18:\n",
    "    print(\"Have a beer!\")\n",
    "\n",
    "if age < 18:\n",
    "    print(\"Don't get caught having a beer!\")"
   ]
  },
  {
   "cell_type": "markdown",
   "metadata": {},
   "source": [
    "#### Else\n",
    "This is only ever used alongside an `if` statement. It means when the condition in the `if` is not met, we should do something `else`. So the above code could be rewritten like this"
   ]
  },
  {
   "cell_type": "code",
   "execution_count": null,
   "metadata": {},
   "outputs": [],
   "source": [
    "age = 17\n",
    "if age >= 18:\n",
    "    print(\"Have a beer!\")\n",
    "else:\n",
    "    print(\"Don't get caught having a beer!\")"
   ]
  },
  {
   "cell_type": "markdown",
   "metadata": {},
   "source": [
    "### Looping\n",
    "#### For\n",
    "If we take the example of the drawers and wanting to look inside each of them. If we were to explain to someone what to do, you could say:\n",
    "* look in the first drawer\n",
    "* look in the second drawer\n",
    "* look in the third drawer\n",
    "* look in the fourth drawer\n",
    "\n",
    "To write this in code you could do:"
   ]
  },
  {
   "cell_type": "code",
   "execution_count": null,
   "metadata": {},
   "outputs": [],
   "source": [
    "my_drawers = ['thing', 'another thing', 'more?', 'ok last one']\n",
    "print(my_drawers[0])\n",
    "print(my_drawers[1])\n",
    "print(my_drawers[2])\n",
    "print(my_drawers[3])"
   ]
  },
  {
   "cell_type": "markdown",
   "metadata": {},
   "source": [
    "Though, that's a lot of instructions, instead if we were to tell someone to search the drawers we could say:\n",
    "* `for` each of the drawers you find, look inside it\n",
    "\n",
    "This is the same for writing a program. We just tell it to look in each of the drawers:"
   ]
  },
  {
   "cell_type": "code",
   "execution_count": null,
   "metadata": {},
   "outputs": [],
   "source": [
    "my_drawers = ['thing', 'another thing', 'more?', 'ok last one']\n",
    "for drawer in my_drawers:\n",
    "    print(drawer)"
   ]
  },
  {
   "cell_type": "markdown",
   "metadata": {},
   "source": [
    "You can see the output is the same for each, but the second is much easier to read and write. This becomes especially important when you have long lists of things.\n",
    "\n",
    "### While\n",
    "This means that we should keep executing statement(s) until a condition is met.\n",
    "\n",
    "This time, lets consider doing press ups. If we want to do ten pressups we could say"
   ]
  },
  {
   "cell_type": "code",
   "execution_count": null,
   "metadata": {},
   "outputs": [],
   "source": [
    "pressups = 0\n",
    "while pressups < 10:\n",
    "    pressups += 1\n",
    "    print(\"I'm doing pressup number \", pressups)\n"
   ]
  },
  {
   "cell_type": "markdown",
   "metadata": {},
   "source": [
    "### Functions\n",
    "A function is a way to describe a list of actions. This means we can use it as many times as we want, without having to write it everytime. We can use our press up example"
   ]
  },
  {
   "cell_type": "code",
   "execution_count": null,
   "metadata": {},
   "outputs": [],
   "source": [
    "def do_pressups(name, number_to_do):\n",
    "    pressups = 0\n",
    "    while pressups < number_to_do:\n",
    "        pressups += 1\n",
    "        print(name, \"is doing pressup number \", pressups)\n",
    "        \n",
    "do_pressups('Michael', 3)\n",
    "do_pressups('Matt', 6)"
   ]
  },
  {
   "cell_type": "markdown",
   "metadata": {},
   "source": [
    "The first part that says `def` is the defintion. Then the words inside the brackets are the variables it needs to operate. Then everything after the colon (below that line) is the code that we want to run. \n",
    "\n",
    "Then later in our program, we can call that function by doing:\n",
    "\n",
    "```python\n",
    "do_pressups('Some person', number_of_pressups)\n",
    "```"
   ]
  },
  {
   "cell_type": "markdown",
   "metadata": {},
   "source": [
    "### Classes and objects\n",
    "* A class is really just a collection of definitions of available data types and functions for a given type, or class, of object.\n",
    "* An example of a class might be 'woman', with available data types, name, profession, home_town. It might also have a function to introduce, which would give these attributes.\n",
    "* A object is an instance of a class. So we could have an instance of the woman class that has a name 'Sarah', profession of 'Software engineer' and a home town of 'Belfast'."
   ]
  },
  {
   "cell_type": "code",
   "execution_count": null,
   "metadata": {},
   "outputs": [],
   "source": [
    "class woman():\n",
    "    def __init__(self, name, profession, home_town):\n",
    "        self.name = name\n",
    "        self.profession = profession\n",
    "        self.home_town = home_town\n",
    "        \n",
    "    def introduce(self):\n",
    "        print(\"Hi, I'm\", self.name, \"from\", self.home_town, \"I work as a\", self.profession)\n",
    "        \n",
    "    \n",
    "sarah = woman('Sarah', 'software engineer', 'Belfast')\n",
    "sarah.introduce()\n",
    "celine = woman('Celine', 'snowboard instructor', 'Vancouver')\n",
    "celine.introduce()\n",
    "charlotte = woman('Charlotte', 'web site manager', 'Carrickfergus')\n",
    "charlotte.introduce()"
   ]
  },
  {
   "cell_type": "markdown",
   "metadata": {},
   "source": [
    "* Classes are useful in the same way functions are. We can reuse the same code over and over again without having to write it every time. We could create as many instances of the woman class as we wanted just by initialising them with those three parameters. \n",
    "* Of course we could add any other attributes or functions that we required. "
   ]
  },
  {
   "cell_type": "markdown",
   "metadata": {},
   "source": [
    "### Modules\n",
    "A module is a file containing Python definitions and statements. That could be a collection of classes, functions, variable, whatever. It's another way to simplify the storage and utilisation of common code.\n",
    "\n",
    "An example of a module might be"
   ]
  },
  {
   "cell_type": "code",
   "execution_count": null,
   "metadata": {},
   "outputs": [],
   "source": [
    "my_cats = [('alpha', 'black'), ('bernard', 'tabby'), ('channel', 'white'), ('dastardly', 'ginger')]\n",
    "\n",
    "\n",
    "class woman():\n",
    "    def __init__(self, name, profession, home_town):\n",
    "        self.name = name\n",
    "        self.profession = profession\n",
    "        self.home_town = home_town\n",
    "\n",
    "    def introduce(self):\n",
    "        print(\"Hi, I'm\", self.name, \"from\", self.home_town, \"I work as a\", self.profession)\n",
    "\n",
    "\n",
    "class cat():\n",
    "    def __init__(self, name, colour):\n",
    "        self.name = name\n",
    "        self.colour = colour\n",
    "\n",
    "    def describe(self):\n",
    "        print(self.name, \"is a\", self.colour, \"cat\")\n",
    "\n",
    "\n",
    "def create_cats():\n",
    "    cats = {}\n",
    "    for name, colour in my_cats:\n",
    "        cats[name] = cat(name, colour)\n",
    "    return cats"
   ]
  },
  {
   "cell_type": "markdown",
   "metadata": {},
   "source": [
    "You'll notice when you run this cell, it doesn't seem to do anything. This is because, in general modules don't run anything by themselves. They are normally a group of helper functions and definitions that are used by other programs or modules. "
   ]
  },
  {
   "cell_type": "markdown",
   "metadata": {},
   "source": [
    "## What have we learned?\n",
    "* What is programming\n",
    "* What is a programming language and why do we need them\n",
    "* What can be done with programming\n",
    "* Data types (strings, integers, floats)\n",
    "* Variables\n",
    "* Lists\n",
    "* Dictionaries\n",
    "* Looping (for, while)\n",
    "* Conditionals (if, else)\n",
    "* Functions\n",
    "* Classes\n",
    "* Objects\n",
    "* Modules"
   ]
  }
 ],
 "metadata": {
  "kernelspec": {
   "display_name": "Python 3",
   "language": "python",
   "name": "python3"
  },
  "language_info": {
   "codemirror_mode": {
    "name": "ipython",
    "version": 3
   },
   "file_extension": ".py",
   "mimetype": "text/x-python",
   "name": "python",
   "nbconvert_exporter": "python",
   "pygments_lexer": "ipython3",
   "version": "3.7.2"
  }
 },
 "nbformat": 4,
 "nbformat_minor": 2
}
