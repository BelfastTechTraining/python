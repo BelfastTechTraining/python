{
 "cells": [
  {
   "cell_type": "markdown",
   "metadata": {},
   "source": [
    "# Python Basics\n",
    "## A quick primer on the language.\n",
    "\n",
    "---\n",
    "\n",
    "* Introduction to Python\n",
    "* Control Structures\n",
    "* Basic Data Types\n",
    "* Advanced Data Types\n",
    "* Dictionaries\n",
    "* Functions\n",
    "* Exception Handling\n",
    "* Classes\n",
    "* Files\n",
    "* Larger Programs\n",
    "* Pattern Matching\n",
    "\n",
    "---\n",
    "\n",
    "###  Introduction to Python\n",
    "* General purpose high level language:\n",
    "* Emphasis placed on\n",
    "    * Human Readability.\n",
    "    * Self describing code.\n",
    "\n",
    "*from PEP-20 - The Zen of Python*:\n",
    "```\n",
    " Beautiful is better than ugly\n",
    " Explicit is better than implicit\n",
    " Simple is better than complex\n",
    " Complex is better than complicated\n",
    " Readability counts\n",
    "```\n",
    "\n",
    "During this lesson, we'll be using this web page to execute our python code. \n",
    "\n",
    "*hello.py*:"
   ]
  },
  {
   "cell_type": "code",
   "execution_count": null,
   "metadata": {},
   "outputs": [],
   "source": [
    "print('Hello World!')"
   ]
  },
  {
   "cell_type": "markdown",
   "metadata": {},
   "source": [
    "If you have an IDE already set up and would prefer to use that, then just copy and paste the code segments into it. \n",
    "\n",
    "\n",
    "---\n",
    "\n",
    "###  Basic Data Types\n",
    "* Everything is an object.\n",
    "    * Interpreter can be left to decide what a variable is.\n",
    "    * Explicit casts are available (int(), str() etc) but are not recommended.\n",
    "\n",
    "*variables.py*"
   ]
  },
  {
   "cell_type": "code",
   "execution_count": null,
   "metadata": {},
   "outputs": [],
   "source": [
    "i = 2\n",
    "f = 0.33\n",
    "s = \"This is a string\"\n",
    "\n",
    "print(s)\n",
    "print(f * i)"
   ]
  },
  {
   "cell_type": "markdown",
   "metadata": {},
   "source": [
    "---\n",
    "\n",
    "###  Basic Data Types\n",
    "\n",
    "Since everything is an object, strings have builtin methods for modification."
   ]
  },
  {
   "cell_type": "code",
   "execution_count": null,
   "metadata": {},
   "outputs": [],
   "source": [
    "s = 'Since everything\\'s an object, strings have methods for manipiulation'\n",
    "print(s)\n",
    "print(s.rstrip('manipiulation'))\n",
    "print(s.upper())\n",
    "print(s.lower())\n",
    "print(s.swapcase())"
   ]
  },
  {
   "cell_type": "markdown",
   "metadata": {},
   "source": [
    "---\n",
    "\n",
    "###  Sequence Data Types - *Lists*\n",
    "* As described, lists are a collection of objects.\n",
    "* Behave in the same way as c arrays, but with the benifits of being an object in themselves!\n",
    "* Lists are **mutable**.\n",
    "* Can be added to with .append() and concanated with .extend()\n",
    "\n",
    "*list.py*"
   ]
  },
  {
   "cell_type": "code",
   "execution_count": null,
   "metadata": {},
   "outputs": [],
   "source": [
    "list_1        = [1, 2, 3, 4]\n",
    "list_2        = ['a', 'b', 'c', 'd']\n",
    "list_specials = [['a'], (1, 2, 3), False]\n",
    "\n",
    "print('{0} is of length {1}'.format(list_1, len(list_1)))\n",
    "\n",
    "list_1.append(5)\n",
    "print('{0} is of length {1}'.format(list_1, len(list_1)))\n",
    "\n",
    "list_1.extend(list_2)\n",
    "print('{0} is of length {1}'.format(list_1, len(list_1)))\n",
    "\n",
    "print('{0} is of length {1}'.format(list_specials, len(list_specials)))"
   ]
  },
  {
   "cell_type": "markdown",
   "metadata": {},
   "source": [
    "---\n",
    "\n",
    "###  Sequence Data Types - *Tuples*\n",
    "* Similar to lists except that they are **immutable**!\n",
    "* Cannot be modified once created.\n",
    "* Useful when returning more than one thing from *functions* (see later).\n",
    "\n",
    "*tuple.py*"
   ]
  },
  {
   "cell_type": "markdown",
   "metadata": {},
   "source": [
    "x1 = ()\n",
    "x2 = (1,)\n",
    "x3 = (1, 2, 3)\n",
    "x4 = (1, \"mixed\", 2, \"tuple\")\n",
    "x5 = ((1, 2), (3, 4))\n",
    "\n",
    "print('{0} is of length {1}'.format(x1, len(x1)))\n",
    "print('{0} is of length {1}'.format(x2, len(x2)))\n",
    "print('{0} is of length {1}'.format(x3, len(x3)))\n",
    "print('{0} is of length {1}'.format(x4, len(x4)))\n",
    "print('{0} is of length {1}'.format(x5, len(x5)))"
   ]
  },
  {
   "cell_type": "markdown",
   "metadata": {},
   "source": [
    "---\n",
    "\n",
    "###  Sequence Data Types - **Dictionaries**\n",
    "* Used to store **key value pairs**.\n",
    "* Not stored in any particular order, left up to interpreter to order when inserting/accessing.\n",
    "* Values can be accessed/updated by refering to dictionary's key.\n",
    "\n",
    "*dict.py*"
   ]
  },
  {
   "cell_type": "markdown",
   "metadata": {},
   "source": [
    "d = {}\n",
    "d['name'] = 'Matt'\n",
    "d['job'] = 'something or other'\n",
    "\n",
    "print(d)\n",
    "print(d.keys())\n",
    "print('my name is{0}'.format(d['name']))\n",
    "print('and i do {0}'.format(d['job']))"
   ]
  },
  {
   "cell_type": "markdown",
   "metadata": {},
   "source": [
    "---\n",
    "\n",
    "###  Control Structures\n",
    "#### IF\n",
    "Only execute statement(s) if condtion is met."
   ]
  },
  {
   "cell_type": "markdown",
   "metadata": {},
   "source": [
    "x = [1, 2, 3]\n",
    "if len(x) > 0:\n",
    "    print('IF:{0}'.format(x))"
   ]
  },
  {
   "cell_type": "markdown",
   "metadata": {},
   "source": [
    "#### FOR\n",
    "Iterates through items in collection (set, list, tuple etc...)"
   ]
  },
  {
   "cell_type": "markdown",
   "metadata": {},
   "source": [
    "for item in x:\n",
    "    print('FOR:{0}'.format(item))"
   ]
  },
  {
   "cell_type": "markdown",
   "metadata": {},
   "source": [
    "#### WHILE\n",
    "Keep executing statement(s) until condition is not met."
   ]
  },
  {
   "cell_type": "markdown",
   "metadata": {},
   "source": [
    "y = []\n",
    "i = 0\n",
    "while len(y) < len(x):\n",
    "    i += 1\n",
    "    y.append(i)\n",
    "print('WHILE:{0}'.format(y))"
   ]
  },
  {
   "cell_type": "markdown",
   "metadata": {},
   "source": [
    "---\n",
    "\n",
    "###  Functions\n",
    "* Used to logically seperate off common code.\n",
    "* Can return value(s) to calling function."
   ]
  },
  {
   "cell_type": "markdown",
   "metadata": {},
   "source": [
    "def add_up(num_list):\n",
    "    x = 0\n",
    "    for i in num_list:\n",
    "        x += i\n",
    "    return x"
   ]
  },
  {
   "cell_type": "markdown",
   "metadata": {},
   "source": [
    "# our script starts running from here."
   ]
  },
  {
   "cell_type": "markdown",
   "metadata": {},
   "source": [
    "nums = [1, 2, 3, 4, 5, 6]\n",
    "print('The sum of {0} is {1}'.format(nums, add_up(nums)))"
   ]
  },
  {
   "cell_type": "markdown",
   "metadata": {},
   "source": [
    "---\n",
    "\n",
    "###  Exception Handling\n",
    "* Gracefully handle problems occuring in execution.\n",
    "* exceptions are signals sent from interpreter at time of problem.\n",
    "* Unless handled, they will cause a program to crash, displaying the exception."
   ]
  },
  {
   "cell_type": "markdown",
   "metadata": {},
   "source": [
    "x = 3\n",
    "print(x / 0)"
   ]
  },
  {
   "cell_type": "markdown",
   "metadata": {},
   "source": [
    "* Exceptions can be used by wrapping code in try / except statements."
   ]
  },
  {
   "cell_type": "markdown",
   "metadata": {},
   "source": [
    "x = 3\n",
    "try:\n",
    "    print(x / 0)\n",
    "except ZeroDivisionError:\n",
    "    print(\"You're trying to print by zero, this isnt allowed!\")"
   ]
  },
  {
   "cell_type": "markdown",
   "metadata": {},
   "source": [
    "---\n",
    "\n",
    "###  Classes\n",
    "* Used to group together variables/classes logically (usually into a model of something).\n",
    "* All the types we have been using are classes!\n",
    "\n",
    "*class.py*"
   ]
  },
  {
   "cell_type": "markdown",
   "metadata": {},
   "source": [
    "class TrainingGroup:\n",
    "    # class members\n",
    "    date = ''\n",
    "    participants = []\n",
    "\n",
    "    # class methods\n",
    "    def __init__(self, date, participants):\n",
    "        self.date = date\n",
    "        self.participants = participants\n",
    "\n",
    "    def __str__(self):\n",
    "        return '{0} participants on {1}'.format(len(self.participants), self.date)\n",
    "\n",
    "    def kick_member(self, idiot):\n",
    "        new_members = []\n",
    "        for member in self.participants:\n",
    "            if idiot != member:\n",
    "                new_members.append(member)\n",
    "            else:\n",
    "                print('kicking {0}'.format(idiot))\n",
    "        self.participants = new_members\n",
    "\n",
    "\n",
    "group = TrainingGroup('2015-08-10', ['Tom', 'Dick', 'Harry'])\n",
    "print(group)\n",
    "print(group.participants)\n",
    "group.kick_member('Dick')\n",
    "print(group)\n",
    "print(group.participants)"
   ]
  },
  {
   "cell_type": "markdown",
   "metadata": {},
   "source": [
    "---\n",
    "\n",
    "###  Files\n",
    "*file.py*"
   ]
  },
  {
   "cell_type": "markdown",
   "metadata": {},
   "source": [
    "infile  = open('testfile.txt', 'r')       # opened for reading only\n",
    "outfile = open('file.output.txt', 'w')    # opened for writing\n",
    "for line in infile.readlines():\n",
    "    outfile.write(line)"
   ]
  },
  {
   "cell_type": "markdown",
   "metadata": {},
   "source": [
    "Files can be opened in different *modes*:\n",
    "\n",
    "|||\n",
    "|:--|:-------------------------------------------------------------------------------------------------------------------|\n",
    "|r  |Open text file for reading. The stream is positioned at the beginning of the file.                                  |\n",
    "|r+ |Open for reading and writing. The stream is positioned at the beginning of the file.                                |\n",
    "|w  |Truncate file to zero length or create text file for writing. The stream is positioned at the beginning of the file.|\n",
    "|w+ |Open for reading and writing.  The file is created if it does not exist, otherwise it is truncated.  The stream is  |\n",
    "|   |positioned at the beginning of the file.                                                                            |\n",
    "|a  |Open for writing.  The file is created if it does not exist. The stream is positioned at the end of the file.       |\n",
    "|   |Subsequent writes to the file will always end up at the then current end of file.                                   |\n",
    "|a+ |Open for reading and writing. The file is created if it does not exist.  The stream is positioned at the end of the |\n",
    "|   |file.  Subsequent writes to the file will always end up at the then current end of file.                            |\n",
    "\n",
    "--\n",
    "\n",
    "###  Larger Programs - *Using Modules*\n",
    "* Large codebases can be broken up into seperate files.\n",
    "* **Calling** functions calling functions from another file need to have **imported** them before use.\n",
    "* Good practice to cut down on *code replication*.\n",
    "* Importing a file causes **all code in the file to be executed**.\n",
    "    * Need to be wary of code not within a function\n",
    "    * Can *guard* against this code by wrapping it in `if __name__ == '__main__':`\n",
    "\n",
    "*mymodule.py*"
   ]
  },
  {
   "cell_type": "markdown",
   "metadata": {},
   "source": [
    "def sum_numeric_list(nums):\n",
    "    \"\"\"\n",
    "    Accepts a list of numeric values.\n",
    "    Returns the sum of the elements.\n",
    "    \"\"\"\n",
    "    sum = 0\n",
    "    for item in nums:\n",
    "        sum += item\n",
    "    return sum\n",
    "\n",
    "\n",
    "def prune_dict(dict, keys_to_remove):\n",
    "    \"\"\"\n",
    "    Accepts a dict to priune and a list of keys to remove.\n",
    "    Matching keys are deleted and rmainders returned.\n",
    "    \"\"\"\n",
    "    pruned_dict = {}\n",
    "    for key in dict.keys():\n",
    "        if key not in keys_to_remove:\n",
    "            pruned_dict[key] = dict[key]\n",
    "\n",
    "    return pruned_dict\n",
    "\n",
    "\n",
    "if __name__ == '__main__':\n",
    "    test_ints = [1, 2, 3, 4, 5]\n",
    "    print('The sum of {0} is {1}'.format(test_ints, sum_numeric_list(test_ints)))\n",
    "\n",
    "    test_dict = {'Tom': 'The First', 'Dick': 'The Second', 'Harry': 'The Third'}\n",
    "    pruned_dict = prune_dict(test_dict, 'Tom')\n",
    "    print('Stripping \\'Tom\\' from {0} gives us {1}'.format(test_dict, pruned_dict))"
   ]
  },
  {
   "cell_type": "markdown",
   "metadata": {},
   "source": [
    "Notice how just importing the module doesn't execute the test code:"
   ]
  },
  {
   "cell_type": "markdown",
   "metadata": {},
   "source": [
    "```\n",
    "> python\n",
    "Python 2.7.9 (default, May  1 2015, 19:04:44)\n",
    "[GCC 4.2.1 Compatible Apple LLVM 6.1.0 (clang-602.0.49)] on darwin\n",
    "Type \"help\", \"copyright\", \"credits\" or \"license\" for more information.\n",
    ">>> import mymodule\n",
    ">>> dir(mymodule)\n",
    "['__builtins__', '__doc__', '__file__', '__name__', '__package__', 'prune_dict', 'sum_numeric_list']\n",
    "```\n",
    "\n",
    "---\n",
    "\n",
    "###  Larger Programs - *Using Modules*\n",
    "After importing the module, you can now use it's functions without the test code being called:\n",
    "\n",
    "*import py:*"
   ]
  },
  {
   "cell_type": "markdown",
   "metadata": {},
   "source": [
    "import mymodule\n",
    "\n",
    "from mymodule import prune_dict\n",
    "\n",
    "nums = [6, 7, 8, 9]\n",
    "print('SUM:{0}'.format(mymodule.sum_numeric_list(nums)))\n",
    "\n",
    "dict = {'a': 1, 'b': 2, 'c': 3}\n",
    "new_dict = prune_dict(dict, 'b')\n",
    "\n",
    "print('dict:     {0}'.format(dict))\n",
    "print('new_dict: {0}'.format(new_dict))"
   ]
  },
  {
   "cell_type": "markdown",
   "metadata": {},
   "source": [
    "---\n",
    "\n",
    "###  Pattern Matching\n",
    "* Regex matching is done via built in `re` module.\n",
    "* re.search - *look for pattern anywhere within string*\n",
    "* re.match  - *look for exact pattern match in string*\n",
    "* regex's can be pre-compiled for optimisation *see example*\n",
    "\n",
    "\n",
    "*regex cheat sheet*:\n",
    "\n",
    "|||\n",
    "|------:|:--------------------------------------------------------------------------|\n",
    "|^      |start of string                                                            |\n",
    "|$      |end of string                                                              |\n",
    "|[abc]  |Any one character from list (a OR b OR c)                                  |\n",
    "|[a-m]  |Any one character from range (a OR b OR ... OR m)                          |\n",
    "|[^abc] |Any one character not in list (NOT a NOR b NOR c)                          |\n",
    "|.      |Any one character                                                          |\n",
    "|\\s     |Any white space character                                                  |\n",
    "|\\S     |Any NON white space character                                              |\n",
    "|\\d     |Any digit                                                                  |\n",
    "|\\D     |Any NON digit                                                              |\n",
    "|\\w     |Any alphanumeric                                                           |\n",
    "|\\W     |Any NON alphanumeric                                                       |\n",
    "|()     |Group together matches within parentheses (use with re.search().group()).  |\n",
    "\n",
    "---\n",
    "\n",
    "###  Pattern Matching\n",
    "*matching.py*"
   ]
  },
  {
   "cell_type": "markdown",
   "metadata": {},
   "source": [
    "import re\n",
    "string = 'The quick brown fox jumps over the laxy dog.'\n",
    "\n",
    "print('search:      {0}'.format(re.search('The quick brown fox', string)))\n",
    "print('search_gr0:  {0}'.format(re.search('The quick brown fox', string).group(0)))\n",
    "\n",
    "print('match:       {0}'.format(re.match('quick (brown) fox', string)))\n",
    "print('match_gr0:   {0}'.format(re.match('\\S* quick (brown) fox', string).group(0)))\n",
    "print('match_gr1:   {0}'.format(re.match('\\S* quick (brown) fox', string).group(1)))\n",
    "\n",
    "regex = re.compile('^[\\S\\s]*(over) (the)[\\s\\S]*')\n",
    "print('compiled_match_gr0:  {0}'.format(regex.match(string).group(0)))\n",
    "print('compiled_match_gr1:  {0}'.format(regex.match(string).group(1)))\n",
    "print('compiled_match_gr2:  {0}'.format(regex.match(string).group(2)))"
   ]
  },
  {
   "cell_type": "markdown",
   "metadata": {},
   "source": [
    "---\n",
    "\n",
    "###  Debugging - PDB\n",
    "* Drops script into interactive console either when:\n",
    "    * Interpreter hit `pdb.set_trace()` function.\n",
    "    * In python 3.7+ you can use the breakpoint() function instead.\n",
    "    * Interpreter hits an *unhandled* exception (if script called with `python -m pdb <script.py>`.\n",
    "* Same as an interactive python shell any commands/functions you like can be called manually to test.\n",
    "\n",
    "*basic controls:*\n",
    "\n",
    "|||\n",
    "|------:|:------------------------------|\n",
    "|l      | show code at current frame    |\n",
    "|c      | continue code execution       |\n",
    "|bob    | prints variable 'bob'         |\n",
    "|Ctrl-c | quit script as usual          |\n",
    "\n",
    "---\n",
    "### What Now?\n",
    "Have a go at the [exercises](https://belfasttechtraining.github.io/python-intro/exercises)\n",
    "\n",
    "---"
   ]
  },
  {
   "cell_type": "code",
   "execution_count": null,
   "metadata": {},
   "outputs": [],
   "source": []
  }
 ],
 "metadata": {
  "kernelspec": {
   "display_name": "Python 3",
   "language": "python",
   "name": "python3"
  },
  "language_info": {
   "codemirror_mode": {
    "name": "ipython",
    "version": 3
   },
   "file_extension": ".py",
   "mimetype": "text/x-python",
   "name": "python",
   "nbconvert_exporter": "python",
   "pygments_lexer": "ipython3",
   "version": "3.7.2"
  }
 },
 "nbformat": 4,
 "nbformat_minor": 2
}
